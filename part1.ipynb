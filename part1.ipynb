{
 "cells": [
  {
   "cell_type": "markdown",
   "id": "52aba839-225f-4afb-b9d1-7e2bcab1571b",
   "metadata": {},
   "source": [
    "# NSSP project 1\n",
    "### preprocessing and GLM analysis"
   ]
  },
  {
   "cell_type": "markdown",
   "id": "12236843-d438-433d-8729-4610891465f6",
   "metadata": {},
   "source": [
    "In this notebook, we aims to study the neural processing of emotionally provocative auditory stimuli."
   ]
  },
  {
   "cell_type": "markdown",
   "id": "80425a6a-5467-4aac-aa7c-ec7ca793e6b5",
   "metadata": {},
   "source": [
    "# Setup the notebook"
   ]
  },
  {
   "cell_type": "markdown",
   "id": "aff179b7-2adb-44ee-90da-0d6cdcc43636",
   "metadata": {},
   "source": [
    "### Import, setup FSL"
   ]
  },
  {
   "cell_type": "code",
   "execution_count": 42,
   "id": "5090af07-222f-4710-b30a-953dff8b7ee7",
   "metadata": {},
   "outputs": [],
   "source": [
    "%gui wx\n",
    "import sys\n",
    "import os\n",
    "import os.path as op\n",
    "\n",
    "#utility functions from previous labs\n",
    "import utils \n",
    "\n",
    "#to download the dataset from openneuro\n",
    "import subprocess\n",
    "import openneuro\n",
    "\n",
    "#############################\n",
    "# Loading fsl and freesurfer within Neurodesk\n",
    "# You can find the list of available other modules by clicking on the \"Softwares\" tab on the left\n",
    "#############################\n",
    "import lmod\n",
    "await lmod.purge(force=True)\n",
    "await lmod.load('fsl/6.0.7.4')\n",
    "await lmod.load('freesurfer/7.4.1')\n",
    "await lmod.list()\n",
    "\n",
    "###################\n",
    "# Load all relevant libraries for the lab\n",
    "##################\n",
    "import fsl.wrappers\n",
    "from fsl.wrappers import fslmaths\n",
    "\n",
    "# FSL function wrappers which we will call from python directly\n",
    "from fsl.wrappers import fast, bet\n",
    "from fsl.wrappers.misc import fslroi\n",
    "from fsl.wrappers import flirt\n",
    "from fsl.wrappers import mcflirt\n",
    "\n",
    "from mne.datasets import sample\n",
    "from mne_bids import BIDSPath, read_raw_bids, print_dir_tree, make_report\n",
    "\n",
    "#concatenation\n",
    "import mne_nirs\n",
    "import nilearn\n",
    "from nilearn.image import concat_imgs, mean_img\n",
    "import nibabel as nib\n",
    "\n",
    "import ants\n",
    "\n",
    "# General purpose imports to handle paths, files etc\n",
    "import glob\n",
    "import pandas as pd\n",
    "import numpy as np\n",
    "import json\n",
    "import subprocess\n",
    "\n",
    "import matplotlib.pyplot as plt\n",
    "\n",
    "#GLM\n",
    "import nibabel as nib\n",
    "from nilearn.glm import threshold_stats_img\n",
    "from nilearn.plotting import plot_stat_map,plot_design_matrix,plot_contrast_matrix\n",
    "from nilearn.glm.first_level import make_first_level_design_matrix, FirstLevelModel"
   ]
  },
  {
   "cell_type": "code",
   "execution_count": 2,
   "id": "dbcfa0b7-af69-4f6b-949d-6581f17d7916",
   "metadata": {
    "scrolled": true
   },
   "outputs": [
    {
     "name": "stderr",
     "output_type": "stream",
     "text": [
      "15:28:11: Debug: Adding duplicate image handler for 'Windows bitmap file'\n",
      "15:28:11: Debug: Adding duplicate animation handler for '1' type\n",
      "15:28:11: Debug: Adding duplicate animation handler for '2' type\n",
      "15:28:11: Debug: Adding duplicate image handler for 'Windows bitmap file'\n",
      "15:28:11: Debug: Adding duplicate animation handler for '1' type\n",
      "15:28:11: Debug: Adding duplicate animation handler for '2' type\n",
      "\n",
      "(ipykernel_launcher.py:429): Gtk-CRITICAL **: 15:28:11.950: gtk_window_resize: assertion 'height > 0' failed\n"
     ]
    }
   ],
   "source": [
    "####################\n",
    "# Setup FSL path\n",
    "####################\n",
    "utils.loadFSL()\n",
    "################\n",
    "# Start FSLeyes \n",
    "################\n",
    "fsleyesDisplay = utils.FSLeyesServer()\n",
    "fsleyesDisplay.show()"
   ]
  },
  {
   "cell_type": "code",
   "execution_count": 3,
   "id": "64111d20-6071-4674-9013-645dc0201e93",
   "metadata": {},
   "outputs": [],
   "source": [
    "#We define the parameters RERUN to rerun all the transform, if false it will use the saved files.\n",
    "RERUN = False"
   ]
  },
  {
   "cell_type": "markdown",
   "id": "84eda6c5-90f3-46e3-bb99-0ff84f6a0d3a",
   "metadata": {
    "jp-MarkdownHeadingCollapsed": true
   },
   "source": [
    "### Download and explore the dataset"
   ]
  },
  {
   "cell_type": "code",
   "execution_count": 6,
   "id": "88c29734-32b9-44e1-8c4f-5106531b9807",
   "metadata": {
    "scrolled": true
   },
   "outputs": [
    {
     "name": "stderr",
     "output_type": "stream",
     "text": [
      "\u001b[33mUsage: \u001b[0mopenneuro-py download [OPTIONS]\n",
      "\u001b[2mTry \u001b[0m\u001b[2;34m'openneuro-py download \u001b[0m\u001b[1;2;34m-\u001b[0m\u001b[1;2;34m-help\u001b[0m\u001b[2;34m'\u001b[0m\u001b[2m for help.\u001b[0m\n",
      "\u001b[31m╭─\u001b[0m\u001b[31m Error \u001b[0m\u001b[31m─────────────────────────────────────────────────────────────────────\u001b[0m\u001b[31m─╮\u001b[0m\n",
      "\u001b[31m│\u001b[0m No such option: \u001b[1;36m-\u001b[0m\u001b[1;36m-target_dir\u001b[0m Did you mean \u001b[1;36m-\u001b[0m\u001b[1;36m-target\u001b[0m\u001b[1;36m-dir\u001b[0m?                      \u001b[31m│\u001b[0m\n",
      "\u001b[31m╰──────────────────────────────────────────────────────────────────────────────╯\u001b[0m\n"
     ]
    },
    {
     "ename": "CalledProcessError",
     "evalue": "Command '['openneuro-py', 'download', '--dataset', 'ds000171', '--target_dir', '/data/dataset/ds000171', '--include', 'sub-control01']' returned non-zero exit status 2.",
     "output_type": "error",
     "traceback": [
      "\u001b[0;31m---------------------------------------------------------------------------\u001b[0m",
      "\u001b[0;31mCalledProcessError\u001b[0m                        Traceback (most recent call last)",
      "Cell \u001b[0;32mIn[6], line 28\u001b[0m\n\u001b[1;32m     26\u001b[0m \u001b[38;5;66;03m#run this line only if you dont have the dataset \u001b[39;00m\n\u001b[1;32m     27\u001b[0m \u001b[38;5;28;01mif\u001b[39;00m RERUN :\n\u001b[0;32m---> 28\u001b[0m     \u001b[43msubprocess\u001b[49m\u001b[38;5;241;43m.\u001b[39;49m\u001b[43mrun\u001b[49m\u001b[43m(\u001b[49m\u001b[43m[\u001b[49m\u001b[38;5;124;43m\"\u001b[39;49m\u001b[38;5;124;43mopenneuro-py\u001b[39;49m\u001b[38;5;124;43m\"\u001b[39;49m\u001b[43m,\u001b[49m\u001b[43m \u001b[49m\u001b[38;5;124;43m\"\u001b[39;49m\u001b[38;5;124;43mdownload\u001b[39;49m\u001b[38;5;124;43m\"\u001b[39;49m\u001b[43m,\u001b[49m\u001b[43m \u001b[49m\u001b[38;5;124;43m\"\u001b[39;49m\u001b[38;5;124;43m--dataset\u001b[39;49m\u001b[38;5;124;43m\"\u001b[39;49m\u001b[43m,\u001b[49m\u001b[43m \u001b[49m\u001b[43mdataset\u001b[49m\u001b[43m,\u001b[49m\u001b[43m \u001b[49m\u001b[38;5;124;43m\"\u001b[39;49m\u001b[38;5;124;43m--target_dir\u001b[39;49m\u001b[38;5;124;43m\"\u001b[39;49m\u001b[43m,\u001b[49m\u001b[43m \u001b[49m\u001b[43mbids_root\u001b[49m\u001b[43m,\u001b[49m\u001b[38;5;124;43m\"\u001b[39;49m\u001b[38;5;124;43m--include\u001b[39;49m\u001b[38;5;124;43m\"\u001b[39;49m\u001b[43m,\u001b[49m\u001b[43msubject\u001b[49m\u001b[43m]\u001b[49m\u001b[43m,\u001b[49m\u001b[43m \u001b[49m\u001b[43mcheck\u001b[49m\u001b[38;5;241;43m=\u001b[39;49m\u001b[38;5;28;43;01mTrue\u001b[39;49;00m\u001b[43m)\u001b[49m\n",
      "File \u001b[0;32m/opt/conda/lib/python3.11/subprocess.py:571\u001b[0m, in \u001b[0;36mrun\u001b[0;34m(input, capture_output, timeout, check, *popenargs, **kwargs)\u001b[0m\n\u001b[1;32m    569\u001b[0m     retcode \u001b[38;5;241m=\u001b[39m process\u001b[38;5;241m.\u001b[39mpoll()\n\u001b[1;32m    570\u001b[0m     \u001b[38;5;28;01mif\u001b[39;00m check \u001b[38;5;129;01mand\u001b[39;00m retcode:\n\u001b[0;32m--> 571\u001b[0m         \u001b[38;5;28;01mraise\u001b[39;00m CalledProcessError(retcode, process\u001b[38;5;241m.\u001b[39margs,\n\u001b[1;32m    572\u001b[0m                                  output\u001b[38;5;241m=\u001b[39mstdout, stderr\u001b[38;5;241m=\u001b[39mstderr)\n\u001b[1;32m    573\u001b[0m \u001b[38;5;28;01mreturn\u001b[39;00m CompletedProcess(process\u001b[38;5;241m.\u001b[39margs, retcode, stdout, stderr)\n",
      "\u001b[0;31mCalledProcessError\u001b[0m: Command '['openneuro-py', 'download', '--dataset', 'ds000171', '--target_dir', '/data/dataset/ds000171', '--include', 'sub-control01']' returned non-zero exit status 2."
     ]
    }
   ],
   "source": [
    "#download the dataset\n",
    "\n",
    "#\"https://openneuro.org/datasets/ds000171/versions/00001\"\n",
    "dataset= 'ds000171'\n",
    "version = '00001'\n",
    "subject = 'sub-control01'\n",
    "subjectID = 'control01'\n",
    "\n",
    "#path to save\n",
    "sample_path = \"dataset\"\n",
    "utils.mkdir_no_exist(sample_path)\n",
    "\n",
    "# Construct paths\n",
    "bids_root = os.path.join(os.path.abspath(\"\"), sample_path, dataset)\n",
    "deriv_root = os.path.join(bids_root, 'derivatives')\n",
    "preproc_root = op.join(bids_root, 'derivatives','preprocessed_data')\n",
    "\n",
    "#folder for derivative and preprocess\n",
    "utils.mkdir_no_exist(deriv_root)\n",
    "utils.mkdir_no_exist(preproc_root)\n",
    "utils.mkdir_no_exist(op.join(preproc_root, subject))\n",
    "utils.mkdir_no_exist(op.join(preproc_root, subject, 'anat'))\n",
    "utils.mkdir_no_exist(op.join(preproc_root, subject, 'func'))\n",
    "utils.mkdir_no_exist(op.join(preproc_root, subject, 'fmap'))\n",
    "\n",
    "#run this line only if you dont have the dataset \n",
    "if RERUN :\n",
    "    subprocess.run([\"openneuro-py\", \"download\", \"--dataset\", dataset, \"--target_dir\", bids_root,\"--include\",subject], check=True)"
   ]
  },
  {
   "cell_type": "code",
   "execution_count": 7,
   "id": "a7299358-0896-4c17-a676-1677f0d352e7",
   "metadata": {
    "scrolled": true
   },
   "outputs": [
    {
     "name": "stdout",
     "output_type": "stream",
     "text": [
      "|ds000171/\n",
      "|--- CHANGES\n",
      "|--- README\n",
      "|--- T1w.json\n",
      "|--- dataset_description.json\n",
      "|--- participants.tsv\n",
      "|--- task-music_bold.json\n",
      "|--- derivatives/\n",
      "|------ preprocessed_data/\n",
      "|--------- sub-control01/\n",
      "|------------ anat/\n",
      "|--------------- sub-control01_T1w.nii.gz\n",
      "|--------------- sub-control01_T1w_fast_mixeltype.nii.gz\n",
      "|--------------- sub-control01_T1w_fast_pve_0.nii.gz\n",
      "|--------------- sub-control01_T1w_fast_pve_1.nii.gz\n",
      "|--------------- sub-control01_T1w_fast_pve_2.nii.gz\n",
      "|--------------- sub-control01_T1w_fast_pveseg.nii.gz\n",
      "|--------------- sub-control01_T1w_fast_seg.nii.gz\n",
      "|--------------- sub-control01_T1w_mask.nii.gz\n",
      "|--------------- sub-control01_T1w_mask_handmodif.nii.gz\n",
      "|--------------- sub-control01_T1w_mni.nii.gz\n",
      "|--------------- sub-control01_T1w_mni_SyN.nii.gz\n",
      "|------------ fmap/\n",
      "|------------ func/\n",
      "|--------------- sub-control01_all_task_bold.nii\n",
      "|--------------- sub-control01_all_task_bold_bbr.mat\n",
      "|--------------- sub-control01_all_task_bold_bbr.nii.gz\n",
      "|--------------- sub-control01_all_task_bold_bbr_fast_wmedge.nii.gz\n",
      "|--------------- sub-control01_all_task_bold_bbr_fast_wmseg.nii.gz\n",
      "|--------------- sub-control01_all_task_bold_bbr_init.mat\n",
      "|--------------- sub-control01_all_task_bold_bbr_smoothed-6mm.nii.gz\n",
      "|--------------- sub-control01_all_task_bold_moco.nii.gz\n",
      "|--------------- sub-control01_all_task_bold_moco.par\n",
      "|--------------- sub-control01_all_task_bold_moco_vol_middle.nii.gz\n",
      "|--------------- sub-control01_task-music_run-1_bold_standardize.nii\n",
      "|--------------- sub-control01_task-music_run-2_bold_standardize.nii\n",
      "|--------------- sub-control01_task-music_run-3_bold_standardize.nii\n",
      "|--------------- .ipynb_checkpoints/\n",
      "|--------------- sub-control01_all_task_bold_moco.mat/\n",
      "|--------------- sub-control01_all_task_bold_moco.mat+/\n",
      "|--------------- sub-control01_all_task_bold_moco.mat++/\n",
      "|--------------- sub-control01_all_task_bold_moco.mat+++/\n",
      "|--------------- sub-control01_all_task_bold_moco.mat++++/\n",
      "|--------------- sub-control01_all_task_bold_moco.mat+++++/\n",
      "|--- sub-control01/\n",
      "|------ anat/\n",
      "|--------- sub-control01_T1w.nii.gz\n",
      "|------ func/\n",
      "|--------- sub-control01_task-music_run-1_bold.nii.gz\n",
      "|--------- sub-control01_task-music_run-1_events.tsv\n",
      "|--------- sub-control01_task-music_run-2_bold.nii.gz\n",
      "|--------- sub-control01_task-music_run-2_events.tsv\n",
      "|--------- sub-control01_task-music_run-3_bold.nii.gz\n",
      "|--------- sub-control01_task-music_run-3_events.tsv\n",
      "|--------- sub-control01_task-nonmusic_run-4_bold.nii.gz\n",
      "|--------- sub-control01_task-nonmusic_run-4_events.tsv\n",
      "|--------- sub-control01_task-nonmusic_run-5_bold.nii.gz\n",
      "|--------- sub-control01_task-nonmusic_run-5_events.tsv\n",
      "|--------- .ipynb_checkpoints/\n",
      "|------------ sub-control01_task-music_run-2_events-checkpoint.tsv\n"
     ]
    }
   ],
   "source": [
    "# explore the dataset folder\n",
    "print_dir_tree(bids_root,5)"
   ]
  },
  {
   "cell_type": "code",
   "execution_count": 8,
   "id": "d9959981-5d94-42f1-9f7e-cb831bb76939",
   "metadata": {},
   "outputs": [
    {
     "data": {
      "text/plain": [
       "{'TaskName': 'Music',\n",
       " 'RepetitionTime': 3.0,\n",
       " 'EchoTime': 0.025,\n",
       " 'FlipAngle': 90.0,\n",
       " 'SequenceName': 'EPI BOLD',\n",
       " 'Manufacturer': 'Siemens',\n",
       " 'ManufacturersModelName': 'Skyra',\n",
       " 'MagneticFieldStrength': 3.0,\n",
       " 'ParallelImagingReductionFactor': 0,\n",
       " 'SliceTimingComputationMethod': '(slicenum*RepetitionTime/TotalSlices), interleaved according to Siemens even-numbered slice convention (even slices first).',\n",
       " 'SliceTiming': [1.5,\n",
       "  0.0,\n",
       "  1.56,\n",
       "  0.06,\n",
       "  1.62,\n",
       "  0.12,\n",
       "  1.68,\n",
       "  0.18,\n",
       "  1.74,\n",
       "  0.24,\n",
       "  1.8,\n",
       "  0.3,\n",
       "  1.86,\n",
       "  0.36,\n",
       "  1.92,\n",
       "  0.42,\n",
       "  1.98,\n",
       "  0.48,\n",
       "  2.04,\n",
       "  0.54,\n",
       "  2.1,\n",
       "  0.6,\n",
       "  2.16,\n",
       "  0.66,\n",
       "  2.22,\n",
       "  0.72,\n",
       "  2.28,\n",
       "  0.78,\n",
       "  2.34,\n",
       "  0.84,\n",
       "  2.4,\n",
       "  0.9,\n",
       "  2.46,\n",
       "  0.96,\n",
       "  2.52,\n",
       "  1.02,\n",
       "  2.58,\n",
       "  1.08,\n",
       "  2.64,\n",
       "  1.14,\n",
       "  2.7,\n",
       "  1.2,\n",
       "  2.76,\n",
       "  1.26,\n",
       "  2.82,\n",
       "  1.32,\n",
       "  2.88,\n",
       "  1.38,\n",
       "  2.94,\n",
       "  1.44]}"
      ]
     },
     "execution_count": 8,
     "metadata": {},
     "output_type": "execute_result"
    }
   ],
   "source": [
    "data_description = utils.get_json_from_file(op.join(bids_root,'dataset_description.json'))\n",
    "data_description\n",
    "\n",
    "data_task = utils.get_json_from_file(op.join(bids_root,'task-music_bold.json'))\n",
    "data_task"
   ]
  },
  {
   "cell_type": "code",
   "execution_count": 9,
   "id": "06435194-895c-40f4-9997-76d64f67b82b",
   "metadata": {},
   "outputs": [],
   "source": [
    "# explore anatomical\n",
    "# fsleyesDisplay.resetOverlays()\n",
    "# fsleyesDisplay.load(op.join(bids_root, subject,'anat','sub-control01_T1w.nii.gz'))\n",
    "\n",
    "# explore one functional \n",
    "#fsleyesDisplay.resetOverlays()\n",
    "#fsleyesDisplay.load(op.join(bids_root, subject,'func','sub-control01_task-music_run-1_bold.nii.gz'))"
   ]
  },
  {
   "cell_type": "markdown",
   "id": "18a293aa-bc51-4494-98ba-6ed4c22b6bc4",
   "metadata": {},
   "source": [
    "# Pre-processing"
   ]
  },
  {
   "cell_type": "markdown",
   "id": "0b1ca0a2-0aa6-4d69-9121-3c85b74242bd",
   "metadata": {
    "jp-MarkdownHeadingCollapsed": true
   },
   "source": [
    "Prior to analysis we need to pre process the data.\n",
    "We will standardize each run of interest of sub-control01 and concatenate all together.<br/>\n",
    "Then,we will apply standard preprocessing steps.\n",
    "\n",
    "<b>Anatomical preprocessing</b>\n",
    "1. Skull stripping\n",
    "2. segmentation\n",
    "3. Coregistration & Normalisation\n",
    "\n",
    "<b>functional preprocessing</b>\n",
    "1. standardisation\n",
    "2. concatenation\n",
    "3. motion correction\n",
    "4. Coregistration & normalisation\n",
    "5. smoothing"
   ]
  },
  {
   "cell_type": "markdown",
   "id": "abbd45f5-85c8-412c-914d-ac34ba187b47",
   "metadata": {},
   "source": [
    "## Anatomical preprocessing"
   ]
  },
  {
   "cell_type": "markdown",
   "id": "b6ccdfb9-6389-48bb-8e21-c45c708e9470",
   "metadata": {
    "jp-MarkdownHeadingCollapsed": true
   },
   "source": [
    "### 1.1 Skull stripping"
   ]
  },
  {
   "cell_type": "code",
   "execution_count": 10,
   "id": "c951089c-9799-4986-9e31-f2ee825f4c72",
   "metadata": {},
   "outputs": [
    {
     "name": "stdout",
     "output_type": "stream",
     "text": [
      "Done with BET.\n"
     ]
    }
   ],
   "source": [
    "#Skull stripping \n",
    "def get_skull_stripped_anatomical(bids_root, preproc_root, subject_id, robust=False):\n",
    "    \"\"\"\n",
    "    Parameters\n",
    "    ----------\n",
    "    bids_root: string\n",
    "        The root of the BIDS directory\n",
    "    preproc_root: string\n",
    "        The root of the preprocessed data, where the result of the brain extraction will be saved.\n",
    "    subject_id: string\n",
    "        Subject ID, the subject on which brain extraction should be conducted.\n",
    "    robust: bool\n",
    "        Whether to conduct robust center estimation with BET or not. Default is False.\n",
    "    \"\"\"\n",
    "    # We perform here skull stripping\n",
    "    subject = 'sub-{}'.format(subject_id)\n",
    "    anatomical_path = op.join(bids_root, subject, 'anat', 'sub-{}_T1w.nii.gz'.format(subject_id))\n",
    "    betted_brain_path = op.join(preproc_root, subject, 'anat', 'sub-{}_T1w'.format(subject_id))\n",
    "    \n",
    "    os.system('bet {} {} -m {}'.format(anatomical_path, betted_brain_path, '-R' if robust else ''))\n",
    "    print(\"Done with BET.\")\n",
    "\n",
    "resulting_mask_path = op.join(preproc_root, subject, 'anat', 'sub-{}_T1w_mask'.format(subjectID))\n",
    "\n",
    "if RERUN :\n",
    "    get_skull_stripped_anatomical(bids_root, preproc_root, subjectID,robust=True)"
   ]
  },
  {
   "cell_type": "code",
   "execution_count": 11,
   "id": "2d96ea3c-93ec-43dc-8c1d-4cb353fb8479",
   "metadata": {},
   "outputs": [],
   "source": [
    "#display the mask and observe that the skull is correctely removed\n",
    "#fsleyesDisplay.load(resulting_mask_path)"
   ]
  },
  {
   "cell_type": "markdown",
   "id": "fd358bf2-144b-4b97-8cb5-ad8f41405f46",
   "metadata": {},
   "source": [
    "After verification and manual corrections, we consider the skull tripping mask good enough. We apply the mask.\n",
    "Attention : if not handmodified, do\n"
   ]
  },
  {
   "cell_type": "code",
   "execution_count": 12,
   "id": "50e59b16-028b-4030-9224-a8ca456bb409",
   "metadata": {},
   "outputs": [],
   "source": [
    "def apply_fsl_math_approach(img_path, mask_path, masked_img_path):\n",
    "    \"\"\"\n",
    "    Apply a mask\n",
    "    \"\"\"\n",
    "    os.system('fslmaths {} -mas {} {}'.format(img_path, mask_path, masked_img_path))\n",
    "    \n",
    "\n",
    "anatomical_path = op.join(bids_root, subject, 'anat', 'sub-{}_T1w'.format(subjectID)) # The original brain\n",
    "betted_brain_path = op.join(preproc_root, subject, 'anat', 'sub-{}_T1w'.format(subjectID)) # The brain without skull is in the derivatives folder\n",
    "resulting_mask_path = op.join(preproc_root, subject, 'anat', 'sub-{}_T1w_mask_handmodif'.format(subjectID)) # The mask to use\n",
    "#resulting_mask_path = op.join(preproc_root, subject, 'anat', 'sub-{}_T1w_mask'.format(subjectID))\n",
    "\n",
    "if RERUN :\n",
    "    apply_fsl_math_approach(anatomical_path, resulting_mask_path, betted_brain_path)"
   ]
  },
  {
   "cell_type": "code",
   "execution_count": 13,
   "id": "9f1ffffa-fe42-4002-b409-09eeb9b488e6",
   "metadata": {},
   "outputs": [],
   "source": [
    "#display the brain without the skull\n",
    "#fsleyesDisplay.load(betted_brain_path)"
   ]
  },
  {
   "cell_type": "markdown",
   "id": "16ebdacd-65f1-440f-86ff-32fb55593cd4",
   "metadata": {
    "jp-MarkdownHeadingCollapsed": true
   },
   "source": [
    "### 1.2 Tissue Segmentation"
   ]
  },
  {
   "cell_type": "code",
   "execution_count": 14,
   "id": "65fea268-7f8c-49f1-b8db-842e1afb1870",
   "metadata": {},
   "outputs": [],
   "source": [
    "#segmentation\n",
    "segmentation_path = op.join(preproc_root, subject, 'anat', 'sub-{}_T1w_fast'.format(subjectID))\n",
    "\n",
    "if RERUN : \n",
    "    [os.remove(f) for f in glob.glob(op.join(preproc_root, subject, 'anat', '*fast*'))] # Just to clean the directory in between runs of the cell\n",
    "    fast(imgs=[betted_brain_path], out=segmentation_path, n_classes=3)"
   ]
  },
  {
   "cell_type": "code",
   "execution_count": 15,
   "id": "eaeb3e68-1491-4a28-a76c-e81f6ea226f5",
   "metadata": {},
   "outputs": [
    {
     "name": "stdout",
     "output_type": "stream",
     "text": [
      "|ds000171/\n",
      "|--- CHANGES\n",
      "|--- README\n",
      "|--- T1w.json\n",
      "|--- dataset_description.json\n",
      "|--- participants.tsv\n",
      "|--- task-music_bold.json\n",
      "|--- derivatives/\n",
      "|------ preprocessed_data/\n",
      "|--------- sub-control01/\n",
      "|------------ anat/\n",
      "|--------------- sub-control01_T1w.nii.gz\n",
      "|--------------- sub-control01_T1w_fast_mixeltype.nii.gz\n",
      "|--------------- sub-control01_T1w_fast_pve_0.nii.gz\n",
      "|--------------- sub-control01_T1w_fast_pve_1.nii.gz\n",
      "|--------------- sub-control01_T1w_fast_pve_2.nii.gz\n",
      "|--------------- sub-control01_T1w_fast_pveseg.nii.gz\n",
      "|--------------- sub-control01_T1w_fast_seg.nii.gz\n",
      "|--------------- sub-control01_T1w_mask.nii.gz\n",
      "|--------------- sub-control01_T1w_mask_handmodif.nii.gz\n",
      "|--------------- sub-control01_T1w_mni.nii.gz\n",
      "|--------------- sub-control01_T1w_mni_SyN.nii.gz\n",
      "|------------ fmap/\n",
      "|------------ func/\n",
      "|--------------- sub-control01_all_task_bold.nii\n",
      "|--------------- sub-control01_all_task_bold_bbr.mat\n",
      "|--------------- sub-control01_all_task_bold_bbr.nii.gz\n",
      "|--------------- sub-control01_all_task_bold_bbr_fast_wmedge.nii.gz\n",
      "|--------------- sub-control01_all_task_bold_bbr_fast_wmseg.nii.gz\n",
      "|--------------- sub-control01_all_task_bold_bbr_init.mat\n",
      "|--------------- sub-control01_all_task_bold_bbr_smoothed-6mm.nii.gz\n",
      "|--------------- sub-control01_all_task_bold_moco.nii.gz\n",
      "|--------------- sub-control01_all_task_bold_moco.par\n",
      "|--------------- sub-control01_all_task_bold_moco_vol_middle.nii.gz\n",
      "|--------------- sub-control01_task-music_run-1_bold_standardize.nii\n",
      "|--------------- sub-control01_task-music_run-2_bold_standardize.nii\n",
      "|--------------- sub-control01_task-music_run-3_bold_standardize.nii\n",
      "|--------------- .ipynb_checkpoints/\n",
      "|--------------- sub-control01_all_task_bold_moco.mat/\n",
      "|--------------- sub-control01_all_task_bold_moco.mat+/\n",
      "|--------------- sub-control01_all_task_bold_moco.mat++/\n",
      "|--------------- sub-control01_all_task_bold_moco.mat+++/\n",
      "|--------------- sub-control01_all_task_bold_moco.mat++++/\n",
      "|--------------- sub-control01_all_task_bold_moco.mat+++++/\n",
      "|--- sub-control01/\n",
      "|------ anat/\n",
      "|--------- sub-control01_T1w.nii.gz\n",
      "|------ func/\n",
      "|--------- sub-control01_task-music_run-1_bold.nii.gz\n",
      "|--------- sub-control01_task-music_run-1_events.tsv\n",
      "|--------- sub-control01_task-music_run-2_bold.nii.gz\n",
      "|--------- sub-control01_task-music_run-2_events.tsv\n",
      "|--------- sub-control01_task-music_run-3_bold.nii.gz\n",
      "|--------- sub-control01_task-music_run-3_events.tsv\n",
      "|--------- sub-control01_task-nonmusic_run-4_bold.nii.gz\n",
      "|--------- sub-control01_task-nonmusic_run-4_events.tsv\n",
      "|--------- sub-control01_task-nonmusic_run-5_bold.nii.gz\n",
      "|--------- sub-control01_task-nonmusic_run-5_events.tsv\n",
      "|--------- .ipynb_checkpoints/\n",
      "|------------ sub-control01_task-music_run-2_events-checkpoint.tsv\n"
     ]
    }
   ],
   "source": [
    "print_dir_tree(bids_root, max_depth=5)"
   ]
  },
  {
   "cell_type": "code",
   "execution_count": 16,
   "id": "1740cae9-9972-4809-81d8-2cb5779b0eff",
   "metadata": {},
   "outputs": [],
   "source": [
    "#fsleyesDisplay.resetOverlays()\n",
    "#fsleyesDisplay.load(betted_brain_path)\n",
    "#fsleyesDisplay.load(glob.glob(op.join(preproc_root, subject, 'anat','*pve_0*'))[0])\n",
    "#fsleyesDisplay.load(glob.glob(op.join(preproc_root, subject, 'anat','*pve_1*'))[0])\n",
    "#fsleyesDisplay.load(glob.glob(op.join(preproc_root, subject, 'anat','*pve_2*'))[0])\n",
    "#fsleyesDisplay.displayCtx.getOpts(fsleyesDisplay.overlayList[1]).cmap = 'Red'\n",
    "#fsleyesDisplay.displayCtx.getOpts(fsleyesDisplay.overlayList[2]).cmap = 'Green'\n",
    "#fsleyesDisplay.displayCtx.getOpts(fsleyesDisplay.overlayList[3]).cmap = 'Blue'"
   ]
  },
  {
   "cell_type": "markdown",
   "id": "fdfe63f3-4c1a-42e8-8fe4-3c8d05d13107",
   "metadata": {},
   "source": [
    "The segmentation correctely separated grey matter, white matter and cerebrospinal fluid."
   ]
  },
  {
   "cell_type": "markdown",
   "id": "6251881c-a466-4ceb-b66e-f84ed8d95df9",
   "metadata": {
    "jp-MarkdownHeadingCollapsed": true
   },
   "source": [
    "### 1.3 Anatomical normalization"
   ]
  },
  {
   "cell_type": "code",
   "execution_count": 18,
   "id": "4b28b3a1-8c52-40a3-9970-01231dbffb25",
   "metadata": {},
   "outputs": [
    {
     "name": "stdout",
     "output_type": "stream",
     "text": [
      "\n",
      "Final result: \n",
      "0.003263 0.005586 -1.115142 204.728079 \n",
      "-0.932711 0.501905 0.006405 178.470887 \n",
      "0.502483 1.049173 -0.003890 -149.891913 \n",
      "0.000000 0.000000 0.000000 1.000000 \n",
      "\n"
     ]
    }
   ],
   "source": [
    "#Coregistration\n",
    "\n",
    "mni_template = op.expandvars(op.join('$FSLDIR', 'data', 'standard', 'MNI152_T1_1mm_brain'))\n",
    "\n",
    "target = betted_brain_path\n",
    "reference = mni_template\n",
    "\n",
    "#FLIRT Linear\n",
    "result = op.join(preproc_root, subject, 'anat', 'sub-{}_T1w_mni'.format(subjectID))\n",
    "if RERUN :\n",
    "    flirt(target, reference, out=result)\n",
    "\n",
    "#FNIRT non-linear\n",
    "resultAnts = op.join(preproc_root, subject, 'anat', 'sub-{}_T1w_mni_SyN.nii.gz'.format(subjectID))\n",
    "if RERUN :\n",
    "    moving_image = ants.image_read(target + '.nii.gz')\n",
    "    fixed_image = ants.image_read(reference + '.nii.gz')\n",
    "\n",
    "    transformation = ants.registration(fixed=fixed_image, moving=moving_image, type_of_transform = 'SyN' )\n",
    "    warpedImage = ants.apply_transforms(fixed=fixed_image, moving=moving_image, transformlist=transformation['fwdtransforms'])\n",
    "    ants.image_write(warpedImage, resultAnts)"
   ]
  },
  {
   "cell_type": "code",
   "execution_count": 19,
   "id": "be18ac31-7558-41af-9f0f-6c65b6df7a2b",
   "metadata": {},
   "outputs": [],
   "source": [
    "#display the coregistred brain\n",
    "#fsleyesDisplay.resetOverlays()\n",
    "#fsleyesDisplay.load(reference)\n",
    "#fsleyesDisplay.load(result)\n",
    "#fsleyesDisplay.load(resultAnts)"
   ]
  },
  {
   "cell_type": "markdown",
   "id": "45843cb2-0e08-478e-913b-6884c3e00e7f",
   "metadata": {},
   "source": [
    "This step finish the anatomical preprocessing."
   ]
  },
  {
   "cell_type": "markdown",
   "id": "55ba19d0-2706-426f-8b68-a53316abf3f2",
   "metadata": {},
   "source": [
    "## functionnal preprocessing"
   ]
  },
  {
   "cell_type": "markdown",
   "id": "3760b686-027e-41d6-af2c-f3e113c307fd",
   "metadata": {
    "jp-MarkdownHeadingCollapsed": true
   },
   "source": [
    "### 1.1 Volume removal (check if necessary)"
   ]
  },
  {
   "cell_type": "code",
   "execution_count": 20,
   "id": "e92be069-b8ec-470c-9212-0944cee19d0e",
   "metadata": {},
   "outputs": [
    {
     "data": {
      "text/plain": [
       "Text(0, 0.5, 'Mean voxel intensity')"
      ]
     },
     "execution_count": 20,
     "metadata": {},
     "output_type": "execute_result"
    },
    {
     "data": {
      "image/png": "[encoded data removed]",
      "text/plain": [
       "<Figure size 640x480 with 1 Axes>"
      ]
     },
     "metadata": {},
     "output_type": "display_data"
    }
   ],
   "source": [
    "plt.plot(nib.load(op.join(bids_root, 'sub-control01','func', 'sub-control01_task-music_run-1_bold.nii.gz')).get_fdata().mean(axis=(0,1,2)))\n",
    "plt.xlabel('Time (volume)')\n",
    "plt.ylabel('Mean voxel intensity')\n",
    "#we see no need of volume removal here"
   ]
  },
  {
   "cell_type": "markdown",
   "id": "3e96396e-9574-41c0-a650-da652ecfb861",
   "metadata": {
    "jp-MarkdownHeadingCollapsed": true
   },
   "source": [
    "### 1.2 Standardization"
   ]
  },
  {
   "cell_type": "code",
   "execution_count": 21,
   "id": "2ded4c96-63ae-48df-978b-d1726bec57f9",
   "metadata": {},
   "outputs": [
    {
     "name": "stdout",
     "output_type": "stream",
     "text": [
      "|func/\n",
      "|--- sub-control01_task-music_run-1_bold.nii.gz\n",
      "|--- sub-control01_task-music_run-1_events.tsv\n",
      "|--- sub-control01_task-music_run-2_bold.nii.gz\n",
      "|--- sub-control01_task-music_run-2_events.tsv\n",
      "|--- sub-control01_task-music_run-3_bold.nii.gz\n",
      "|--- sub-control01_task-music_run-3_events.tsv\n",
      "|--- sub-control01_task-nonmusic_run-4_bold.nii.gz\n",
      "|--- sub-control01_task-nonmusic_run-4_events.tsv\n",
      "|--- sub-control01_task-nonmusic_run-5_bold.nii.gz\n",
      "|--- sub-control01_task-nonmusic_run-5_events.tsv\n",
      "|--- .ipynb_checkpoints/\n",
      "|------ sub-control01_task-music_run-2_events-checkpoint.tsv\n"
     ]
    }
   ],
   "source": [
    "print_dir_tree(op.join(bids_root, subject, 'func')) #functionnal directory"
   ]
  },
  {
   "cell_type": "code",
   "execution_count": 22,
   "id": "5d036f47-5aea-4d8b-acea-8ca389cc0498",
   "metadata": {},
   "outputs": [
    {
     "name": "stdout",
     "output_type": "stream",
     "text": [
      "(80, 80, 50, 105)\n",
      "(80, 80, 50, 105)\n",
      "(80, 80, 50, 105)\n",
      "3\n",
      "['/data/dataset/ds000171/sub-control01/func/sub-control01_task-music_run-1_bold.nii.gz', '/data/dataset/ds000171/sub-control01/func/sub-control01_task-music_run-2_bold.nii.gz', '/data/dataset/ds000171/sub-control01/func/sub-control01_task-music_run-3_bold.nii.gz']\n"
     ]
    }
   ],
   "source": [
    "import re\n",
    "\n",
    "func_dir = op.join(bids_root, subject, 'func')\n",
    "pattern = re.compile(r'^sub-control01_task-music_run-\\d+_bold\\.nii\\.gz$')\n",
    "file_paths = []\n",
    "\n",
    "# Check if the directory exists\n",
    "if os.path.exists(func_dir):\n",
    "    for file_name in os.listdir(func_dir):\n",
    "        # If the file name matches the pattern, add it to the array with the full path\n",
    "        if pattern.match(file_name):\n",
    "            full_path = os.path.join(func_dir, file_name)\n",
    "            file_paths.append(full_path)\n",
    "            mri = nib.load(full_path)\n",
    "            print(mri.shape)\n",
    "\n",
    "\n",
    "file_paths.sort()\n",
    "\n",
    "# Output the array of all runs\n",
    "print(len(file_paths))\n",
    "print(file_paths)"
   ]
  },
  {
   "cell_type": "code",
   "execution_count": 23,
   "id": "e4a3acc5-e3da-4abe-b7b8-54f162c96ff4",
   "metadata": {},
   "outputs": [],
   "source": [
    "#fsleyesDisplay.resetOverlays()\n",
    "#for file in file_paths :\n",
    "#    fsleyesDisplay.load(file)"
   ]
  },
  {
   "cell_type": "code",
   "execution_count": 24,
   "id": "ea634e3f-27f4-4d0e-b708-15b6ea385b3f",
   "metadata": {
    "scrolled": true
   },
   "outputs": [
    {
     "name": "stdout",
     "output_type": "stream",
     "text": [
      "task-music_run-1_bold\n",
      "task-music_run-2_bold\n",
      "task-music_run-3_bold\n"
     ]
    },
    {
     "data": {
      "text/plain": [
       "['/data/dataset/ds000171/derivatives/preprocessed_data/sub-control01/func/sub-control01_task-music_run-1_bold_standardize.nii',\n",
       " '/data/dataset/ds000171/derivatives/preprocessed_data/sub-control01/func/sub-control01_task-music_run-2_bold_standardize.nii',\n",
       " '/data/dataset/ds000171/derivatives/preprocessed_data/sub-control01/func/sub-control01_task-music_run-3_bold_standardize.nii']"
      ]
     },
     "execution_count": 24,
     "metadata": {},
     "output_type": "execute_result"
    }
   ],
   "source": [
    "def standardization(input_file):\n",
    "    \"\"\"\n",
    "    Apply z-score standardization to fMRI data\n",
    "\n",
    "    Parameters:\n",
    "    input_file (str): Path to the input\n",
    "    output_file (str): Path to save the standardized output \n",
    "    \"\"\"\n",
    "    # Check if input file exists\n",
    "    if not os.path.exists(input_file):\n",
    "        raise FileNotFoundError(f\"Input file not found: {input_file}\")\n",
    "\n",
    "    extract_name = '_'.join(os.path.basename(input_file).split('_')[1:]).rsplit('.', 2)[0]\n",
    "    print(extract_name)\n",
    "    output_file = os.path.join(preproc_root, subject, 'func', 'sub-{}_{}_standardize.nii'.format(subjectID,extract_name))\n",
    "    \n",
    "    # Load the image data\n",
    "    img = nib.load(input_file)\n",
    "    data = img.get_fdata()\n",
    "\n",
    "    # Calculate global mean and standard deviation\n",
    "    global_mean = data.mean()\n",
    "    global_std = data.std()\n",
    "\n",
    "    # Standardize the data (avoid division by zero)\n",
    "    standardized_data = (data - global_mean) / global_std if global_std > 0 else data\n",
    "\n",
    "    # Create a new Nifti image with the standardized data and save\n",
    "    standardized_img = nib.Nifti1Image(standardized_data, img.affine, img.header)\n",
    "    nib.save(standardized_img, output_file)\n",
    "\n",
    "    return output_file\n",
    "# Example usage:\n",
    "stand_file_paths = []\n",
    "for file in file_paths :\n",
    "    stand_file_paths.append(standardization(file))\n",
    "\n",
    "stand_file_paths"
   ]
  },
  {
   "cell_type": "markdown",
   "id": "dc5546d5-bcb9-42e1-8cab-dd109eb640a8",
   "metadata": {
    "jp-MarkdownHeadingCollapsed": true
   },
   "source": [
    "### 1.3 Concatenation"
   ]
  },
  {
   "cell_type": "code",
   "execution_count": 25,
   "id": "b6905d0c-8604-4b3d-bd83-8401feb89e09",
   "metadata": {},
   "outputs": [],
   "source": [
    "#fsleyesDisplay.resetOverlays()\n",
    "#for file in stand_file_paths :\n",
    "#    fsleyesDisplay.load(file)"
   ]
  },
  {
   "cell_type": "code",
   "execution_count": 26,
   "id": "efa99fa6-7405-48a2-8179-e894567dbbc6",
   "metadata": {},
   "outputs": [],
   "source": [
    "#concatenation\n",
    "\n",
    "concat_path = os.path.join(preproc_root, subject, 'func', 'sub-{}_all_task_bold'.format(subjectID))\n",
    "\n",
    "if  RERUN :\n",
    "    fmri_img = concat_imgs(stand_file_paths)\n",
    "    nib.save(fmri_img, concat_path)"
   ]
  },
  {
   "cell_type": "markdown",
   "id": "d9564ccd-89ad-40c8-bdad-2623e1034f81",
   "metadata": {
    "jp-MarkdownHeadingCollapsed": true
   },
   "source": [
    "### 1.4  Motion correction"
   ]
  },
  {
   "cell_type": "code",
   "execution_count": 27,
   "id": "2dbab1e9-0053-494c-a536-2d26ee239a91",
   "metadata": {},
   "outputs": [
    {
     "name": "stderr",
     "output_type": "stream",
     "text": [
      "Processed data will be saved as /data/dataset/ds000171/derivatives/preprocessed_data/sub-control01/func/sub-control01_all_task_bold_moco\n",
      "\n",
      "McFLIRT v 2.0 - FMRI motion correction\n",
      "\n",
      "Reading time series... \n",
      "first iteration - 8mm scaling, set tolerance\n",
      "Rescaling reference volume [157] to 8 mm pixels\n",
      "Registering volumes ... [158][159][160][161][162][163][164][165][166][167][168][169][170][171][172][173][174][175][176][177][178][179][180][181][182][183][184][185][186][187][188][189][190][191][192][193][194][195][196][197][198][199][200][201][202][203][204][205][206][207][208][209][210][211][212][213][214][215][216][217][218][219][220][221][222][223][224][225][226][227][228][229][230][231][232][233][234][235][236][237][238][239][240][241][242][243][244][245][246][247][248][249][250][251][252][253][254][255][256][257][258][259][260][261][262][263][264][265][266][267][268][269][270][271][272][273][274][275][276][277][278][279][280][281][282][283][284][285][286][287][288][289][290][291][292][293][294][295][296][297][298][299][300][301][302][303][304][305][306][307][308][309][310][311][312][313][314][156][155][154][153][152][151][150][149][148][147][146][145][144][143][142][141][140][139][138][137][136][135][134][133][132][131][130][129][128][127][126][125][124][123][122][121][120][119][118][117][116][115][114][113][112][111][110][109][108][107][106][105][104][103][102][101][100][99][98][97][96][95][94][93][92][91][90][89][88][87][86][85][84][83][82][81][80][79][78][77][76][75][74][73][72][71][70][69][68][67][66][65][64][63][62][61][60][59][58][57][56][55][54][53][52][51][50][49][48][47][46][45][44][43][42][41][40][39][38][37][36][35][34][33][32][31][30][29][28][27][26][25][24][23][22][21][20][19][18][17][16][15][14][13][12][11][10][9][8][7][6][5][4][3][2][1][0]\n",
      "second iteration - drop to 4mm scaling\n",
      "Rescaling reference volume [157] to 4 mm pixels\n",
      "Registering volumes ... [158][159][160][161][162][163][164][165][166][167][168][169][170][171][172][173][174][175][176][177][178][179][180][181][182][183][184][185][186][187][188][189][190][191][192][193][194][195][196][197][198][199][200][201][202][203][204][205][206][207][208][209][210][211][212][213][214][215][216][217][218][219][220][221][222][223][224][225][226][227][228][229][230][231][232][233][234][235][236][237][238][239][240][241][242][243][244][245][246][247][248][249][250][251][252][253][254][255][256][257][258][259][260][261][262][263][264][265][266][267][268][269][270][271][272][273][274][275][276][277][278][279][280][281][282][283][284][285][286][287][288][289][290][291][292][293][294][295][296][297][298][299][300][301][302][303][304][305][306][307][308][309][310][311][312][313][314][156][155][154][153][152][151][150][149][148][147][146][145][144][143][142][141][140][139][138][137][136][135][134][133][132][131][130][129][128][127][126][125][124][123][122][121][120][119][118][117][116][115][114][113][112][111][110][109][108][107][106][105][104][103][102][101][100][99][98][97][96][95][94][93][92][91][90][89][88][87][86][85][84][83][82][81][80][79][78][77][76][75][74][73][72][71][70][69][68][67][66][65][64][63][62][61][60][59][58][57][56][55][54][53][52][51][50][49][48][47][46][45][44][43][42][41][40][39][38][37][36][35][34][33][32][31][30][29][28][27][26][25][24][23][22][21][20][19][18][17][16][15][14][13][12][11][10][9][8][7][6][5][4][3][2][1][0]\n",
      "third iteration - 4mm scaling, eighth tolerance\n"
     ]
    },
    {
     "name": "stdout",
     "output_type": "stream",
     "text": [
      "refnum = 157\n",
      "Original_refvol = -1\n"
     ]
    },
    {
     "name": "stderr",
     "output_type": "stream",
     "text": [
      "Registering volumes ... [158][159][160][161][162][163][164][165][166][167][168][169][170][171][172][173][174][175][176][177][178][179][180][181][182][183][184][185][186][187][188][189][190][191][192][193][194][195][196][197][198][199][200][201][202][203][204][205][206][207][208][209][210][211][212][213][214][215][216][217][218][219][220][221][222][223][224][225][226][227][228][229][230][231][232][233][234][235][236][237][238][239][240][241][242][243][244][245][246][247][248][249][250][251][252][253][254][255][256][257][258][259][260][261][262][263][264][265][266][267][268][269][270][271][272][273][274][275][276][277][278][279][280][281][282][283][284][285][286][287][288][289][290][291][292][293][294][295][296][297][298][299][300][301][302][303][304][305][306][307][308][309][310][311][312][313][314][156][155][154][153][152][151][150][149][148][147][146][145][144][143][142][141][140][139][138][137][136][135][134][133][132][131][130][129][128][127][126][125][124][123][122][121][120][119][118][117][116][115][114][113][112][111][110][109][108][107][106][105][104][103][102][101][100][99][98][97][96][95][94][93][92][91][90][89][88][87][86][85][84][83][82][81][80][79][78][77][76][75][74][73][72][71][70][69][68][67][66][65][64][63][62][61][60][59][58][57][56][55][54][53][52][51][50][49][48][47][46][45][44][43][42][41][40][39][38][37][36][35][34][33][32][31][30][29][28][27][26][25][24][23][22][21][20][19][18][17][16][15][14][13][12][11][10][9][8][7][6][5][4][3][2][1][0]\n",
      "Saving motion corrected time series... \n"
     ]
    }
   ],
   "source": [
    "#motion correction\n",
    "\n",
    "path_moco_data = os.path.join(preproc_root, subject, 'func', 'sub-{}_all_task_bold_moco'.format(subjectID))\n",
    "\n",
    "if RERUN :\n",
    "    mcflirt(infile=concat_path,o=path_moco_data, plots=True, report=True, dof=6, mats=True)"
   ]
  },
  {
   "cell_type": "code",
   "execution_count": 28,
   "id": "ed11a05a-7e64-462f-b01c-6d319d3a640c",
   "metadata": {},
   "outputs": [],
   "source": [
    "#fsleyesDisplay.resetOverlays()\n",
    "#fsleyesDisplay.load(concat_path)\n",
    "#fsleyesDisplay.load(path_moco_data)"
   ]
  },
  {
   "cell_type": "code",
   "execution_count": 29,
   "id": "5242548f-2fb6-4d88-96ff-6026886b3676",
   "metadata": {},
   "outputs": [
    {
     "data": {
      "text/html": [
       "<div>\n",
       "<style scoped>\n",
       "    .dataframe tbody tr th:only-of-type {\n",
       "        vertical-align: middle;\n",
       "    }\n",
       "\n",
       "    .dataframe tbody tr th {\n",
       "        vertical-align: top;\n",
       "    }\n",
       "\n",
       "    .dataframe thead th {\n",
       "        text-align: right;\n",
       "    }\n",
       "</style>\n",
       "<table border=\"1\" class=\"dataframe\">\n",
       "  <thead>\n",
       "    <tr style=\"text-align: right;\">\n",
       "      <th></th>\n",
       "      <th>Rotation x</th>\n",
       "      <th>Rotation y</th>\n",
       "      <th>Rotation z</th>\n",
       "      <th>Translation x</th>\n",
       "      <th>Translation y</th>\n",
       "      <th>Translation z</th>\n",
       "    </tr>\n",
       "  </thead>\n",
       "  <tbody>\n",
       "    <tr>\n",
       "      <th>0</th>\n",
       "      <td>-0.002982</td>\n",
       "      <td>0.003060</td>\n",
       "      <td>-0.000131</td>\n",
       "      <td>-0.060372</td>\n",
       "      <td>-0.515789</td>\n",
       "      <td>-0.473079</td>\n",
       "    </tr>\n",
       "    <tr>\n",
       "      <th>1</th>\n",
       "      <td>-0.003427</td>\n",
       "      <td>0.003060</td>\n",
       "      <td>-0.000229</td>\n",
       "      <td>-0.074698</td>\n",
       "      <td>-0.494173</td>\n",
       "      <td>-0.463364</td>\n",
       "    </tr>\n",
       "    <tr>\n",
       "      <th>2</th>\n",
       "      <td>-0.003242</td>\n",
       "      <td>0.003177</td>\n",
       "      <td>-0.000197</td>\n",
       "      <td>-0.059108</td>\n",
       "      <td>-0.472619</td>\n",
       "      <td>-0.450286</td>\n",
       "    </tr>\n",
       "    <tr>\n",
       "      <th>3</th>\n",
       "      <td>-0.003235</td>\n",
       "      <td>0.003175</td>\n",
       "      <td>-0.000380</td>\n",
       "      <td>-0.074562</td>\n",
       "      <td>-0.482960</td>\n",
       "      <td>-0.463447</td>\n",
       "    </tr>\n",
       "    <tr>\n",
       "      <th>4</th>\n",
       "      <td>-0.002639</td>\n",
       "      <td>0.003060</td>\n",
       "      <td>-0.000313</td>\n",
       "      <td>-0.071470</td>\n",
       "      <td>-0.468797</td>\n",
       "      <td>-0.494620</td>\n",
       "    </tr>\n",
       "    <tr>\n",
       "      <th>...</th>\n",
       "      <td>...</td>\n",
       "      <td>...</td>\n",
       "      <td>...</td>\n",
       "      <td>...</td>\n",
       "      <td>...</td>\n",
       "      <td>...</td>\n",
       "    </tr>\n",
       "    <tr>\n",
       "      <th>310</th>\n",
       "      <td>0.009004</td>\n",
       "      <td>-0.000046</td>\n",
       "      <td>-0.001964</td>\n",
       "      <td>-0.087061</td>\n",
       "      <td>0.395507</td>\n",
       "      <td>0.240721</td>\n",
       "    </tr>\n",
       "    <tr>\n",
       "      <th>311</th>\n",
       "      <td>0.009023</td>\n",
       "      <td>-0.000047</td>\n",
       "      <td>-0.002066</td>\n",
       "      <td>-0.089177</td>\n",
       "      <td>0.372734</td>\n",
       "      <td>0.226257</td>\n",
       "    </tr>\n",
       "    <tr>\n",
       "      <th>312</th>\n",
       "      <td>0.009100</td>\n",
       "      <td>-0.000411</td>\n",
       "      <td>-0.002086</td>\n",
       "      <td>-0.087188</td>\n",
       "      <td>0.399878</td>\n",
       "      <td>0.224917</td>\n",
       "    </tr>\n",
       "    <tr>\n",
       "      <th>313</th>\n",
       "      <td>0.008964</td>\n",
       "      <td>-0.000582</td>\n",
       "      <td>-0.002106</td>\n",
       "      <td>-0.103967</td>\n",
       "      <td>0.370314</td>\n",
       "      <td>0.211559</td>\n",
       "    </tr>\n",
       "    <tr>\n",
       "      <th>314</th>\n",
       "      <td>0.008998</td>\n",
       "      <td>-0.000467</td>\n",
       "      <td>-0.002435</td>\n",
       "      <td>-0.126819</td>\n",
       "      <td>0.355123</td>\n",
       "      <td>0.209560</td>\n",
       "    </tr>\n",
       "  </tbody>\n",
       "</table>\n",
       "<p>315 rows × 6 columns</p>\n",
       "</div>"
      ],
      "text/plain": [
       "     Rotation x  Rotation y  Rotation z  Translation x  Translation y  \\\n",
       "0     -0.002982    0.003060   -0.000131      -0.060372      -0.515789   \n",
       "1     -0.003427    0.003060   -0.000229      -0.074698      -0.494173   \n",
       "2     -0.003242    0.003177   -0.000197      -0.059108      -0.472619   \n",
       "3     -0.003235    0.003175   -0.000380      -0.074562      -0.482960   \n",
       "4     -0.002639    0.003060   -0.000313      -0.071470      -0.468797   \n",
       "..          ...         ...         ...            ...            ...   \n",
       "310    0.009004   -0.000046   -0.001964      -0.087061       0.395507   \n",
       "311    0.009023   -0.000047   -0.002066      -0.089177       0.372734   \n",
       "312    0.009100   -0.000411   -0.002086      -0.087188       0.399878   \n",
       "313    0.008964   -0.000582   -0.002106      -0.103967       0.370314   \n",
       "314    0.008998   -0.000467   -0.002435      -0.126819       0.355123   \n",
       "\n",
       "     Translation z  \n",
       "0        -0.473079  \n",
       "1        -0.463364  \n",
       "2        -0.450286  \n",
       "3        -0.463447  \n",
       "4        -0.494620  \n",
       "..             ...  \n",
       "310       0.240721  \n",
       "311       0.226257  \n",
       "312       0.224917  \n",
       "313       0.211559  \n",
       "314       0.209560  \n",
       "\n",
       "[315 rows x 6 columns]"
      ]
     },
     "metadata": {},
     "output_type": "display_data"
    },
    {
     "data": {
      "image/png": "[encoded data removed]",
      "text/plain": [
       "<Figure size 640x480 with 1 Axes>"
      ]
     },
     "metadata": {},
     "output_type": "display_data"
    },
    {
     "name": "stdout",
     "output_type": "stream",
     "text": [
      "[105 122 123 152 153 163 165 185 186 191 200 208 210 269 275 276]\n"
     ]
    }
   ],
   "source": [
    "def inspect_motion_correction(path):\n",
    "    \"\"\"\n",
    "    Function to visualise how much each volume have to be motion-corrected.\n",
    "    \"\"\"\n",
    "    \n",
    "    #extract parameters\n",
    "    parameters =pd.read_csv(path, sep='  ', header=None, engine='python', names=['Rotation x', 'Rotation y', 'Rotation z','Translation x', 'Translation y', 'Translation z'])\n",
    "    display(parameters)\n",
    "\n",
    "    #calculate frame-wise displacement\n",
    "    framewise_diff = parameters.diff().iloc[1:]\n",
    "    rot_params = framewise_diff[['Rotation x', 'Rotation y', 'Rotation z']]\n",
    "\n",
    "    # Estimating displacement on a 50mm radius sphere\n",
    "    converted_rots = rot_params*50\n",
    "    trans_params = framewise_diff[['Translation x', 'Translation y', 'Translation z']]\n",
    "    fd = converted_rots.abs().sum(axis=1) + trans_params.abs().sum(axis=1).to_numpy()\n",
    "\n",
    "    #threshold\n",
    "    threshold = np.quantile(fd,0.75) + 1.5*(np.quantile(fd,0.75) - np.quantile(fd,0.25))\n",
    "\n",
    "    #plot for each volume\n",
    "    plt.plot(list(range(1, fd.size+1)), fd)\n",
    "    plt.xlabel('Volume')\n",
    "    plt.ylabel('FD displacement (mm)')\n",
    "    plt.hlines(threshold, 0, len(parameters),colors='black', linestyles='dashed', label='FD threshold')\n",
    "    plt.legend()\n",
    "    plt.show()\n",
    "\n",
    "    print(np.where(fd > threshold)[0] + 1)\n",
    "\n",
    "path_moco_param = os.path.join(preproc_root, subject, 'func', 'sub-{}_all_task_bold_moco.par'.format(subjectID))\n",
    "inspect_motion_correction(path_moco_param)"
   ]
  },
  {
   "cell_type": "markdown",
   "id": "bc86ede8-860f-415f-ae56-de26202294c8",
   "metadata": {},
   "source": [
    "We have some volume with high motion. However, we have to take into account that there is 3 run in the data. From precedent analysis, we have 105 scan per run. \n",
    "We thus expect high motion around run 105 and 210 !\n",
    "\n",
    "However, we have a big motion artefact around volume 122 and 3 small ones around volumes 152, 269 and 275. We will have to explore further.\n",
    "\n",
    "At volume 122 there is a field map artefact."
   ]
  },
  {
   "cell_type": "markdown",
   "id": "3e4cf701-ead5-4e7f-8c1a-33ff63c6116f",
   "metadata": {},
   "source": [
    "### 1.5  Coregistration of functional to anatomical"
   ]
  },
  {
   "cell_type": "code",
   "execution_count": 30,
   "id": "78be6165-6b0c-40df-96ba-e1d556fc8a8f",
   "metadata": {
    "scrolled": true
   },
   "outputs": [
    {
     "name": "stdout",
     "output_type": "stream",
     "text": [
      "\n",
      "Usage: fslroi <input> <output> <xmin> <xsize> <ymin> <ysize> <zmin> <zsize>\n",
      "       fslroi <input> <output> <tmin> <tsize>\n",
      "\n",
      "       fslroi <input> <output> <xmin> <xsize> <ymin> <ysize> <zmin> <zsize> <tmin> <tsize>\n",
      "Note: indexing (in both time and space) starts with 0 not 1! Inputting -1 for a size will set it to the full image extent for that dimension.\n"
     ]
    },
    {
     "data": {
      "text/plain": [
       "CompletedProcess(args=['fslroi'], returncode=1)"
      ]
     },
     "execution_count": 30,
     "metadata": {},
     "output_type": "execute_result"
    }
   ],
   "source": [
    "subprocess.run(['fslroi'])"
   ]
  },
  {
   "cell_type": "code",
   "execution_count": 31,
   "id": "134ba36f-3967-4199-a415-de5c3375d3a2",
   "metadata": {},
   "outputs": [
    {
     "name": "stdout",
     "output_type": "stream",
     "text": [
      "FLIRT pre-alignment\n",
      "Running BBR\n",
      "0.286442 0.999651 -0.017010 -0.020213 0.000000 0.016821 0.999813 -0.009488 0.000000 0.020371 0.009144 0.999751 0.000000 -4.175753 4.107708 4.448656 1.000000 \n"
     ]
    }
   ],
   "source": [
    "#EPI coregistration\n",
    "whole_t1 = anatomical_path\n",
    "skull_stripped_t1 = betted_brain_path\n",
    "output_path = op.join(preproc_root, subject, 'func', 'sub-{}_all_task_bold_bbr'.format(subjectID))\n",
    "\n",
    "ref_vol_name =  op.join(preproc_root, subject, 'func', 'sub-{}_all_task_bold_moco_vol_middle'.format(subjectID))\n",
    "\n",
    "fslroi(path_moco_data, ref_vol_name, str(157), str(1))\n",
    "\n",
    "white_matter_segmentation = op.join(preproc_root, subject, 'anat', 'sub-{}_T1w_fast_pve_2.nii.gz'.format(subjectID)) # We provide the white matter segmentation\n",
    "\n",
    "if RERUN :\n",
    "    subprocess.run(['epi_reg','--epi={}'.format(ref_vol_name), '--t1={}'.format(whole_t1), '--t1brain={}'.format(skull_stripped_t1), \n",
    "                '--out={}'.format(output_path),\n",
    "               '--wmseg={}'.format(white_matter_segmentation)])"
   ]
  },
  {
   "cell_type": "code",
   "execution_count": 34,
   "id": "1ac6421f-3dca-4627-98da-81fd8e785b28",
   "metadata": {},
   "outputs": [],
   "source": [
    "#fsleyesDisplay.resetOverlays()\n",
    "#fsleyesDisplay.load(skull_stripped_t1)\n",
    "#fsleyesDisplay.load(output_path)"
   ]
  },
  {
   "cell_type": "code",
   "execution_count": 33,
   "id": "7f769b81-a200-459b-aa19-fe1875b525da",
   "metadata": {},
   "outputs": [],
   "source": [
    "def cleanup_epi_reg(path_to_clean):\n",
    "    patterns = ['*_fast_*', '*_fieldmap*']\n",
    "    for p in patterns:\n",
    "        files = glob.glob(op.join(path_to_clean, p))\n",
    "        for f in files:\n",
    "            os.remove(f)\n",
    "\n",
    "cleanup_epi_reg(op.join(preproc_root, subject, 'func'))"
   ]
  },
  {
   "cell_type": "markdown",
   "id": "00425c39-3f19-4bd1-b1cd-f20a86326cfc",
   "metadata": {},
   "source": [
    "### 1.6  Smoothing"
   ]
  },
  {
   "cell_type": "code",
   "execution_count": 35,
   "id": "d65252f9-6239-400d-be1f-7a2208e9766a",
   "metadata": {},
   "outputs": [],
   "source": [
    "#smoothing\n",
    "smoothed_path = op.join(preproc_root, subject, 'func', 'sub-{}_all_task_bold_moco_smoothed-6mm'.format(subjectID))\n",
    "\n",
    "if RERUN:\n",
    "    cmd = 'fslmaths {} -s {} {}'.format(path_moco_data, 6/2.3548, path_moco_data)\n",
    "    subprocess.run(['fslmaths',path_moco_data, '-s', str(6/2.3548), '{}_smoothed-6mm'.format(path_moco_data)])"
   ]
  },
  {
   "cell_type": "code",
   "execution_count": 36,
   "id": "47f323b0-17a9-4802-8e67-dbaccff91975",
   "metadata": {},
   "outputs": [],
   "source": [
    "#fsleyesDisplay.resetOverlays()\n",
    "#fsleyesDisplay.load(smoothed_path)"
   ]
  },
  {
   "cell_type": "markdown",
   "id": "42d0590b-73e3-41f7-877d-5b7ba38c0498",
   "metadata": {},
   "source": [
    "# GLM analysis"
   ]
  },
  {
   "cell_type": "markdown",
   "id": "bd20e775-daa0-4b40-89b0-a70919810134",
   "metadata": {},
   "source": [
    "### Experimental design matrix"
   ]
  },
  {
   "cell_type": "code",
   "execution_count": 37,
   "id": "33cc2c86-977b-422f-afa3-adc9aba049ac",
   "metadata": {},
   "outputs": [
    {
     "data": {
      "text/html": [
       "<div>\n",
       "<style scoped>\n",
       "    .dataframe tbody tr th:only-of-type {\n",
       "        vertical-align: middle;\n",
       "    }\n",
       "\n",
       "    .dataframe tbody tr th {\n",
       "        vertical-align: top;\n",
       "    }\n",
       "\n",
       "    .dataframe thead th {\n",
       "        text-align: right;\n",
       "    }\n",
       "</style>\n",
       "<table border=\"1\" class=\"dataframe\">\n",
       "  <thead>\n",
       "    <tr style=\"text-align: right;\">\n",
       "      <th></th>\n",
       "      <th>onset</th>\n",
       "      <th>duration</th>\n",
       "      <th>trial_type</th>\n",
       "    </tr>\n",
       "  </thead>\n",
       "  <tbody>\n",
       "    <tr>\n",
       "      <th>0</th>\n",
       "      <td>0.0</td>\n",
       "      <td>33.0</td>\n",
       "      <td>tones</td>\n",
       "    </tr>\n",
       "    <tr>\n",
       "      <th>1</th>\n",
       "      <td>33.0</td>\n",
       "      <td>3.0</td>\n",
       "      <td>response</td>\n",
       "    </tr>\n",
       "    <tr>\n",
       "      <th>2</th>\n",
       "      <td>36.0</td>\n",
       "      <td>31.5</td>\n",
       "      <td>negative_music</td>\n",
       "    </tr>\n",
       "    <tr>\n",
       "      <th>3</th>\n",
       "      <td>67.5</td>\n",
       "      <td>3.0</td>\n",
       "      <td>response</td>\n",
       "    </tr>\n",
       "    <tr>\n",
       "      <th>4</th>\n",
       "      <td>70.5</td>\n",
       "      <td>31.5</td>\n",
       "      <td>tones</td>\n",
       "    </tr>\n",
       "    <tr>\n",
       "      <th>5</th>\n",
       "      <td>102.0</td>\n",
       "      <td>3.0</td>\n",
       "      <td>response</td>\n",
       "    </tr>\n",
       "    <tr>\n",
       "      <th>6</th>\n",
       "      <td>105.0</td>\n",
       "      <td>31.5</td>\n",
       "      <td>positive_music</td>\n",
       "    </tr>\n",
       "    <tr>\n",
       "      <th>7</th>\n",
       "      <td>136.5</td>\n",
       "      <td>3.0</td>\n",
       "      <td>response</td>\n",
       "    </tr>\n",
       "    <tr>\n",
       "      <th>8</th>\n",
       "      <td>139.5</td>\n",
       "      <td>31.5</td>\n",
       "      <td>tones</td>\n",
       "    </tr>\n",
       "    <tr>\n",
       "      <th>9</th>\n",
       "      <td>171.0</td>\n",
       "      <td>3.0</td>\n",
       "      <td>response</td>\n",
       "    </tr>\n",
       "    <tr>\n",
       "      <th>10</th>\n",
       "      <td>174.0</td>\n",
       "      <td>31.5</td>\n",
       "      <td>negative_music</td>\n",
       "    </tr>\n",
       "    <tr>\n",
       "      <th>11</th>\n",
       "      <td>205.5</td>\n",
       "      <td>3.0</td>\n",
       "      <td>response</td>\n",
       "    </tr>\n",
       "    <tr>\n",
       "      <th>12</th>\n",
       "      <td>208.5</td>\n",
       "      <td>31.5</td>\n",
       "      <td>tones</td>\n",
       "    </tr>\n",
       "    <tr>\n",
       "      <th>13</th>\n",
       "      <td>240.0</td>\n",
       "      <td>3.0</td>\n",
       "      <td>response</td>\n",
       "    </tr>\n",
       "    <tr>\n",
       "      <th>14</th>\n",
       "      <td>243.0</td>\n",
       "      <td>31.5</td>\n",
       "      <td>positive_music</td>\n",
       "    </tr>\n",
       "    <tr>\n",
       "      <th>15</th>\n",
       "      <td>274.5</td>\n",
       "      <td>3.0</td>\n",
       "      <td>response</td>\n",
       "    </tr>\n",
       "    <tr>\n",
       "      <th>16</th>\n",
       "      <td>277.5</td>\n",
       "      <td>31.5</td>\n",
       "      <td>tones</td>\n",
       "    </tr>\n",
       "    <tr>\n",
       "      <th>17</th>\n",
       "      <td>309.0</td>\n",
       "      <td>3.0</td>\n",
       "      <td>response</td>\n",
       "    </tr>\n",
       "  </tbody>\n",
       "</table>\n",
       "</div>"
      ],
      "text/plain": [
       "    onset  duration      trial_type\n",
       "0     0.0      33.0           tones\n",
       "1    33.0       3.0        response\n",
       "2    36.0      31.5  negative_music\n",
       "3    67.5       3.0        response\n",
       "4    70.5      31.5           tones\n",
       "5   102.0       3.0        response\n",
       "6   105.0      31.5  positive_music\n",
       "7   136.5       3.0        response\n",
       "8   139.5      31.5           tones\n",
       "9   171.0       3.0        response\n",
       "10  174.0      31.5  negative_music\n",
       "11  205.5       3.0        response\n",
       "12  208.5      31.5           tones\n",
       "13  240.0       3.0        response\n",
       "14  243.0      31.5  positive_music\n",
       "15  274.5       3.0        response\n",
       "16  277.5      31.5           tones\n",
       "17  309.0       3.0        response"
      ]
     },
     "execution_count": 37,
     "metadata": {},
     "output_type": "execute_result"
    }
   ],
   "source": [
    "#for one run\n",
    "run_1 = os.path.join(bids_root, subject, 'func', 'sub-{}_task-music_run-1_events.tsv'.format(subjectID))\n",
    "pd.read_csv(run_1,sep = '\\t')"
   ]
  },
  {
   "cell_type": "code",
   "execution_count": 38,
   "id": "e8035c4f-c5e6-457f-9939-f7e812efae19",
   "metadata": {
    "scrolled": true
   },
   "outputs": [
    {
     "name": "stdout",
     "output_type": "stream",
     "text": [
      "3\n",
      "['/data/dataset/ds000171/sub-control01/func/sub-control01_task-music_run-1_events.tsv', '/data/dataset/ds000171/sub-control01/func/sub-control01_task-music_run-2_events.tsv', '/data/dataset/ds000171/sub-control01/func/sub-control01_task-music_run-3_events.tsv']\n"
     ]
    },
    {
     "data": {
      "text/html": [
       "<div>\n",
       "<style scoped>\n",
       "    .dataframe tbody tr th:only-of-type {\n",
       "        vertical-align: middle;\n",
       "    }\n",
       "\n",
       "    .dataframe tbody tr th {\n",
       "        vertical-align: top;\n",
       "    }\n",
       "\n",
       "    .dataframe thead th {\n",
       "        text-align: right;\n",
       "    }\n",
       "</style>\n",
       "<table border=\"1\" class=\"dataframe\">\n",
       "  <thead>\n",
       "    <tr style=\"text-align: right;\">\n",
       "      <th></th>\n",
       "      <th>onset</th>\n",
       "      <th>duration</th>\n",
       "      <th>trial_type</th>\n",
       "    </tr>\n",
       "  </thead>\n",
       "  <tbody>\n",
       "    <tr>\n",
       "      <th>0</th>\n",
       "      <td>0.0</td>\n",
       "      <td>33.0</td>\n",
       "      <td>tones</td>\n",
       "    </tr>\n",
       "    <tr>\n",
       "      <th>1</th>\n",
       "      <td>33.0</td>\n",
       "      <td>3.0</td>\n",
       "      <td>response</td>\n",
       "    </tr>\n",
       "    <tr>\n",
       "      <th>2</th>\n",
       "      <td>36.0</td>\n",
       "      <td>31.5</td>\n",
       "      <td>negative_music</td>\n",
       "    </tr>\n",
       "    <tr>\n",
       "      <th>3</th>\n",
       "      <td>67.5</td>\n",
       "      <td>3.0</td>\n",
       "      <td>response</td>\n",
       "    </tr>\n",
       "    <tr>\n",
       "      <th>4</th>\n",
       "      <td>70.5</td>\n",
       "      <td>31.5</td>\n",
       "      <td>tones</td>\n",
       "    </tr>\n",
       "    <tr>\n",
       "      <th>5</th>\n",
       "      <td>102.0</td>\n",
       "      <td>3.0</td>\n",
       "      <td>response</td>\n",
       "    </tr>\n",
       "    <tr>\n",
       "      <th>6</th>\n",
       "      <td>105.0</td>\n",
       "      <td>31.5</td>\n",
       "      <td>positive_music</td>\n",
       "    </tr>\n",
       "    <tr>\n",
       "      <th>7</th>\n",
       "      <td>136.5</td>\n",
       "      <td>3.0</td>\n",
       "      <td>response</td>\n",
       "    </tr>\n",
       "    <tr>\n",
       "      <th>8</th>\n",
       "      <td>139.5</td>\n",
       "      <td>31.5</td>\n",
       "      <td>tones</td>\n",
       "    </tr>\n",
       "    <tr>\n",
       "      <th>9</th>\n",
       "      <td>171.0</td>\n",
       "      <td>3.0</td>\n",
       "      <td>response</td>\n",
       "    </tr>\n",
       "    <tr>\n",
       "      <th>10</th>\n",
       "      <td>174.0</td>\n",
       "      <td>31.5</td>\n",
       "      <td>negative_music</td>\n",
       "    </tr>\n",
       "    <tr>\n",
       "      <th>11</th>\n",
       "      <td>205.5</td>\n",
       "      <td>3.0</td>\n",
       "      <td>response</td>\n",
       "    </tr>\n",
       "    <tr>\n",
       "      <th>12</th>\n",
       "      <td>208.5</td>\n",
       "      <td>31.5</td>\n",
       "      <td>tones</td>\n",
       "    </tr>\n",
       "    <tr>\n",
       "      <th>13</th>\n",
       "      <td>240.0</td>\n",
       "      <td>3.0</td>\n",
       "      <td>response</td>\n",
       "    </tr>\n",
       "    <tr>\n",
       "      <th>14</th>\n",
       "      <td>243.0</td>\n",
       "      <td>31.5</td>\n",
       "      <td>positive_music</td>\n",
       "    </tr>\n",
       "    <tr>\n",
       "      <th>15</th>\n",
       "      <td>274.5</td>\n",
       "      <td>3.0</td>\n",
       "      <td>response</td>\n",
       "    </tr>\n",
       "    <tr>\n",
       "      <th>16</th>\n",
       "      <td>277.5</td>\n",
       "      <td>31.5</td>\n",
       "      <td>tones</td>\n",
       "    </tr>\n",
       "    <tr>\n",
       "      <th>17</th>\n",
       "      <td>309.0</td>\n",
       "      <td>3.0</td>\n",
       "      <td>response</td>\n",
       "    </tr>\n",
       "    <tr>\n",
       "      <th>18</th>\n",
       "      <td>309.0</td>\n",
       "      <td>33.0</td>\n",
       "      <td>tones</td>\n",
       "    </tr>\n",
       "    <tr>\n",
       "      <th>19</th>\n",
       "      <td>342.0</td>\n",
       "      <td>3.0</td>\n",
       "      <td>response</td>\n",
       "    </tr>\n",
       "    <tr>\n",
       "      <th>20</th>\n",
       "      <td>345.0</td>\n",
       "      <td>31.5</td>\n",
       "      <td>positive_music</td>\n",
       "    </tr>\n",
       "    <tr>\n",
       "      <th>21</th>\n",
       "      <td>376.5</td>\n",
       "      <td>3.0</td>\n",
       "      <td>response</td>\n",
       "    </tr>\n",
       "    <tr>\n",
       "      <th>22</th>\n",
       "      <td>379.5</td>\n",
       "      <td>31.5</td>\n",
       "      <td>tones</td>\n",
       "    </tr>\n",
       "    <tr>\n",
       "      <th>23</th>\n",
       "      <td>411.0</td>\n",
       "      <td>3.0</td>\n",
       "      <td>response</td>\n",
       "    </tr>\n",
       "    <tr>\n",
       "      <th>24</th>\n",
       "      <td>414.0</td>\n",
       "      <td>31.5</td>\n",
       "      <td>negative_music</td>\n",
       "    </tr>\n",
       "    <tr>\n",
       "      <th>25</th>\n",
       "      <td>445.5</td>\n",
       "      <td>3.0</td>\n",
       "      <td>response</td>\n",
       "    </tr>\n",
       "    <tr>\n",
       "      <th>26</th>\n",
       "      <td>448.5</td>\n",
       "      <td>31.5</td>\n",
       "      <td>tones</td>\n",
       "    </tr>\n",
       "    <tr>\n",
       "      <th>27</th>\n",
       "      <td>480.0</td>\n",
       "      <td>3.0</td>\n",
       "      <td>response</td>\n",
       "    </tr>\n",
       "    <tr>\n",
       "      <th>28</th>\n",
       "      <td>483.0</td>\n",
       "      <td>31.5</td>\n",
       "      <td>positive_music</td>\n",
       "    </tr>\n",
       "    <tr>\n",
       "      <th>29</th>\n",
       "      <td>514.5</td>\n",
       "      <td>3.0</td>\n",
       "      <td>response</td>\n",
       "    </tr>\n",
       "    <tr>\n",
       "      <th>30</th>\n",
       "      <td>517.5</td>\n",
       "      <td>31.5</td>\n",
       "      <td>tones</td>\n",
       "    </tr>\n",
       "    <tr>\n",
       "      <th>31</th>\n",
       "      <td>549.0</td>\n",
       "      <td>3.0</td>\n",
       "      <td>response</td>\n",
       "    </tr>\n",
       "    <tr>\n",
       "      <th>32</th>\n",
       "      <td>552.0</td>\n",
       "      <td>31.5</td>\n",
       "      <td>negative_music</td>\n",
       "    </tr>\n",
       "    <tr>\n",
       "      <th>33</th>\n",
       "      <td>583.5</td>\n",
       "      <td>3.0</td>\n",
       "      <td>response</td>\n",
       "    </tr>\n",
       "    <tr>\n",
       "      <th>34</th>\n",
       "      <td>586.5</td>\n",
       "      <td>31.5</td>\n",
       "      <td>tones</td>\n",
       "    </tr>\n",
       "    <tr>\n",
       "      <th>35</th>\n",
       "      <td>618.0</td>\n",
       "      <td>3.0</td>\n",
       "      <td>response</td>\n",
       "    </tr>\n",
       "    <tr>\n",
       "      <th>36</th>\n",
       "      <td>618.0</td>\n",
       "      <td>33.0</td>\n",
       "      <td>tones</td>\n",
       "    </tr>\n",
       "    <tr>\n",
       "      <th>37</th>\n",
       "      <td>651.0</td>\n",
       "      <td>3.0</td>\n",
       "      <td>response</td>\n",
       "    </tr>\n",
       "    <tr>\n",
       "      <th>38</th>\n",
       "      <td>654.0</td>\n",
       "      <td>31.5</td>\n",
       "      <td>negative_music</td>\n",
       "    </tr>\n",
       "    <tr>\n",
       "      <th>39</th>\n",
       "      <td>685.5</td>\n",
       "      <td>3.0</td>\n",
       "      <td>response</td>\n",
       "    </tr>\n",
       "    <tr>\n",
       "      <th>40</th>\n",
       "      <td>688.5</td>\n",
       "      <td>31.5</td>\n",
       "      <td>tones</td>\n",
       "    </tr>\n",
       "    <tr>\n",
       "      <th>41</th>\n",
       "      <td>720.0</td>\n",
       "      <td>3.0</td>\n",
       "      <td>response</td>\n",
       "    </tr>\n",
       "    <tr>\n",
       "      <th>42</th>\n",
       "      <td>723.0</td>\n",
       "      <td>31.5</td>\n",
       "      <td>positive_music</td>\n",
       "    </tr>\n",
       "    <tr>\n",
       "      <th>43</th>\n",
       "      <td>754.5</td>\n",
       "      <td>3.0</td>\n",
       "      <td>response</td>\n",
       "    </tr>\n",
       "    <tr>\n",
       "      <th>44</th>\n",
       "      <td>757.5</td>\n",
       "      <td>31.5</td>\n",
       "      <td>tones</td>\n",
       "    </tr>\n",
       "    <tr>\n",
       "      <th>45</th>\n",
       "      <td>789.0</td>\n",
       "      <td>3.0</td>\n",
       "      <td>response</td>\n",
       "    </tr>\n",
       "    <tr>\n",
       "      <th>46</th>\n",
       "      <td>792.0</td>\n",
       "      <td>31.5</td>\n",
       "      <td>negative_music</td>\n",
       "    </tr>\n",
       "    <tr>\n",
       "      <th>47</th>\n",
       "      <td>823.5</td>\n",
       "      <td>3.0</td>\n",
       "      <td>response</td>\n",
       "    </tr>\n",
       "    <tr>\n",
       "      <th>48</th>\n",
       "      <td>826.5</td>\n",
       "      <td>31.5</td>\n",
       "      <td>tones</td>\n",
       "    </tr>\n",
       "    <tr>\n",
       "      <th>49</th>\n",
       "      <td>858.0</td>\n",
       "      <td>3.0</td>\n",
       "      <td>response</td>\n",
       "    </tr>\n",
       "    <tr>\n",
       "      <th>50</th>\n",
       "      <td>861.0</td>\n",
       "      <td>31.5</td>\n",
       "      <td>positive_music</td>\n",
       "    </tr>\n",
       "    <tr>\n",
       "      <th>51</th>\n",
       "      <td>892.5</td>\n",
       "      <td>3.0</td>\n",
       "      <td>response</td>\n",
       "    </tr>\n",
       "    <tr>\n",
       "      <th>52</th>\n",
       "      <td>895.5</td>\n",
       "      <td>31.5</td>\n",
       "      <td>tones</td>\n",
       "    </tr>\n",
       "    <tr>\n",
       "      <th>53</th>\n",
       "      <td>927.0</td>\n",
       "      <td>3.0</td>\n",
       "      <td>response</td>\n",
       "    </tr>\n",
       "  </tbody>\n",
       "</table>\n",
       "</div>"
      ],
      "text/plain": [
       "    onset  duration      trial_type\n",
       "0     0.0      33.0           tones\n",
       "1    33.0       3.0        response\n",
       "2    36.0      31.5  negative_music\n",
       "3    67.5       3.0        response\n",
       "4    70.5      31.5           tones\n",
       "5   102.0       3.0        response\n",
       "6   105.0      31.5  positive_music\n",
       "7   136.5       3.0        response\n",
       "8   139.5      31.5           tones\n",
       "9   171.0       3.0        response\n",
       "10  174.0      31.5  negative_music\n",
       "11  205.5       3.0        response\n",
       "12  208.5      31.5           tones\n",
       "13  240.0       3.0        response\n",
       "14  243.0      31.5  positive_music\n",
       "15  274.5       3.0        response\n",
       "16  277.5      31.5           tones\n",
       "17  309.0       3.0        response\n",
       "18  309.0      33.0           tones\n",
       "19  342.0       3.0        response\n",
       "20  345.0      31.5  positive_music\n",
       "21  376.5       3.0        response\n",
       "22  379.5      31.5           tones\n",
       "23  411.0       3.0        response\n",
       "24  414.0      31.5  negative_music\n",
       "25  445.5       3.0        response\n",
       "26  448.5      31.5           tones\n",
       "27  480.0       3.0        response\n",
       "28  483.0      31.5  positive_music\n",
       "29  514.5       3.0        response\n",
       "30  517.5      31.5           tones\n",
       "31  549.0       3.0        response\n",
       "32  552.0      31.5  negative_music\n",
       "33  583.5       3.0        response\n",
       "34  586.5      31.5           tones\n",
       "35  618.0       3.0        response\n",
       "36  618.0      33.0           tones\n",
       "37  651.0       3.0        response\n",
       "38  654.0      31.5  negative_music\n",
       "39  685.5       3.0        response\n",
       "40  688.5      31.5           tones\n",
       "41  720.0       3.0        response\n",
       "42  723.0      31.5  positive_music\n",
       "43  754.5       3.0        response\n",
       "44  757.5      31.5           tones\n",
       "45  789.0       3.0        response\n",
       "46  792.0      31.5  negative_music\n",
       "47  823.5       3.0        response\n",
       "48  826.5      31.5           tones\n",
       "49  858.0       3.0        response\n",
       "50  861.0      31.5  positive_music\n",
       "51  892.5       3.0        response\n",
       "52  895.5      31.5           tones\n",
       "53  927.0       3.0        response"
      ]
     },
     "execution_count": 38,
     "metadata": {},
     "output_type": "execute_result"
    }
   ],
   "source": [
    "#for all runs \n",
    "\n",
    "func_dir = op.join(bids_root, subject, 'func')\n",
    "pattern = re.compile(r'^sub-control01_task-music_run-\\d+_events\\.tsv$')\n",
    "#pattern = re.compile(r'^sub-control01_task-music_run-2_events\\.tsv$')\n",
    "\n",
    "file_paths = []\n",
    "\n",
    "# Check if the directory exists\n",
    "if os.path.exists(func_dir):\n",
    "    for file_name in os.listdir(func_dir):\n",
    "        # If the file name matches the pattern, add it to the array with the full path\n",
    "        if pattern.match(file_name):\n",
    "            full_path = os.path.join(func_dir, file_name)\n",
    "            file_paths.append(full_path)\n",
    "file_paths.sort()\n",
    "# Output the array of all runs\n",
    "print(len(file_paths))\n",
    "print(file_paths)\n",
    "\n",
    "events = pd.DataFrame()\n",
    "for file in file_paths:\n",
    "    new_event = pd.read_csv(file,sep = '\\t')\n",
    "    if len(events) > 0 :\n",
    "        last_onset = events.iloc[-1].onset\n",
    "        new_event['onset'] += last_onset\n",
    "    events = pd.concat([events, new_event], ignore_index=True)\n",
    "events"
   ]
  },
  {
   "cell_type": "code",
   "execution_count": 45,
   "id": "4a4a37c0-425a-4136-8da0-2c7f01ad33ba",
   "metadata": {},
   "outputs": [],
   "source": [
    "# Specify the GLM\n",
    "# according to task-music_bold.json, the TR is 3 sec\n",
    "fmri_glm = FirstLevelModel(t_r=3.0,\n",
    "                           noise_model='ar1',\n",
    "                           standardize=False,\n",
    "                           hrf_model='spm',\n",
    "                           drift_model=None,\n",
    "                           high_pass=.01)\n",
    "\n",
    "# Fit the model to our design and data\n",
    "dpath = op.join(preproc_root, subject, 'func', 'sub-{}_all_task_bold_moco_smoothed-6mm.nii.gz'.format(subjectID))\n",
    "#dpath  = '/data/dataset/ds000171/sub-control01/func/sub-control01_task-music_run-2_bold.nii.gz'\n",
    "fmri_glm = fmri_glm.fit(dpath, events)"
   ]
  },
  {
   "cell_type": "code",
   "execution_count": 46,
   "id": "330e8beb-cab5-4d20-9b57-aad7fdb190b7",
   "metadata": {},
   "outputs": [
    {
     "data": {
      "text/plain": [
       "<Axes: label='conditions', ylabel='scan number'>"
      ]
     },
     "execution_count": 46,
     "metadata": {},
     "output_type": "execute_result"
    },
    {
     "data": {
      "image/png": "[encoded data removed]",
      "text/plain": [
       "<Figure size 215x1000 with 1 Axes>"
      ]
     },
     "metadata": {},
     "output_type": "display_data"
    }
   ],
   "source": [
    "plot_design_matrix(fmri_glm.design_matrices_[0])"
   ]
  },
  {
   "cell_type": "markdown",
   "id": "9c109bfe-cfb4-46b4-8846-eb8f9836f154",
   "metadata": {},
   "source": [
    "### GLM : condition and contrast"
   ]
  },
  {
   "cell_type": "code",
   "execution_count": 47,
   "id": "e7c000d0-753f-405d-b6eb-ddc21df11d83",
   "metadata": {},
   "outputs": [],
   "source": [
    "# Create the dictionary of the conditions\n",
    "\n",
    "conditions = {\n",
    "    'neg_music': np.array([1, 0, 0, 0, 0]), \n",
    "    'pos_music':np.array([0, 1, 0, 0, 0]),\n",
    "    'response':np.array([0, 0, 1, 0, 0]),\n",
    "    'tones':np.array([0, 0, 0, 1, 0]),\n",
    "}\n",
    "\n",
    "pos_neg_contrast = conditions['pos_music'] - conditions['neg_music']"
   ]
  },
  {
   "cell_type": "code",
   "execution_count": 48,
   "id": "5a316221-5cdb-4bb5-9aba-b3ceac8d2b24",
   "metadata": {},
   "outputs": [
    {
     "data": {
      "text/plain": [
       "<Axes: label='conditions'>"
      ]
     },
     "execution_count": 48,
     "metadata": {},
     "output_type": "execute_result"
    },
    {
     "data": {
      "image/png": "[encoded data removed]",
      "text/plain": [
       "<Figure size 200x206 with 1 Axes>"
      ]
     },
     "metadata": {},
     "output_type": "display_data"
    }
   ],
   "source": [
    "plot_contrast_matrix(pos_neg_contrast, design_matrix=fmri_glm.design_matrices_[0])"
   ]
  },
  {
   "cell_type": "markdown",
   "id": "77c6374f-1ddd-4472-8fea-bfa941d5873b",
   "metadata": {},
   "source": [
    "### Analyse GML result "
   ]
  },
  {
   "cell_type": "code",
   "execution_count": 61,
   "id": "c306f293-6a95-42ee-ae1e-71b4e0b56a51",
   "metadata": {},
   "outputs": [],
   "source": [
    "z_map = fmri_glm.compute_contrast(pos_neg_contrast,\n",
    "                                  output_type='z_score')\n",
    "\n",
    "nib.save(z_map, 'z_map_uncorrected.nii.gz')"
   ]
  },
  {
   "cell_type": "code",
   "execution_count": 55,
   "id": "98f77372-58f9-4b72-9293-f2d363b2a19e",
   "metadata": {},
   "outputs": [
    {
     "data": {
      "text/plain": [
       "<nilearn.plotting.displays._slicers.ZSlicer at 0x7000c63b50d0>"
      ]
     },
     "execution_count": 55,
     "metadata": {},
     "output_type": "execute_result"
    },
    {
     "data": {
      "image/png": "[encoded data removed]",
      "text/plain": [
       "<Figure size 1830x320 with 10 Axes>"
      ]
     },
     "metadata": {},
     "output_type": "display_data"
    }
   ],
   "source": [
    "mean_img_ = mean_img(dpath),\n",
    "plot_stat_map(z_map, bg_img=mean_img_[0], threshold=1.0,\n",
    "              display_mode='z', cut_coords=[-50,-30,-20,-10,0,10,20,30], black_bg=True,\n",
    "              title='positiove vs negative music')"
   ]
  },
  {
   "cell_type": "code",
   "execution_count": null,
   "id": "884d9be8-dc55-4d8d-bd36-260268e16079",
   "metadata": {},
   "outputs": [],
   "source": [
    "cluster_size = 1 # Fill me with the number of voxels for a cluster to be kept\n",
    "fdr_rate = 0.05 # Fill me with the fdr rate to use!\n",
    "\n",
    "# Here, we apply the FDR correction + threshold\n",
    "clean_map, threshold = threshold_stats_img(z_map, alpha=fdr_rate, height_control='fdr', cluster_threshold=cluster_size)\n",
    "\n",
    "print(threshold)\n",
    "mean_img_ = mean_img(dpath),\n",
    "plot_stat_map(clean_map, bg_img=mean_img_[0], threshold=threshold,\n",
    "              display_mode='z', cut_coords=[-50,-30,-20,-10,0,10,20,30], black_bg=True,\n",
    "              title='positiove vs negative music (fdr={}, threshold={}), clusters > {} voxels'.format(fdr_rate, threshold, cluster_size))\n"
   ]
  },
  {
   "cell_type": "code",
   "execution_count": null,
   "id": "20a00d05-25a6-45cd-b454-dadc672aa0f8",
   "metadata": {},
   "outputs": [],
   "source": []
  }
 ],
 "metadata": {
  "kernelspec": {
   "display_name": "Python 3 (ipykernel)",
   "language": "python",
   "name": "python3"
  },
  "language_info": {
   "codemirror_mode": {
    "name": "ipython",
    "version": 3
   },
   "file_extension": ".py",
   "mimetype": "text/x-python",
   "name": "python",
   "nbconvert_exporter": "python",
   "pygments_lexer": "ipython3",
   "version": "3.11.6"
  }
 },
 "nbformat": 4,
 "nbformat_minor": 5
}
