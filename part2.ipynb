{
 "cells": [
  {
   "cell_type": "markdown",
   "id": "52aba839-225f-4afb-b9d1-7e2bcab1571b",
   "metadata": {},
   "source": [
    "# NSSP project 1\n",
    "### confirmatory analysis - ICA"
   ]
  },
  {
   "cell_type": "markdown",
   "id": "12236843-d438-433d-8729-4610891465f6",
   "metadata": {},
   "source": [
    "In this notebook, we aims to study the neural processing of emotionally provocative auditory stimuli."
   ]
  },
  {
   "cell_type": "markdown",
   "id": "80425a6a-5467-4aac-aa7c-ec7ca793e6b5",
   "metadata": {},
   "source": [
    "# Setup the notebook"
   ]
  },
  {
   "cell_type": "markdown",
   "id": "aff179b7-2adb-44ee-90da-0d6cdcc43636",
   "metadata": {},
   "source": [
    "### Import, setup FSL"
   ]
  },
  {
   "cell_type": "code",
   "execution_count": 5,
   "id": "5090af07-222f-4710-b30a-953dff8b7ee7",
   "metadata": {},
   "outputs": [],
   "source": [
    "%gui wx\n",
    "import sys\n",
    "import os\n",
    "import os.path as op\n",
    "\n",
    "#utility functions from previous labs\n",
    "import utils \n",
    "\n",
    "# General purpose imports to handle paths, files etc\n",
    "import glob\n",
    "import pandas as pd\n",
    "import numpy as np\n",
    "import json\n",
    "import subprocess\n",
    "\n",
    "import matplotlib.pyplot as plt\n",
    "import numpy as np\n",
    "\n",
    "import nilearn \n",
    "from nilearn.decomposition import CanICA\n",
    "from nilearn.plotting import plot_prob_atlas,plot_stat_map, show\n",
    "from nilearn.image import iter_img, mean_img\n",
    "\n",
    "from pathlib import Path\n",
    "\n",
    "from tqdm.notebook import trange, tqdm\n",
    "import numpy as np\n",
    "import nibabel as nib\n",
    "from nilearn.image import iter_img\n",
    "from sklearn.decomposition import FastICA, PCA\n",
    "\n",
    "from nilearn.input_data import NiftiMasker\n",
    "from scipy.stats import zscore\n",
    "from scipy.io import loadmat\n",
    "from IPython.display import Image"
   ]
  },
  {
   "cell_type": "code",
   "execution_count": 2,
   "id": "64111d20-6071-4674-9013-645dc0201e93",
   "metadata": {},
   "outputs": [],
   "source": [
    "#We define the parameters RERUN to rerun all the transform, if false it will use the saved files.\n",
    "RERUN = False"
   ]
  },
  {
   "cell_type": "code",
   "execution_count": 7,
   "id": "1fe05d6e-d7f0-4582-bc1a-4f081df9db76",
   "metadata": {},
   "outputs": [
    {
     "name": "stderr",
     "output_type": "stream",
     "text": [
      "19:38:25: Debug: Adding duplicate image handler for 'Windows bitmap file'\n",
      "19:38:25: Debug: Adding duplicate animation handler for '1' type\n",
      "19:38:25: Debug: Adding duplicate animation handler for '2' type\n",
      "19:38:25: Debug: Adding duplicate image handler for 'Windows bitmap file'\n",
      "19:38:25: Debug: Adding duplicate animation handler for '1' type\n",
      "19:38:25: Debug: Adding duplicate animation handler for '2' type\n",
      "\n",
      "(ipykernel_launcher.py:21832): Gtk-CRITICAL **: 19:38:25.896: gtk_window_resize: assertion 'height > 0' failed\n",
      "19:38:27: Debug: ScreenToClient cannot work when toplevel window is not shown\n",
      "19:38:27: Debug: ScreenToClient cannot work when toplevel window is not shown\n",
      "19:38:27: Debug: ScreenToClient cannot work when toplevel window is not shown\n",
      "19:38:27: Debug: ScreenToClient cannot work when toplevel window is not shown\n",
      "19:38:27: Debug: ScreenToClient cannot work when toplevel window is not shown\n",
      "19:38:27: Debug: ScreenToClient cannot work when toplevel window is not shown\n",
      "19:38:27: Debug: ScreenToClient cannot work when toplevel window is not shown\n",
      "19:38:27: Debug: ScreenToClient cannot work when toplevel window is not shown\n",
      "19:38:27: Debug: ScreenToClient cannot work when toplevel window is not shown\n",
      "19:38:27: Debug: ScreenToClient cannot work when toplevel window is not shown\n",
      "19:38:27: Debug: ScreenToClient cannot work when toplevel window is not shown\n"
     ]
    }
   ],
   "source": [
    "####################\n",
    "# Setup FSL path\n",
    "####################\n",
    "utils.loadFSL()\n",
    "################\n",
    "# Start FSLeyes \n",
    "################\n",
    "fsleyesDisplay = utils.FSLeyesServer()\n",
    "fsleyesDisplay.show()"
   ]
  },
  {
   "cell_type": "markdown",
   "id": "18a293aa-bc51-4494-98ba-6ed4c22b6bc4",
   "metadata": {},
   "source": [
    "# Loading FMRI data"
   ]
  },
  {
   "cell_type": "code",
   "execution_count": 3,
   "id": "b78fcb22-2930-4d2d-a4cb-550239772568",
   "metadata": {},
   "outputs": [],
   "source": [
    "dataset= 'ds000171'\n",
    "version = '00001'\n",
    "subject = 'sub-control01'\n",
    "subjectID = 'control01'\n",
    "sample_path = \"dataset\"\n",
    "\n",
    "# Construct paths\n",
    "bids_root = os.path.join(os.path.abspath(\"\"), sample_path, dataset)\n",
    "deriv_root = os.path.join(bids_root, 'derivatives')\n",
    "preproc_root = op.join(bids_root, 'derivatives','preprocessed_data')\n",
    "\n",
    "data_concat = os.path.join(preproc_root, subject, 'func', 'sub-{}_all_task_bold.nii'.format(subjectID))\n",
    "data_motion_corrected = os.path.join(preproc_root, subject, 'func', 'sub-{}_all_task_bold_moco.nii.gz'.format(subjectID))\n",
    "data_smoothed = op.join(preproc_root, subject, 'func', 'sub-{}_all_task_bold_moco_smoothed-6mm.nii.gz'.format(subjectID))"
   ]
  },
  {
   "cell_type": "code",
   "execution_count": 23,
   "id": "e8f9d46a-7432-4e45-9ed0-b104bb4c9c9d",
   "metadata": {},
   "outputs": [
    {
     "name": "stdout",
     "output_type": "stream",
     "text": [
      "(80, 80, 50, 315)\n"
     ]
    }
   ],
   "source": [
    "data = nib.load(data_smoothed).get_fdata()\n",
    "print(data.shape)\n",
    "x,y,z,nvol = data.shape"
   ]
  },
  {
   "cell_type": "code",
   "execution_count": 9,
   "id": "3764a37e-28a8-470c-96f1-2ce99efbbfc7",
   "metadata": {},
   "outputs": [],
   "source": [
    "# fsleyesDisplay.resetOverlays()\n",
    "fsleyesDisplay.load(data_smoothed)"
   ]
  },
  {
   "cell_type": "code",
   "execution_count": 15,
   "id": "cf824f2f-f6c5-439d-84cb-b0538ba8d110",
   "metadata": {},
   "outputs": [],
   "source": [
    "#https://nilearn.github.io/dev/connectivity/resting_state_networks.html#fitting-canica-model-with-nilearn\n",
    "#https://nilearn.github.io/dev/modules/generated/nilearn.decomposition.CanICA.html\n",
    "#https://nilearn.github.io/dev/auto_examples/03_connectivity/plot_compare_decomposition.html#sphx-glr-auto-examples-03-connectivity-plot-compare-decomposition-py"
   ]
  },
  {
   "cell_type": "markdown",
   "id": "6e64c230-bd63-4833-b5bd-0eaef2c8b522",
   "metadata": {},
   "source": [
    "# APPLY ICA"
   ]
  },
  {
   "cell_type": "code",
   "execution_count": 27,
   "id": "f033960b-2ec3-4b1f-a976-dcc216be7dff",
   "metadata": {},
   "outputs": [
    {
     "name": "stdout",
     "output_type": "stream",
     "text": [
      "(320000, 315)\n"
     ]
    }
   ],
   "source": [
    "X = data.reshape(-1, nvol)\n",
    "print(X.shape)\n",
    "X = np.nan_to_num(X,0) # nan to 0s"
   ]
  },
  {
   "cell_type": "code",
   "execution_count": 30,
   "id": "9bf37803-b66b-4062-a161-c227b2d8d342",
   "metadata": {},
   "outputs": [
    {
     "name": "stdout",
     "output_type": "stream",
     "text": [
      "The shape of C is : (3, 80, 80, 50)\n"
     ]
    }
   ],
   "source": [
    "nComps = 3\n",
    "\n",
    "## use ICA on the SPATIAL axis\n",
    "icas = FastICA(n_components=nComps)\n",
    "icasig_space = icas.fit_transform(X)\n",
    "\n",
    "## use ICA on the TEMPORAL axis\n",
    "icat = FastICA(n_components=nComps) \n",
    "icasig_time = icat.fit_transform(X.T)  \n",
    "\n",
    "## Then reshape spatial sources into 2D images\n",
    "C = np.empty([nComps, x, y, z])\n",
    "for i in range(nComps):\n",
    "    C[i]=np.reshape(icasig_space[:,i],[x,y,z])\n",
    "    \n",
    "print(\"The shape of C is :\", C.shape)"
   ]
  },
  {
   "cell_type": "markdown",
   "id": "7dd1e911-4741-4384-956e-389f7fc988e4",
   "metadata": {},
   "source": [
    "# other method"
   ]
  },
  {
   "cell_type": "markdown",
   "id": "b0dd86bc-5d2d-436c-acc1-1bd753c7aae7",
   "metadata": {
    "jp-MarkdownHeadingCollapsed": true
   },
   "source": [
    "## Applying ICA"
   ]
  },
  {
   "cell_type": "code",
   "execution_count": 22,
   "id": "72691df5-b400-4a98-9915-7d6be67bb595",
   "metadata": {},
   "outputs": [
    {
     "name": "stdout",
     "output_type": "stream",
     "text": [
      "[MultiNiftiMasker.fit] Loading data from [/data/dataset/ds000171/derivatives/preprocessed_data/sub-control01/func/sub-control01_all_task_bold_moco.nii.gz].\n",
      "[{self.__class__.__name__}.fit] Computing mask\n",
      "[MultiNiftiMasker.transform] Resampling mask\n",
      "[CanICA] Loading data\n",
      "[MultiNiftiMasker.transform_single_imgs] Loading data from Nifti1Image('/data/dataset/ds000171/derivatives/preprocessed_data/sub-control01/func/sub-control01_all_task_bold_moco.nii.gz')\n",
      "[MultiNiftiMasker.transform_single_imgs] Smoothing images\n",
      "[MultiNiftiMasker.transform_single_imgs] Extracting region signals\n",
      "[MultiNiftiMasker.transform_single_imgs] Cleaning extracted signals\n",
      "Output will be saved to: /data/results/plot_compare_decomposition\n"
     ]
    }
   ],
   "source": [
    "canica = CanICA(\n",
    "    n_components=3,\n",
    "    verbose=1,\n",
    "    memory = None,\n",
    "    mask_strategy=\"epi\",\n",
    "    n_init = 10,\n",
    "    random_state=0,\n",
    "    standardize=\"zscore_sample\"\n",
    ")\n",
    "canica.fit(data_motion_corrected)\n",
    "\n",
    "# Retrieve the independent components in brain space.\n",
    "canica_components_img = canica.components_img_\n",
    "# components_img is a Nifti Image object, and can be saved to a file with\n",
    "# the following lines:\n",
    "output_dir = Path.cwd() / \"results\" / \"plot_compare_decomposition\"\n",
    "output_dir.mkdir(exist_ok=True, parents=True)\n",
    "print(f\"Output will be saved to: {output_dir}\")\n",
    "canica_components_img.to_filename(output_dir / \"canica_resting_state.nii.gz\")"
   ]
  },
  {
   "cell_type": "markdown",
   "id": "224ca4c8-b2b2-4c9b-a555-bd1a5231db8d",
   "metadata": {
    "jp-MarkdownHeadingCollapsed": true
   },
   "source": [
    "## ICA result"
   ]
  },
  {
   "cell_type": "code",
   "execution_count": 23,
   "id": "a06005b2-4809-4f15-9f0d-43b81c81b9ff",
   "metadata": {},
   "outputs": [
    {
     "data": {
      "text/plain": [
       "<nilearn.plotting.displays._slicers.OrthoSlicer at 0x77342699fd10>"
      ]
     },
     "execution_count": 23,
     "metadata": {},
     "output_type": "execute_result"
    },
    {
     "data": {
      "image/png": "[encoded data removed]",
      "text/plain": [
       "<Figure size 660x350 with 4 Axes>"
      ]
     },
     "metadata": {},
     "output_type": "display_data"
    }
   ],
   "source": [
    "# Plot all ICA components together\n",
    "plot_prob_atlas(canica_components_img, bg_img = mean_img(data_motion_corrected),title=\"All ICA components\")"
   ]
  },
  {
   "cell_type": "code",
   "execution_count": 24,
   "id": "b529c3c3-2b23-4859-86a5-7fd022efe9b8",
   "metadata": {},
   "outputs": [
    {
     "data": {
      "image/png": "[encoded data removed]",
      "text/plain": [
       "<Figure size 220x320 with 2 Axes>"
      ]
     },
     "metadata": {},
     "output_type": "display_data"
    },
    {
     "data": {
      "image/png": "[encoded data removed]",
      "text/plain": [
       "<Figure size 220x320 with 2 Axes>"
      ]
     },
     "metadata": {},
     "output_type": "display_data"
    },
    {
     "data": {
      "image/png": "[encoded data removed]",
      "text/plain": [
       "<Figure size 220x320 with 2 Axes>"
      ]
     },
     "metadata": {},
     "output_type": "display_data"
    },
    {
     "name": "stderr",
     "output_type": "stream",
     "text": [
      "\n",
      "(ipykernel_launcher.py:5579): Gdk-WARNING **: 10:16:36.783: gdkdrawable-x11.c:952 drawable is not a pixmap or window\n"
     ]
    }
   ],
   "source": [
    "for i, cur_img in enumerate(iter_img(canica_components_img)):\n",
    "    plot_stat_map(\n",
    "        cur_img,\n",
    "        bg_img = mean_img(data_motion_corrected),\n",
    "        display_mode=\"z\",\n",
    "        title=f\"IC {int(i)}\",\n",
    "        cut_coords=1,\n",
    "        colorbar=False,\n",
    "    )"
   ]
  },
  {
   "cell_type": "code",
   "execution_count": null,
   "id": "9f64ba6a-1829-4db6-bb02-d7dbdc41bd88",
   "metadata": {},
   "outputs": [],
   "source": []
  }
 ],
 "metadata": {
  "kernelspec": {
   "display_name": "Python 3 (ipykernel)",
   "language": "python",
   "name": "python3"
  },
  "language_info": {
   "codemirror_mode": {
    "name": "ipython",
    "version": 3
   },
   "file_extension": ".py",
   "mimetype": "text/x-python",
   "name": "python",
   "nbconvert_exporter": "python",
   "pygments_lexer": "ipython3",
   "version": "3.11.6"
  }
 },
 "nbformat": 4,
 "nbformat_minor": 5
}
