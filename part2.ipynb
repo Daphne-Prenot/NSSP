{
 "cells": [
  {
   "cell_type": "markdown",
   "id": "52aba839-225f-4afb-b9d1-7e2bcab1571b",
   "metadata": {},
   "source": [
    "# NSSP project 1\n",
    "### preprocessing and GLM analysis"
   ]
  },
  {
   "cell_type": "markdown",
   "id": "12236843-d438-433d-8729-4610891465f6",
   "metadata": {},
   "source": [
    "In this notebook, we aims to study the neural processing of emotionally provocative auditory stimuli."
   ]
  },
  {
   "cell_type": "markdown",
   "id": "80425a6a-5467-4aac-aa7c-ec7ca793e6b5",
   "metadata": {},
   "source": [
    "# Setup the notebook"
   ]
  },
  {
   "cell_type": "markdown",
   "id": "aff179b7-2adb-44ee-90da-0d6cdcc43636",
   "metadata": {},
   "source": [
    "### Import, setup FSL"
   ]
  },
  {
   "cell_type": "code",
   "execution_count": 1,
   "id": "5090af07-222f-4710-b30a-953dff8b7ee7",
   "metadata": {},
   "outputs": [
    {
     "name": "stderr",
     "output_type": "stream",
     "text": [
      "Gtk-Message: 08:20:23.868: Failed to load module \"canberra-gtk-module\"\n"
     ]
    }
   ],
   "source": [
    "%gui wx\n",
    "import sys\n",
    "import os\n",
    "import os.path as op\n",
    "\n",
    "#utility functions from previous labs\n",
    "import utils \n",
    "\n",
    "#to download the dataset from openneuro\n",
    "import subprocess\n",
    "import openneuro\n",
    "\n",
    "#############################\n",
    "# Loading fsl and freesurfer within Neurodesk\n",
    "# You can find the list of available other modules by clicking on the \"Softwares\" tab on the left\n",
    "#############################\n",
    "import lmod\n",
    "await lmod.purge(force=True)\n",
    "await lmod.load('fsl/6.0.7.4')\n",
    "await lmod.load('freesurfer/7.4.1')\n",
    "await lmod.list()\n",
    "\n",
    "###################\n",
    "# Load all relevant libraries for the lab\n",
    "##################\n",
    "import fsl.wrappers\n",
    "from fsl.wrappers import fslmaths\n",
    "\n",
    "# FSL function wrappers which we will call from python directly\n",
    "from fsl.wrappers import fast, bet\n",
    "from fsl.wrappers.misc import fslroi\n",
    "from fsl.wrappers import flirt\n",
    "from fsl.wrappers import mcflirt\n",
    "\n",
    "from mne.datasets import sample\n",
    "from mne_bids import BIDSPath, read_raw_bids, print_dir_tree, make_report\n",
    "\n",
    "#concatenation\n",
    "import mne_nirs\n",
    "import nilearn\n",
    "from nilearn.image import concat_imgs, mean_img\n",
    "import nibabel as nib\n",
    "\n",
    "import ants\n",
    "\n",
    "# General purpose imports to handle paths, files etc\n",
    "import glob\n",
    "import pandas as pd\n",
    "import numpy as np\n",
    "import json\n",
    "import subprocess\n",
    "\n",
    "import matplotlib.pyplot as plt\n",
    "\n",
    "#GLM\n",
    "import nibabel as nib\n",
    "from nilearn.glm import threshold_stats_img\n",
    "from nilearn.plotting import plot_stat_map,plot_design_matrix,plot_contrast_matrix\n",
    "from nilearn.glm.first_level import make_first_level_design_matrix, FirstLevelModel"
   ]
  },
  {
   "cell_type": "code",
   "execution_count": 3,
   "id": "64111d20-6071-4674-9013-645dc0201e93",
   "metadata": {},
   "outputs": [],
   "source": [
    "#We define the parameters RERUN to rerun all the transform, if false it will use the saved files.\n",
    "RERUN = False"
   ]
  },
  {
   "cell_type": "markdown",
   "id": "18a293aa-bc51-4494-98ba-6ed4c22b6bc4",
   "metadata": {},
   "source": [
    "# Pre-processing"
   ]
  },
  {
   "cell_type": "code",
   "execution_count": null,
   "id": "20a00d05-25a6-45cd-b454-dadc672aa0f8",
   "metadata": {},
   "outputs": [],
   "source": []
  }
 ],
 "metadata": {
  "kernelspec": {
   "display_name": "Python 3 (ipykernel)",
   "language": "python",
   "name": "python3"
  },
  "language_info": {
   "codemirror_mode": {
    "name": "ipython",
    "version": 3
   },
   "file_extension": ".py",
   "mimetype": "text/x-python",
   "name": "python",
   "nbconvert_exporter": "python",
   "pygments_lexer": "ipython3",
   "version": "3.11.6"
  }
 },
 "nbformat": 4,
 "nbformat_minor": 5
}
