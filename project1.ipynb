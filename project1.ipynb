{
 "cells": [
  {
   "cell_type": "markdown",
   "id": "52aba839-225f-4afb-b9d1-7e2bcab1571b",
   "metadata": {},
   "source": [
    "# NSSP project 1"
   ]
  },
  {
   "cell_type": "code",
   "execution_count": 1,
   "id": "bf4befc3-47c7-4579-a15f-2f1d28c23c05",
   "metadata": {},
   "outputs": [],
   "source": [
    "%gui wx\n",
    "import sys\n",
    "import os\n",
    "\n",
    "#####################\n",
    "# Import of utils.py functions\n",
    "#####################\n",
    "# Required to get utils.py and access its functions\n",
    "notebook_dir = os.path.abspath(\"\")\n",
    "parent_dir = os.path.abspath(os.path.join(notebook_dir, '..'))\n",
    "sys.path.append(parent_dir)\n",
    "sys.path.append('.')\n",
    "from utils import loadFSL, FSLeyesServer, mkdir_no_exist, interactive_MCQ\n",
    "\n",
    "#############################\n",
    "# Loading fsl and freesurfer within Neurodesk\n",
    "# You can find the list of available other modules by clicking on the \"Softwares\" tab on the left\n",
    "#############################\n",
    "import lmod\n",
    "await lmod.purge(force=True)\n",
    "await lmod.load('fsl/6.0.7.4')\n",
    "await lmod.load('freesurfer/7.4.1')\n",
    "await lmod.list()\n",
    "\n",
    "####################\n",
    "# Setup FSL path\n",
    "####################\n",
    "loadFSL()\n",
    "\n",
    "###################\n",
    "# Load all relevant libraries for the lab\n",
    "##################\n",
    "import fsl.wrappers\n",
    "from fsl.wrappers import fslmaths\n",
    "\n",
    "import mne_nirs\n",
    "import nilearn\n",
    "from nilearn.datasets import fetch_development_fmri\n",
    "\n",
    "import mne\n",
    "import mne_nirs\n",
    "import dipy\n",
    "from dipy.data import fetch_bundles_2_subjects, read_bundles_2_subjects\n",
    "import xml.etree.ElementTree as ET\n",
    "import os.path as op\n",
    "import nibabel as nib\n",
    "import glob\n",
    "\n",
    "import ants\n",
    "\n",
    "import openneuro\n",
    "from mne.datasets import sample\n",
    "from mne_bids import BIDSPath, read_raw_bids, print_dir_tree, make_report\n",
    "\n",
    "\n",
    "# Useful imports to define the direct download function below\n",
    "import requests\n",
    "import urllib.request\n",
    "from tqdm import tqdm\n",
    "\n",
    "\n",
    "# FSL function wrappers which we will call from python directly\n",
    "from fsl.wrappers import fast, bet\n",
    "from fsl.wrappers.misc import fslroi\n",
    "from fsl.wrappers import flirt\n",
    "\n",
    "# General purpose imports to handle paths, files etc\n",
    "import glob\n",
    "import pandas as pd\n",
    "import numpy as np\n",
    "import json\n",
    "import subprocess"
   ]
  },
  {
   "cell_type": "code",
   "execution_count": 2,
   "id": "a8a549e6-5bf6-44de-ba44-ec4eaf818158",
   "metadata": {},
   "outputs": [
    {
     "name": "stderr",
     "output_type": "stream",
     "text": [
      "16:08:13: Debug: Adding duplicate image handler for 'Windows bitmap file'\n",
      "16:08:13: Debug: Adding duplicate animation handler for '1' type\n",
      "16:08:13: Debug: Adding duplicate animation handler for '2' type\n",
      "16:08:13: Debug: Adding duplicate image handler for 'Windows bitmap file'\n",
      "16:08:13: Debug: Adding duplicate animation handler for '1' type\n",
      "16:08:13: Debug: Adding duplicate animation handler for '2' type\n",
      "\n",
      "(ipykernel_launcher.py:5947): Gtk-CRITICAL **: 16:08:13.736: gtk_window_resize: assertion 'height > 0' failed\n"
     ]
    }
   ],
   "source": [
    "################\n",
    "# Start FSLeyes \n",
    "################\n",
    "fsleyesDisplay = FSLeyesServer()\n",
    "fsleyesDisplay.show()"
   ]
  },
  {
   "cell_type": "code",
   "execution_count": 4,
   "id": "91f9cdbd-73a9-4809-b861-129c2f4b923e",
   "metadata": {
    "scrolled": true
   },
   "outputs": [
    {
     "name": "stdout",
     "output_type": "stream",
     "text": [
      "\n",
      "👋 Hello! This is openneuro-py 2024.2.0. Great to see you! 🤗\n",
      "\n",
      "   👉 Please report problems 🤯 and bugs 🪲 at\n",
      "      https://github.com/hoechenberger/openneuro-py/issues\n",
      "\n",
      "🌍 Preparing to download ds000171 …\n"
     ]
    },
    {
     "name": "stderr",
     "output_type": "stream",
     "text": [
      "\u001b[31m╭─\u001b[0m\u001b[31m────────────────────\u001b[0m\u001b[31m \u001b[0m\u001b[1;31mTraceback \u001b[0m\u001b[1;2;31m(most recent call last)\u001b[0m\u001b[31m \u001b[0m\u001b[31m─────────────────────\u001b[0m\u001b[31m─╮\u001b[0m\n",
      "\u001b[31m│\u001b[0m \u001b[2;33m/opt/conda/lib/python3.11/site-packages/openneuro/\u001b[0m\u001b[1;33m_cli.py\u001b[0m:\u001b[94m64\u001b[0m in \u001b[92mdownload_cli\u001b[0m \u001b[31m│\u001b[0m\n",
      "\u001b[31m│\u001b[0m                                                                              \u001b[31m│\u001b[0m\n",
      "\u001b[31m│\u001b[0m   \u001b[2m 61 \u001b[0m\u001b[2m│   \u001b[0m] = \u001b[94m5\u001b[0m,                                                             \u001b[31m│\u001b[0m\n",
      "\u001b[31m│\u001b[0m   \u001b[2m 62 \u001b[0m) -> \u001b[94mNone\u001b[0m:                                                             \u001b[31m│\u001b[0m\n",
      "\u001b[31m│\u001b[0m   \u001b[2m 63 \u001b[0m\u001b[2;90m│   \u001b[0m\u001b[33m\"\"\"Download datasets from OpenNeuro.\"\"\"\u001b[0m                            \u001b[31m│\u001b[0m\n",
      "\u001b[31m│\u001b[0m \u001b[31m❱ \u001b[0m 64 \u001b[2m│   \u001b[0mdownload(                                                          \u001b[31m│\u001b[0m\n",
      "\u001b[31m│\u001b[0m   \u001b[2m 65 \u001b[0m\u001b[2m│   │   \u001b[0mdataset=dataset,                                               \u001b[31m│\u001b[0m\n",
      "\u001b[31m│\u001b[0m   \u001b[2m 66 \u001b[0m\u001b[2m│   │   \u001b[0mtag=tag,                                                       \u001b[31m│\u001b[0m\n",
      "\u001b[31m│\u001b[0m   \u001b[2m 67 \u001b[0m\u001b[2m│   │   \u001b[0mtarget_dir=target_dir,                                         \u001b[31m│\u001b[0m\n",
      "\u001b[31m│\u001b[0m                                                                              \u001b[31m│\u001b[0m\n",
      "\u001b[31m│\u001b[0m \u001b[33m╭─\u001b[0m\u001b[33m──────────────────────────\u001b[0m\u001b[33m locals \u001b[0m\u001b[33m──────────────────────────\u001b[0m\u001b[33m─╮\u001b[0m             \u001b[31m│\u001b[0m\n",
      "\u001b[31m│\u001b[0m \u001b[33m│\u001b[0m                  dataset = \u001b[33m'ds000171'\u001b[0m                        \u001b[33m│\u001b[0m             \u001b[31m│\u001b[0m\n",
      "\u001b[31m│\u001b[0m \u001b[33m│\u001b[0m                  exclude = \u001b[94mNone\u001b[0m                              \u001b[33m│\u001b[0m             \u001b[31m│\u001b[0m\n",
      "\u001b[31m│\u001b[0m \u001b[33m│\u001b[0m                  include = \u001b[33m'sub-control01/*'\u001b[0m                 \u001b[33m│\u001b[0m             \u001b[31m│\u001b[0m\n",
      "\u001b[31m│\u001b[0m \u001b[33m│\u001b[0m max_concurrent_downloads = \u001b[94m5\u001b[0m                                 \u001b[33m│\u001b[0m             \u001b[31m│\u001b[0m\n",
      "\u001b[31m│\u001b[0m \u001b[33m│\u001b[0m              max_retries = \u001b[94m5\u001b[0m                                 \u001b[33m│\u001b[0m             \u001b[31m│\u001b[0m\n",
      "\u001b[31m│\u001b[0m \u001b[33m│\u001b[0m                      tag = \u001b[94mNone\u001b[0m                              \u001b[33m│\u001b[0m             \u001b[31m│\u001b[0m\n",
      "\u001b[31m│\u001b[0m \u001b[33m│\u001b[0m               target_dir = \u001b[33m'/home/jovyan/data/NSSP/ds000171'\u001b[0m \u001b[33m│\u001b[0m             \u001b[31m│\u001b[0m\n",
      "\u001b[31m│\u001b[0m \u001b[33m│\u001b[0m              verify_hash = \u001b[94mTrue\u001b[0m                              \u001b[33m│\u001b[0m             \u001b[31m│\u001b[0m\n",
      "\u001b[31m│\u001b[0m \u001b[33m│\u001b[0m              verify_size = \u001b[94mTrue\u001b[0m                              \u001b[33m│\u001b[0m             \u001b[31m│\u001b[0m\n",
      "\u001b[31m│\u001b[0m \u001b[33m╰──────────────────────────────────────────────────────────────╯\u001b[0m             \u001b[31m│\u001b[0m\n",
      "\u001b[31m│\u001b[0m                                                                              \u001b[31m│\u001b[0m\n",
      "\u001b[31m│\u001b[0m \u001b[2;33m/opt/conda/lib/python3.11/site-packages/openneuro/\u001b[0m\u001b[1;33m_download.py\u001b[0m:\u001b[94m803\u001b[0m in        \u001b[31m│\u001b[0m\n",
      "\u001b[31m│\u001b[0m \u001b[92mdownload\u001b[0m                                                                     \u001b[31m│\u001b[0m\n",
      "\u001b[31m│\u001b[0m                                                                              \u001b[31m│\u001b[0m\n",
      "\u001b[31m│\u001b[0m   \u001b[2m800 \u001b[0m\u001b[2m│   │   \u001b[0mtarget_dir_empty = \u001b[96mlen\u001b[0m(\u001b[96mlist\u001b[0m(target_dir.rglob(\u001b[33m\"\u001b[0m\u001b[33m*\u001b[0m\u001b[33m\"\u001b[0m))) == \u001b[94m0\u001b[0m       \u001b[31m│\u001b[0m\n",
      "\u001b[31m│\u001b[0m   \u001b[2m801 \u001b[0m\u001b[2m│   │   \u001b[0m                                                               \u001b[31m│\u001b[0m\n",
      "\u001b[31m│\u001b[0m   \u001b[2m802 \u001b[0m\u001b[2m│   │   \u001b[0m\u001b[94mif\u001b[0m \u001b[95mnot\u001b[0m target_dir_empty:                                       \u001b[31m│\u001b[0m\n",
      "\u001b[31m│\u001b[0m \u001b[31m❱ \u001b[0m803 \u001b[2m│   │   │   \u001b[0mlocal_tag = _get_local_tag(dataset_id=dataset, dataset_dir \u001b[31m│\u001b[0m\n",
      "\u001b[31m│\u001b[0m   \u001b[2m804 \u001b[0m\u001b[2m│   │   │   \u001b[0m                                                           \u001b[31m│\u001b[0m\n",
      "\u001b[31m│\u001b[0m   \u001b[2m805 \u001b[0m\u001b[2m│   │   │   \u001b[0m\u001b[94mif\u001b[0m local_tag \u001b[95mis\u001b[0m \u001b[94mNone\u001b[0m:                                      \u001b[31m│\u001b[0m\n",
      "\u001b[31m│\u001b[0m   \u001b[2m806 \u001b[0m\u001b[2m│   │   │   │   \u001b[0mtqdm.write(                                            \u001b[31m│\u001b[0m\n",
      "\u001b[31m│\u001b[0m                                                                              \u001b[31m│\u001b[0m\n",
      "\u001b[31m│\u001b[0m \u001b[33m╭─\u001b[0m\u001b[33m────────────────────────────────\u001b[0m\u001b[33m locals \u001b[0m\u001b[33m────────────────────────────────\u001b[0m\u001b[33m─╮\u001b[0m \u001b[31m│\u001b[0m\n",
      "\u001b[31m│\u001b[0m \u001b[33m│\u001b[0m                  dataset = \u001b[33m'ds000171'\u001b[0m                                    \u001b[33m│\u001b[0m \u001b[31m│\u001b[0m\n",
      "\u001b[31m│\u001b[0m \u001b[33m│\u001b[0m                  exclude = \u001b[1m[\u001b[0m\u001b[1m]\u001b[0m                                            \u001b[33m│\u001b[0m \u001b[31m│\u001b[0m\n",
      "\u001b[31m│\u001b[0m \u001b[33m│\u001b[0m                  include = \u001b[1m[\u001b[0m\u001b[33m'sub-control01/*'\u001b[0m\u001b[1m]\u001b[0m                           \u001b[33m│\u001b[0m \u001b[31m│\u001b[0m\n",
      "\u001b[31m│\u001b[0m \u001b[33m│\u001b[0m max_concurrent_downloads = \u001b[94m5\u001b[0m                                             \u001b[33m│\u001b[0m \u001b[31m│\u001b[0m\n",
      "\u001b[31m│\u001b[0m \u001b[33m│\u001b[0m              max_retries = \u001b[94m5\u001b[0m                                             \u001b[33m│\u001b[0m \u001b[31m│\u001b[0m\n",
      "\u001b[31m│\u001b[0m \u001b[33m│\u001b[0m                 metadata = \u001b[1m{\u001b[0m                                             \u001b[33m│\u001b[0m \u001b[31m│\u001b[0m\n",
      "\u001b[31m│\u001b[0m \u001b[33m│\u001b[0m                            \u001b[2m│   \u001b[0m\u001b[33m'id'\u001b[0m: \u001b[33m'ds000171:00001'\u001b[0m,                   \u001b[33m│\u001b[0m \u001b[31m│\u001b[0m\n",
      "\u001b[31m│\u001b[0m \u001b[33m│\u001b[0m                            \u001b[2m│   \u001b[0m\u001b[33m'files'\u001b[0m: \u001b[1m[\u001b[0m                                \u001b[33m│\u001b[0m \u001b[31m│\u001b[0m\n",
      "\u001b[31m│\u001b[0m \u001b[33m│\u001b[0m                            \u001b[2m│   │   \u001b[0m\u001b[1m{\u001b[0m                                     \u001b[33m│\u001b[0m \u001b[31m│\u001b[0m\n",
      "\u001b[31m│\u001b[0m \u001b[33m│\u001b[0m                            \u001b[2m│   │   │   \u001b[0m\u001b[33m'filename'\u001b[0m: \u001b[33m'CHANGES'\u001b[0m,            \u001b[33m│\u001b[0m \u001b[31m│\u001b[0m\n",
      "\u001b[31m│\u001b[0m \u001b[33m│\u001b[0m                            \u001b[2m│   │   │   \u001b[0m\u001b[33m'urls'\u001b[0m: \u001b[1m[\u001b[0m                         \u001b[33m│\u001b[0m \u001b[31m│\u001b[0m\n",
      "\u001b[31m│\u001b[0m \u001b[33m│\u001b[0m                            \u001b[2m│   │   │   │   \u001b[0m                              \u001b[33m│\u001b[0m \u001b[31m│\u001b[0m\n",
      "\u001b[31m│\u001b[0m \u001b[33m│\u001b[0m                            \u001b[33m'https://s3.amazonaws.com/openneuro.org/ds00…\u001b[0m \u001b[33m│\u001b[0m \u001b[31m│\u001b[0m\n",
      "\u001b[31m│\u001b[0m \u001b[33m│\u001b[0m                            \u001b[2m│   │   │   \u001b[0m\u001b[1m]\u001b[0m,                                \u001b[33m│\u001b[0m \u001b[31m│\u001b[0m\n",
      "\u001b[31m│\u001b[0m \u001b[33m│\u001b[0m                            \u001b[2m│   │   │   \u001b[0m\u001b[33m'size'\u001b[0m: \u001b[94m45\u001b[0m,                       \u001b[33m│\u001b[0m \u001b[31m│\u001b[0m\n",
      "\u001b[31m│\u001b[0m \u001b[33m│\u001b[0m                            \u001b[2m│   │   │   \u001b[0m\u001b[33m'directory'\u001b[0m: \u001b[94mFalse\u001b[0m,               \u001b[33m│\u001b[0m \u001b[31m│\u001b[0m\n",
      "\u001b[31m│\u001b[0m \u001b[33m│\u001b[0m                            \u001b[2m│   │   │   \u001b[0m\u001b[33m'id'\u001b[0m:                             \u001b[33m│\u001b[0m \u001b[31m│\u001b[0m\n",
      "\u001b[31m│\u001b[0m \u001b[33m│\u001b[0m                            \u001b[33m'054658647c607c9d92a7e3f3b21e8e263685bfe3'\u001b[0m    \u001b[33m│\u001b[0m \u001b[31m│\u001b[0m\n",
      "\u001b[31m│\u001b[0m \u001b[33m│\u001b[0m                            \u001b[2m│   │   \u001b[0m\u001b[1m}\u001b[0m,                                    \u001b[33m│\u001b[0m \u001b[31m│\u001b[0m\n",
      "\u001b[31m│\u001b[0m \u001b[33m│\u001b[0m                            \u001b[2m│   │   \u001b[0m\u001b[1m{\u001b[0m                                     \u001b[33m│\u001b[0m \u001b[31m│\u001b[0m\n",
      "\u001b[31m│\u001b[0m \u001b[33m│\u001b[0m                            \u001b[2m│   │   │   \u001b[0m\u001b[33m'filename'\u001b[0m: \u001b[33m'README'\u001b[0m,             \u001b[33m│\u001b[0m \u001b[31m│\u001b[0m\n",
      "\u001b[31m│\u001b[0m \u001b[33m│\u001b[0m                            \u001b[2m│   │   │   \u001b[0m\u001b[33m'urls'\u001b[0m: \u001b[1m[\u001b[0m                         \u001b[33m│\u001b[0m \u001b[31m│\u001b[0m\n",
      "\u001b[31m│\u001b[0m \u001b[33m│\u001b[0m                            \u001b[2m│   │   │   │   \u001b[0m                              \u001b[33m│\u001b[0m \u001b[31m│\u001b[0m\n",
      "\u001b[31m│\u001b[0m \u001b[33m│\u001b[0m                            \u001b[33m'https://s3.amazonaws.com/openneuro.org/ds00…\u001b[0m \u001b[33m│\u001b[0m \u001b[31m│\u001b[0m\n",
      "\u001b[31m│\u001b[0m \u001b[33m│\u001b[0m                            \u001b[2m│   │   │   \u001b[0m\u001b[1m]\u001b[0m,                                \u001b[33m│\u001b[0m \u001b[31m│\u001b[0m\n",
      "\u001b[31m│\u001b[0m \u001b[33m│\u001b[0m                            \u001b[2m│   │   │   \u001b[0m\u001b[33m'size'\u001b[0m: \u001b[94m1006\u001b[0m,                     \u001b[33m│\u001b[0m \u001b[31m│\u001b[0m\n",
      "\u001b[31m│\u001b[0m \u001b[33m│\u001b[0m                            \u001b[2m│   │   │   \u001b[0m\u001b[33m'directory'\u001b[0m: \u001b[94mFalse\u001b[0m,               \u001b[33m│\u001b[0m \u001b[31m│\u001b[0m\n",
      "\u001b[31m│\u001b[0m \u001b[33m│\u001b[0m                            \u001b[2m���   │   │   \u001b[0m\u001b[33m'id'\u001b[0m:                             \u001b[33m│\u001b[0m \u001b[31m│\u001b[0m\n",
      "\u001b[31m│\u001b[0m \u001b[33m│\u001b[0m                            \u001b[33m'03da42fd500b57034407f835d5396a61edbd49f5'\u001b[0m    \u001b[33m│\u001b[0m \u001b[31m│\u001b[0m\n",
      "\u001b[31m│\u001b[0m \u001b[33m│\u001b[0m                            \u001b[2m│   │   \u001b[0m\u001b[1m}\u001b[0m,                                    \u001b[33m│\u001b[0m \u001b[31m│\u001b[0m\n",
      "\u001b[31m│\u001b[0m \u001b[33m│\u001b[0m                            \u001b[2m│   │   \u001b[0m\u001b[1m{\u001b[0m                                     \u001b[33m│\u001b[0m \u001b[31m│\u001b[0m\n",
      "\u001b[31m│\u001b[0m \u001b[33m│\u001b[0m                            \u001b[2m│   │   │   \u001b[0m\u001b[33m'filename'\u001b[0m:                       \u001b[33m│\u001b[0m \u001b[31m│\u001b[0m\n",
      "\u001b[31m│\u001b[0m \u001b[33m│\u001b[0m                            \u001b[33m'dataset_description.json'\u001b[0m,                   \u001b[33m│\u001b[0m \u001b[31m│\u001b[0m\n",
      "\u001b[31m│\u001b[0m \u001b[33m│\u001b[0m                            \u001b[2m│   │   │   \u001b[0m\u001b[33m'urls'\u001b[0m: \u001b[1m[\u001b[0m                         \u001b[33m│\u001b[0m \u001b[31m│\u001b[0m\n",
      "\u001b[31m│\u001b[0m \u001b[33m│\u001b[0m                            \u001b[2m│   │   │   │   \u001b[0m                              \u001b[33m│\u001b[0m \u001b[31m│\u001b[0m\n",
      "\u001b[31m│\u001b[0m \u001b[33m│\u001b[0m                            \u001b[33m'https://s3.amazonaws.com/openneuro.org/ds00…\u001b[0m \u001b[33m│\u001b[0m \u001b[31m│\u001b[0m\n",
      "\u001b[31m│\u001b[0m \u001b[33m│\u001b[0m                            \u001b[2m│   │   │   \u001b[0m\u001b[1m]\u001b[0m,                                \u001b[33m│\u001b[0m \u001b[31m│\u001b[0m\n",
      "\u001b[31m│\u001b[0m \u001b[33m│\u001b[0m                            \u001b[2m│   │   │   \u001b[0m\u001b[33m'size'\u001b[0m: \u001b[94m2856\u001b[0m,                     \u001b[33m│\u001b[0m \u001b[31m│\u001b[0m\n",
      "\u001b[31m│\u001b[0m \u001b[33m│\u001b[0m                            \u001b[2m│   │   │   \u001b[0m\u001b[33m'directory'\u001b[0m: \u001b[94mFalse\u001b[0m,               \u001b[33m│\u001b[0m \u001b[31m│\u001b[0m\n",
      "\u001b[31m│\u001b[0m \u001b[33m│\u001b[0m                            \u001b[2m│   │   │   \u001b[0m\u001b[33m'id'\u001b[0m:                             \u001b[33m│\u001b[0m \u001b[31m│\u001b[0m\n",
      "\u001b[31m│\u001b[0m \u001b[33m│\u001b[0m                            \u001b[33m'34c228102bf1c19cd9cff5df66c4630904a93ce2'\u001b[0m    \u001b[33m│\u001b[0m \u001b[31m│\u001b[0m\n",
      "\u001b[31m│\u001b[0m \u001b[33m│\u001b[0m                            \u001b[2m│   │   \u001b[0m\u001b[1m}\u001b[0m,                                    \u001b[33m│\u001b[0m \u001b[31m│\u001b[0m\n",
      "\u001b[31m│\u001b[0m \u001b[33m│\u001b[0m                            \u001b[2m│   │   \u001b[0m\u001b[1m{\u001b[0m                                     \u001b[33m│\u001b[0m \u001b[31m│\u001b[0m\n",
      "\u001b[31m│\u001b[0m \u001b[33m│\u001b[0m                            \u001b[2m│   │   │   \u001b[0m\u001b[33m'filename'\u001b[0m: \u001b[33m'T1w.json'\u001b[0m,           \u001b[33m│\u001b[0m \u001b[31m│\u001b[0m\n",
      "\u001b[31m│\u001b[0m \u001b[33m│\u001b[0m                            \u001b[2m│   │   │   \u001b[0m\u001b[33m'urls'\u001b[0m: \u001b[1m[\u001b[0m                         \u001b[33m│\u001b[0m \u001b[31m│\u001b[0m\n",
      "\u001b[31m│\u001b[0m \u001b[33m│\u001b[0m                            \u001b[2m│   │   │   │   \u001b[0m                              \u001b[33m│\u001b[0m \u001b[31m│\u001b[0m\n",
      "\u001b[31m│\u001b[0m \u001b[33m│\u001b[0m                            \u001b[33m'https://s3.amazonaws.com/openneuro.org/ds00…\u001b[0m \u001b[33m│\u001b[0m \u001b[31m│\u001b[0m\n",
      "\u001b[31m│\u001b[0m \u001b[33m│\u001b[0m                            \u001b[2m│   │   │   \u001b[0m\u001b[1m]\u001b[0m,                                \u001b[33m│\u001b[0m \u001b[31m│\u001b[0m\n",
      "\u001b[31m│\u001b[0m \u001b[33m│\u001b[0m                            \u001b[2m│   │   │   \u001b[0m\u001b[33m'size'\u001b[0m: \u001b[94m215\u001b[0m,                      \u001b[33m│\u001b[0m \u001b[31m│\u001b[0m\n",
      "\u001b[31m│\u001b[0m \u001b[33m│\u001b[0m                            \u001b[2m│   │   │   \u001b[0m\u001b[33m'directory'\u001b[0m: \u001b[94mFalse\u001b[0m,               \u001b[33m│\u001b[0m \u001b[31m│\u001b[0m\n",
      "\u001b[31m│\u001b[0m \u001b[33m│\u001b[0m                            \u001b[2m│   │   │   \u001b[0m\u001b[33m'id'\u001b[0m:                             \u001b[33m│\u001b[0m \u001b[31m│\u001b[0m\n",
      "\u001b[31m│\u001b[0m \u001b[33m│\u001b[0m                            \u001b[33m'2e68953fcbe43a203e87b65898d2ed14f2bbab6e'\u001b[0m    \u001b[33m│\u001b[0m \u001b[31m│\u001b[0m\n",
      "\u001b[31m│\u001b[0m \u001b[33m│\u001b[0m                            \u001b[2m│   │   \u001b[0m\u001b[1m}\u001b[0m,                                    \u001b[33m│\u001b[0m \u001b[31m│\u001b[0m\n",
      "\u001b[31m│\u001b[0m \u001b[33m│\u001b[0m                            \u001b[2m│   │   \u001b[0m\u001b[1m{\u001b[0m                                     \u001b[33m│\u001b[0m \u001b[31m│\u001b[0m\n",
      "\u001b[31m│\u001b[0m \u001b[33m│\u001b[0m                            \u001b[2m│   │   │   \u001b[0m\u001b[33m'filename'\u001b[0m: \u001b[33m'participants.tsv'\u001b[0m,   \u001b[33m│\u001b[0m \u001b[31m│\u001b[0m\n",
      "\u001b[31m│\u001b[0m \u001b[33m│\u001b[0m                            \u001b[2m│   │   │   \u001b[0m\u001b[33m'urls'\u001b[0m: \u001b[1m[\u001b[0m                         \u001b[33m│\u001b[0m \u001b[31m│\u001b[0m\n",
      "\u001b[31m│\u001b[0m \u001b[33m│\u001b[0m                            \u001b[2m│   │   │   │   \u001b[0m                              \u001b[33m│\u001b[0m \u001b[31m│\u001b[0m\n",
      "\u001b[31m│\u001b[0m \u001b[33m│\u001b[0m                            \u001b[33m'https://s3.amazonaws.com/openneuro.org/ds00…\u001b[0m \u001b[33m│\u001b[0m \u001b[31m│\u001b[0m\n",
      "\u001b[31m│\u001b[0m \u001b[33m│\u001b[0m                            \u001b[2m│   │   │   \u001b[0m\u001b[1m]\u001b[0m,                                \u001b[33m│\u001b[0m \u001b[31m│\u001b[0m\n",
      "\u001b[31m│\u001b[0m \u001b[33m│\u001b[0m                            \u001b[2m│   │   │   \u001b[0m\u001b[33m'size'\u001b[0m: \u001b[94m1668\u001b[0m,                     \u001b[33m│\u001b[0m \u001b[31m│\u001b[0m\n",
      "\u001b[31m│\u001b[0m \u001b[33m│\u001b[0m                            \u001b[2m│   │   │   \u001b[0m\u001b[33m'directory'\u001b[0m: \u001b[94mFalse\u001b[0m,               \u001b[33m│\u001b[0m \u001b[31m│\u001b[0m\n",
      "\u001b[31m│\u001b[0m \u001b[33m│\u001b[0m                            \u001b[2m│   ���   │   \u001b[0m\u001b[33m'id'\u001b[0m:                             \u001b[33m│\u001b[0m \u001b[31m│\u001b[0m\n",
      "\u001b[31m│\u001b[0m \u001b[33m│\u001b[0m                            \u001b[33m'8bbb678aec82adb20fe97cf80b72b9ee1cfee972'\u001b[0m    \u001b[33m│\u001b[0m \u001b[31m│\u001b[0m\n",
      "\u001b[31m│\u001b[0m \u001b[33m│\u001b[0m                            \u001b[2m│   │   \u001b[0m\u001b[1m}\u001b[0m,                                    \u001b[33m│\u001b[0m \u001b[31m│\u001b[0m\n",
      "\u001b[31m│\u001b[0m \u001b[33m│\u001b[0m                            \u001b[2m│   │   \u001b[0m\u001b[1m{\u001b[0m                                     \u001b[33m│\u001b[0m \u001b[31m│\u001b[0m\n",
      "\u001b[31m│\u001b[0m \u001b[33m│\u001b[0m                            \u001b[2m│   │   │   \u001b[0m\u001b[33m'filename'\u001b[0m:                       \u001b[33m│\u001b[0m \u001b[31m│\u001b[0m\n",
      "\u001b[31m│\u001b[0m \u001b[33m│\u001b[0m                            \u001b[33m'task-music_bold.json'\u001b[0m,                       \u001b[33m│\u001b[0m \u001b[31m│\u001b[0m\n",
      "\u001b[31m│\u001b[0m \u001b[33m│\u001b[0m                            \u001b[2m│   │   │   \u001b[0m\u001b[33m'urls'\u001b[0m: \u001b[1m[\u001b[0m                         \u001b[33m│\u001b[0m \u001b[31m│\u001b[0m\n",
      "\u001b[31m│\u001b[0m \u001b[33m│\u001b[0m                            \u001b[2m│   │   │   │   \u001b[0m                              \u001b[33m│\u001b[0m \u001b[31m│\u001b[0m\n",
      "\u001b[31m│\u001b[0m \u001b[33m│\u001b[0m                            \u001b[33m'https://s3.amazonaws.com/openneuro.org/ds00…\u001b[0m \u001b[33m│\u001b[0m \u001b[31m│\u001b[0m\n",
      "\u001b[31m│\u001b[0m \u001b[33m│\u001b[0m                            \u001b[2m│   │   │   \u001b[0m\u001b[1m]\u001b[0m,                                \u001b[33m│\u001b[0m \u001b[31m│\u001b[0m\n",
      "\u001b[31m│\u001b[0m \u001b[33m│\u001b[0m                            \u001b[2m│   │   │   \u001b[0m\u001b[33m'size'\u001b[0m: \u001b[94m720\u001b[0m,                      \u001b[33m│\u001b[0m \u001b[31m│\u001b[0m\n",
      "\u001b[31m│\u001b[0m \u001b[33m│\u001b[0m                            \u001b[2m│   │   │   \u001b[0m\u001b[33m'directory'\u001b[0m: \u001b[94mFalse\u001b[0m,               \u001b[33m│\u001b[0m \u001b[31m│\u001b[0m\n",
      "\u001b[31m│\u001b[0m \u001b[33m│\u001b[0m                            \u001b[2m│   │   │   \u001b[0m\u001b[33m'id'\u001b[0m:                             \u001b[33m│\u001b[0m \u001b[31m│\u001b[0m\n",
      "\u001b[31m│\u001b[0m \u001b[33m│\u001b[0m                            \u001b[33m'a42272920a5ba36c12fbd70657c9098ebad18bd1'\u001b[0m    \u001b[33m│\u001b[0m \u001b[31m│\u001b[0m\n",
      "\u001b[31m│\u001b[0m \u001b[33m│\u001b[0m                            \u001b[2m│   │   \u001b[0m\u001b[1m}\u001b[0m,                                    \u001b[33m│\u001b[0m \u001b[31m│\u001b[0m\n",
      "\u001b[31m│\u001b[0m \u001b[33m│\u001b[0m                            \u001b[2m│   │   \u001b[0m\u001b[1m{\u001b[0m                                     \u001b[33m│\u001b[0m \u001b[31m│\u001b[0m\n",
      "\u001b[31m│\u001b[0m \u001b[33m│\u001b[0m                            \u001b[2m│   │   │   \u001b[0m\u001b[33m'filename'\u001b[0m:                       \u001b[33m│\u001b[0m \u001b[31m│\u001b[0m\n",
      "\u001b[31m│\u001b[0m \u001b[33m│\u001b[0m                            \u001b[33m'task-nonmusic_bold.json'\u001b[0m,                    \u001b[33m│\u001b[0m \u001b[31m│\u001b[0m\n",
      "\u001b[31m│\u001b[0m \u001b[33m│\u001b[0m                            \u001b[2m│   │   │   \u001b[0m\u001b[33m'urls'\u001b[0m: \u001b[1m[\u001b[0m                         \u001b[33m│\u001b[0m \u001b[31m│\u001b[0m\n",
      "\u001b[31m│\u001b[0m \u001b[33m│\u001b[0m                            \u001b[2m│   │   │   │   \u001b[0m                              \u001b[33m│\u001b[0m \u001b[31m│\u001b[0m\n",
      "\u001b[31m│\u001b[0m \u001b[33m│\u001b[0m                            \u001b[33m'https://s3.amazonaws.com/openneuro.org/ds00…\u001b[0m \u001b[33m│\u001b[0m \u001b[31m│\u001b[0m\n",
      "\u001b[31m│\u001b[0m \u001b[33m│\u001b[0m                            \u001b[2m│   │   │   \u001b[0m\u001b[1m]\u001b[0m,                                \u001b[33m│\u001b[0m \u001b[31m│\u001b[0m\n",
      "\u001b[31m│\u001b[0m \u001b[33m│\u001b[0m                            \u001b[2m│   │   │   \u001b[0m\u001b[33m'size'\u001b[0m: \u001b[94m723\u001b[0m,                      \u001b[33m│\u001b[0m \u001b[31m│\u001b[0m\n",
      "\u001b[31m│\u001b[0m \u001b[33m│\u001b[0m                            \u001b[2m│   │   │   \u001b[0m\u001b[33m'directory'\u001b[0m: \u001b[94mFalse\u001b[0m,               \u001b[33m│\u001b[0m \u001b[31m│\u001b[0m\n",
      "\u001b[31m│\u001b[0m \u001b[33m│\u001b[0m                            \u001b[2m│   │   │   \u001b[0m\u001b[33m'id'\u001b[0m:                             \u001b[33m│\u001b[0m \u001b[31m│\u001b[0m\n",
      "\u001b[31m│\u001b[0m \u001b[33m│\u001b[0m                            \u001b[33m'231c9df0c7508b5b1f6731388045a4acf49137b2'\u001b[0m    \u001b[33m│\u001b[0m \u001b[31m│\u001b[0m\n",
      "\u001b[31m│\u001b[0m \u001b[33m│\u001b[0m                            \u001b[2m│   │   \u001b[0m\u001b[1m}\u001b[0m,                                    \u001b[33m│\u001b[0m \u001b[31m│\u001b[0m\n",
      "\u001b[31m│\u001b[0m \u001b[33m│\u001b[0m                            \u001b[2m│   │   \u001b[0m\u001b[1m{\u001b[0m                                     \u001b[33m│\u001b[0m \u001b[31m│\u001b[0m\n",
      "\u001b[31m│\u001b[0m \u001b[33m│\u001b[0m                            \u001b[2m│   │   │   \u001b[0m\u001b[33m'filename'\u001b[0m: \u001b[33m'sub-control01'\u001b[0m,      \u001b[33m│\u001b[0m \u001b[31m│\u001b[0m\n",
      "\u001b[31m│\u001b[0m \u001b[33m│\u001b[0m                            \u001b[2m│   │   │   \u001b[0m\u001b[33m'urls'\u001b[0m: \u001b[1m[\u001b[0m\u001b[1m]\u001b[0m,                       \u001b[33m│\u001b[0m \u001b[31m│\u001b[0m\n",
      "\u001b[31m│\u001b[0m \u001b[33m│\u001b[0m                            \u001b[2m│   │   │   \u001b[0m\u001b[33m'size'\u001b[0m: \u001b[94m0\u001b[0m,                        \u001b[33m│\u001b[0m \u001b[31m│\u001b[0m\n",
      "\u001b[31m│\u001b[0m \u001b[33m│\u001b[0m                            \u001b[2m│   │   │   \u001b[0m\u001b[33m'directory'\u001b[0m: \u001b[94mTrue\u001b[0m,                \u001b[33m│\u001b[0m \u001b[31m│\u001b[0m\n",
      "\u001b[31m│\u001b[0m \u001b[33m│\u001b[0m                            \u001b[2m│   │   │   \u001b[0m\u001b[33m'id'\u001b[0m:                             \u001b[33m│\u001b[0m \u001b[31m│\u001b[0m\n",
      "\u001b[31m│\u001b[0m \u001b[33m│\u001b[0m                            \u001b[33m'76c47218cf01324ff5f2cc0c4dc57a3f5349f4a1'\u001b[0m    \u001b[33m│\u001b[0m \u001b[31m│\u001b[0m\n",
      "\u001b[31m│\u001b[0m \u001b[33m│\u001b[0m                            \u001b[2m│   │   \u001b[0m\u001b[1m}\u001b[0m,                                    \u001b[33m│\u001b[0m \u001b[31m│\u001b[0m\n",
      "\u001b[31m│\u001b[0m \u001b[33m│\u001b[0m                            \u001b[2m│   │   \u001b[0m\u001b[1m{\u001b[0m                                     \u001b[33m│\u001b[0m \u001b[31m│\u001b[0m\n",
      "\u001b[31m│\u001b[0m \u001b[33m│\u001b[0m                            \u001b[2m│   │   │   \u001b[0m\u001b[33m'filename'\u001b[0m: \u001b[33m'sub-control02'\u001b[0m,      \u001b[33m│\u001b[0m \u001b[31m│\u001b[0m\n",
      "\u001b[31m│\u001b[0m \u001b[33m│\u001b[0m                            \u001b[2m│   │   │   \u001b[0m\u001b[33m'urls'\u001b[0m: \u001b[1m[\u001b[0m\u001b[1m]\u001b[0m,                       \u001b[33m│\u001b[0m \u001b[31m│\u001b[0m\n",
      "\u001b[31m│\u001b[0m \u001b[33m│\u001b[0m                            \u001b[2m│   │   │   \u001b[0m\u001b[33m'size'\u001b[0m: \u001b[94m0\u001b[0m,                        \u001b[33m│\u001b[0m \u001b[31m│\u001b[0m\n",
      "\u001b[31m│\u001b[0m \u001b[33m│\u001b[0m                            \u001b[2m│   │   │   \u001b[0m\u001b[33m'directory'\u001b[0m: \u001b[94mTrue\u001b[0m,                \u001b[33m│\u001b[0m \u001b[31m│\u001b[0m\n",
      "\u001b[31m│\u001b[0m \u001b[33m│\u001b[0m                            \u001b[2m│   │   │   \u001b[0m\u001b[33m'id'\u001b[0m:                             \u001b[33m│\u001b[0m \u001b[31m│\u001b[0m\n",
      "\u001b[31m���\u001b[0m \u001b[33m│\u001b[0m                            \u001b[33m'a28f358a61363d28d2298b71ae1cdaec030801eb'\u001b[0m    \u001b[33m│\u001b[0m \u001b[31m│\u001b[0m\n",
      "\u001b[31m│\u001b[0m \u001b[33m│\u001b[0m                            \u001b[2m│   │   \u001b[0m\u001b[1m}\u001b[0m,                                    \u001b[33m│\u001b[0m \u001b[31m│\u001b[0m\n",
      "\u001b[31m│\u001b[0m \u001b[33m│\u001b[0m                            \u001b[2m│   │   \u001b[0m\u001b[1m{\u001b[0m                                     \u001b[33m│\u001b[0m \u001b[31m│\u001b[0m\n",
      "\u001b[31m│\u001b[0m \u001b[33m│\u001b[0m                            \u001b[2m│   │   │   \u001b[0m\u001b[33m'filename'\u001b[0m: \u001b[33m'sub-control03'\u001b[0m,      \u001b[33m│\u001b[0m \u001b[31m│\u001b[0m\n",
      "\u001b[31m│\u001b[0m \u001b[33m│\u001b[0m                            \u001b[2m│   │   │   \u001b[0m\u001b[33m'urls'\u001b[0m: \u001b[1m[\u001b[0m\u001b[1m]\u001b[0m,                       \u001b[33m│\u001b[0m \u001b[31m│\u001b[0m\n",
      "\u001b[31m│\u001b[0m \u001b[33m│\u001b[0m                            \u001b[2m│   │   │   \u001b[0m\u001b[33m'size'\u001b[0m: \u001b[94m0\u001b[0m,                        \u001b[33m│\u001b[0m \u001b[31m│\u001b[0m\n",
      "\u001b[31m│\u001b[0m \u001b[33m│\u001b[0m                            \u001b[2m│   │   │   \u001b[0m\u001b[33m'directory'\u001b[0m: \u001b[94mTrue\u001b[0m,                \u001b[33m│\u001b[0m \u001b[31m│\u001b[0m\n",
      "\u001b[31m│\u001b[0m \u001b[33m│\u001b[0m                            \u001b[2m│   │   │   \u001b[0m\u001b[33m'id'\u001b[0m:                             \u001b[33m│\u001b[0m \u001b[31m│\u001b[0m\n",
      "\u001b[31m│\u001b[0m \u001b[33m│\u001b[0m                            \u001b[33m'72a10b497485c743855314e0a44e563e00cfdc06'\u001b[0m    \u001b[33m│\u001b[0m \u001b[31m│\u001b[0m\n",
      "\u001b[31m│\u001b[0m \u001b[33m│\u001b[0m                            \u001b[2m│   │   \u001b[0m\u001b[1m}\u001b[0m,                                    \u001b[33m│\u001b[0m \u001b[31m│\u001b[0m\n",
      "\u001b[31m│\u001b[0m \u001b[33m│\u001b[0m                            \u001b[2m│   │   \u001b[0m\u001b[33m...\u001b[0m +\u001b[94m36\u001b[0m                               \u001b[33m│\u001b[0m \u001b[31m│\u001b[0m\n",
      "\u001b[31m│\u001b[0m \u001b[33m│\u001b[0m                            \u001b[2m│   \u001b[0m\u001b[1m]\u001b[0m                                         \u001b[33m│\u001b[0m \u001b[31m│\u001b[0m\n",
      "\u001b[31m│\u001b[0m \u001b[33m│\u001b[0m                            \u001b[1m}\u001b[0m                                             \u001b[33m│\u001b[0m \u001b[31m│\u001b[0m\n",
      "\u001b[31m│\u001b[0m \u001b[33m│\u001b[0m                      msg = \u001b[33m'\\n👋 Hello! This is openneuro-py 2024.2.0. \u001b[0m  \u001b[33m│\u001b[0m \u001b[31m│\u001b[0m\n",
      "\u001b[31m│\u001b[0m \u001b[33m│\u001b[0m                            \u001b[33mGreat to see you! 🤗\\n\\n   👉 Please \u001b[0m         \u001b[33m│\u001b[0m \u001b[31m│\u001b[0m\n",
      "\u001b[31m│\u001b[0m \u001b[33m│\u001b[0m                            \u001b[33mreport'\u001b[0m+\u001b[94m85\u001b[0m                                    \u001b[33m│\u001b[0m \u001b[31m│\u001b[0m\n",
      "\u001b[31m│\u001b[0m \u001b[33m│\u001b[0m                 msg_bugs = \u001b[33m'bugs 🪲'\u001b[0m                                     \u001b[33m│\u001b[0m \u001b[31m│\u001b[0m\n",
      "\u001b[31m│\u001b[0m \u001b[33m│\u001b[0m     msg_great_to_see_you = \u001b[33m'Great to see you! 🤗'\u001b[0m                        \u001b[33m│\u001b[0m \u001b[31m│\u001b[0m\n",
      "\u001b[31m│\u001b[0m \u001b[33m│\u001b[0m                msg_hello = \u001b[33m'👋 Hello!'\u001b[0m                                   \u001b[33m│\u001b[0m \u001b[31m│\u001b[0m\n",
      "\u001b[31m│\u001b[0m \u001b[33m│\u001b[0m               msg_please = \u001b[33m'👉 Please'\u001b[0m                                   \u001b[33m│\u001b[0m \u001b[31m│\u001b[0m\n",
      "\u001b[31m│\u001b[0m \u001b[33m│\u001b[0m             msg_problems = \u001b[33m'problems 🤯'\u001b[0m                                 \u001b[33m│\u001b[0m \u001b[31m│\u001b[0m\n",
      "\u001b[31m│\u001b[0m \u001b[33m│\u001b[0m            retry_backoff = \u001b[94m0.5\u001b[0m                                           \u001b[33m│\u001b[0m \u001b[31m│\u001b[0m\n",
      "\u001b[31m│\u001b[0m \u001b[33m│\u001b[0m                      tag = \u001b[33m'00001'\u001b[0m                                       \u001b[33m│\u001b[0m \u001b[31m│\u001b[0m\n",
      "\u001b[31m│\u001b[0m \u001b[33m│\u001b[0m               target_dir = \u001b[1;35mPosixPath\u001b[0m\u001b[1m(\u001b[0m\u001b[33m'/data/NSSP/ds000171'\u001b[0m\u001b[1m)\u001b[0m              \u001b[33m│\u001b[0m \u001b[31m│\u001b[0m\n",
      "\u001b[31m│\u001b[0m \u001b[33m│\u001b[0m         target_dir_empty = \u001b[94mFalse\u001b[0m                                         \u001b[33m│\u001b[0m \u001b[31m│\u001b[0m\n",
      "\u001b[31m│\u001b[0m \u001b[33m│\u001b[0m              verify_hash = \u001b[94mTrue\u001b[0m                                          \u001b[33m│\u001b[0m \u001b[31m│\u001b[0m\n",
      "\u001b[31m│\u001b[0m \u001b[33m│\u001b[0m              verify_size = \u001b[94mTrue\u001b[0m                                          \u001b[33m│\u001b[0m \u001b[31m│\u001b[0m\n",
      "\u001b[31m│\u001b[0m \u001b[33m╰──────────────────────────────────────────────��───────────────────────────╯\u001b[0m \u001b[31m│\u001b[0m\n",
      "\u001b[31m│\u001b[0m                                                                              \u001b[31m│\u001b[0m\n",
      "\u001b[31m│\u001b[0m \u001b[2;33m/opt/conda/lib/python3.11/site-packages/openneuro/\u001b[0m\u001b[1;33m_download.py\u001b[0m:\u001b[94m587\u001b[0m in        \u001b[31m│\u001b[0m\n",
      "\u001b[31m│\u001b[0m \u001b[92m_get_local_tag\u001b[0m                                                               \u001b[31m│\u001b[0m\n",
      "\u001b[31m│\u001b[0m                                                                              \u001b[31m│\u001b[0m\n",
      "\u001b[31m│\u001b[0m   \u001b[2m584 \u001b[0m\u001b[2m│   \u001b[0mlocal_json = json.loads(local_json_file_content)                   \u001b[31m│\u001b[0m\n",
      "\u001b[31m│\u001b[0m   \u001b[2m585 \u001b[0m\u001b[2m│   \u001b[0m                                                                   \u001b[31m│\u001b[0m\n",
      "\u001b[31m│\u001b[0m   \u001b[2m586 \u001b[0m\u001b[2m│   \u001b[0m\u001b[94mif\u001b[0m \u001b[33m\"\u001b[0m\u001b[33mDatasetDOI\u001b[0m\u001b[33m\"\u001b[0m \u001b[95mnot\u001b[0m \u001b[95min\u001b[0m local_json:                                 \u001b[31m│\u001b[0m\n",
      "\u001b[31m│\u001b[0m \u001b[31m❱ \u001b[0m587 \u001b[2m│   │   \u001b[0m\u001b[94mraise\u001b[0m \u001b[96mRuntimeError\u001b[0m(                                            \u001b[31m│\u001b[0m\n",
      "\u001b[31m│\u001b[0m   \u001b[2m588 \u001b[0m\u001b[2m│   │   │   \u001b[0m\u001b[33m'\u001b[0m\u001b[33mLocal \u001b[0m\u001b[33m\"\u001b[0m\u001b[33mdataset_description.json\u001b[0m\u001b[33m\"\u001b[0m\u001b[33m does not contain \u001b[0m\u001b[33m'\u001b[0m       \u001b[31m│\u001b[0m\n",
      "\u001b[31m│\u001b[0m   \u001b[2m589 \u001b[0m\u001b[2m│   │   │   \u001b[0m\u001b[33m'\u001b[0m\u001b[33m\"\u001b[0m\u001b[33mDatasetDOI\u001b[0m\u001b[33m\"\u001b[0m\u001b[33m field. Are you sure this is the \u001b[0m\u001b[33m'\u001b[0m            \u001b[31m│\u001b[0m\n",
      "\u001b[31m│\u001b[0m   \u001b[2m590 \u001b[0m\u001b[2m│   │   │   \u001b[0m\u001b[33m\"\u001b[0m\u001b[33mcorrect directory?\u001b[0m\u001b[33m\"\u001b[0m                                       \u001b[31m│\u001b[0m\n",
      "\u001b[31m│\u001b[0m                                                                              \u001b[31m│\u001b[0m\n",
      "\u001b[31m│\u001b[0m \u001b[33m╭─\u001b[0m\u001b[33m────────────────────────────────\u001b[0m\u001b[33m locals \u001b[0m\u001b[33m────────────────────────────────\u001b[0m\u001b[33m��╮\u001b[0m \u001b[31m│\u001b[0m\n",
      "\u001b[31m│\u001b[0m \u001b[33m│\u001b[0m             dataset_dir = \u001b[1;35mPosixPath\u001b[0m\u001b[1m(\u001b[0m\u001b[33m'/data/NSSP/ds000171'\u001b[0m\u001b[1m)\u001b[0m               \u001b[33m│\u001b[0m \u001b[31m│\u001b[0m\n",
      "\u001b[31m│\u001b[0m \u001b[33m│\u001b[0m              dataset_id = \u001b[33m'ds000171'\u001b[0m                                     \u001b[33m│\u001b[0m \u001b[31m│\u001b[0m\n",
      "\u001b[31m│\u001b[0m \u001b[33m│\u001b[0m              local_json = \u001b[1m{\u001b[0m                                              \u001b[33m│\u001b[0m \u001b[31m│\u001b[0m\n",
      "\u001b[31m│\u001b[0m \u001b[33m│\u001b[0m                           \u001b[2m│   \u001b[0m\u001b[33m'Name'\u001b[0m: \u001b[33m'Neural Processing of Emotional \u001b[0m   \u001b[33m│\u001b[0m \u001b[31m│\u001b[0m\n",
      "\u001b[31m│\u001b[0m \u001b[33m│\u001b[0m                           \u001b[33mMusical and Nonmusical Stimuli in Depression'\u001b[0m, \u001b[33m│\u001b[0m \u001b[31m│\u001b[0m\n",
      "\u001b[31m│\u001b[0m \u001b[33m│\u001b[0m                           \u001b[2m│   \u001b[0m\u001b[33m'BIDSVersion'\u001b[0m: \u001b[33m'1.0.0-rc2'\u001b[0m,                \u001b[33m│\u001b[0m \u001b[31m│\u001b[0m\n",
      "\u001b[31m│\u001b[0m \u001b[33m│\u001b[0m                           \u001b[2m│   \u001b[0m\u001b[33m'License'\u001b[0m: \u001b[33m'PDDL'\u001b[0m,                         \u001b[33m│\u001b[0m \u001b[31m│\u001b[0m\n",
      "\u001b[31m│\u001b[0m \u001b[33m│\u001b[0m                           \u001b[2m│   \u001b[0m\u001b[33m'Authors'\u001b[0m: \u001b[1m[\u001b[0m                               \u001b[33m│\u001b[0m \u001b[31m│\u001b[0m\n",
      "\u001b[31m│\u001b[0m \u001b[33m│\u001b[0m                           \u001b[2m│   │   \u001b[0m\u001b[33m'Rebecca J. Lepping'\u001b[0m,                  \u001b[33m│\u001b[0m \u001b[31m│\u001b[0m\n",
      "\u001b[31m│\u001b[0m \u001b[33m│\u001b[0m                           \u001b[2m│   │   \u001b[0m\u001b[33m'Ruth Ann Atchley'\u001b[0m,                    \u001b[33m│\u001b[0m \u001b[31m│\u001b[0m\n",
      "\u001b[31m│\u001b[0m \u001b[33m│\u001b[0m                           \u001b[2m│   │   \u001b[0m\u001b[33m'Evangelia Chrysikou'\u001b[0m,                 \u001b[33m│\u001b[0m \u001b[31m│\u001b[0m\n",
      "\u001b[31m│\u001b[0m \u001b[33m│\u001b[0m                           \u001b[2m│   │   \u001b[0m\u001b[33m'Laura E. Martin'\u001b[0m,                     \u001b[33m│\u001b[0m \u001b[31m│\u001b[0m\n",
      "\u001b[31m│\u001b[0m \u001b[33m│\u001b[0m                           \u001b[2m│   │   \u001b[0m\u001b[33m'Alicia A. Clair'\u001b[0m,                     \u001b[33m│\u001b[0m \u001b[31m│\u001b[0m\n",
      "\u001b[31m│\u001b[0m \u001b[33m│\u001b[0m                           \u001b[2m│   │   \u001b[0m\u001b[33m'Rick E. Ingram'\u001b[0m,                      \u001b[33m│\u001b[0m \u001b[31m│\u001b[0m\n",
      "\u001b[31m│\u001b[0m \u001b[33m│\u001b[0m                           \u001b[2m│   │   \u001b[0m\u001b[33m'W. Kyle Simmons'\u001b[0m,                     \u001b[33m│\u001b[0m \u001b[31m│\u001b[0m\n",
      "\u001b[31m│\u001b[0m \u001b[33m│\u001b[0m                           \u001b[2m│   │   \u001b[0m\u001b[33m'Cary R. Savage'\u001b[0m                       \u001b[33m│\u001b[0m \u001b[31m│\u001b[0m\n",
      "\u001b[31m│\u001b[0m \u001b[33m│\u001b[0m                           \u001b[2m│   \u001b[0m\u001b[1m]\u001b[0m,                                         \u001b[33m│\u001b[0m \u001b[31m│\u001b[0m\n",
      "\u001b[31m│\u001b[0m \u001b[33m│\u001b[0m                           \u001b[2m│   \u001b[0m\u001b[33m'Acknowledgements'\u001b[0m: \u001b[33m'The authors wish to \u001b[0m  \u001b[33m│\u001b[0m \u001b[31m│\u001b[0m\n",
      "\u001b[31m│\u001b[0m \u001b[33m│\u001b[0m                           \u001b[33macknowledge Trisha Patrician and Natalie \u001b[0m      \u001b[33m│\u001b[0m \u001b[31m│\u001b[0m\n",
      "\u001b[31m│\u001b[0m \u001b[33m│\u001b[0m                           \u001b[33mStroupe for their a'\u001b[0m+\u001b[94m124\u001b[0m,                      \u001b[33m│\u001b[0m \u001b[31m│\u001b[0m\n",
      "\u001b[31m│\u001b[0m \u001b[33m│\u001b[0m                           \u001b[2m│   \u001b[0m\u001b[33m'HowToAcknowledge'\u001b[0m: \u001b[33m'Please cite the \u001b[0m      \u001b[33m│\u001b[0m \u001b[31m│\u001b[0m\n",
      "\u001b[31m│\u001b[0m \u001b[33m│\u001b[0m                           \u001b[33mpapers listed in the ReferencesAndLinks'\u001b[0m,      \u001b[33m│\u001b[0m \u001b[31m│\u001b[0m\n",
      "\u001b[31m│\u001b[0m \u001b[33m│\u001b[0m                           \u001b[2m│   \u001b[0m\u001b[33m'Funding'\u001b[0m: \u001b[33m'This work was supported by \u001b[0m    \u001b[33m│\u001b[0m \u001b[31m│\u001b[0m\n",
      "\u001b[31m│\u001b[0m \u001b[33m│\u001b[0m                           \u001b[33mfunding to RL from The Society for Education, \u001b[0m \u001b[33m│\u001b[0m \u001b[31m│\u001b[0m\n",
      "\u001b[31m│\u001b[0m \u001b[33m│\u001b[0m                           \u001b[33mMusic a'\u001b[0m+\u001b[94m676\u001b[0m,                                  \u001b[33m│\u001b[0m \u001b[31m│\u001b[0m\n",
      "\u001b[31m│\u001b[0m \u001b[33m│\u001b[0m                           \u001b[2m│   \u001b[0m\u001b[33m'ReferencesAndLinks'\u001b[0m: \u001b[1m[\u001b[0m                    \u001b[33m│\u001b[0m \u001b[31m│\u001b[0m\n",
      "\u001b[31m│\u001b[0m \u001b[33m│\u001b[0m                           \u001b[2m│   │   \u001b[0m\u001b[33m'Lepping RJ, Atchley RA, Chrysikou E, \u001b[0m \u001b[33m│\u001b[0m \u001b[31m│\u001b[0m\n",
      "\u001b[31m│\u001b[0m \u001b[33m│\u001b[0m                           \u001b[33mMartin LE, Clair AA, Ingram RE, et al. \u001b[0m        \u001b[33m│\u001b[0m \u001b[31m│\u001b[0m\n",
      "\u001b[31m│\u001b[0m \u001b[33m│\u001b[0m                           \u001b[33mNeur'\u001b[0m+\u001b[94m93\u001b[0m,                                      \u001b[33m│\u001b[0m \u001b[31m│\u001b[0m\n",
      "\u001b[31m│\u001b[0m \u001b[33m│\u001b[0m                           \u001b[2m│   │   \u001b[0m\u001b[33m'Lepping RJ, Atchley RA, Savage CR. \u001b[0m   \u001b[33m│\u001b[0m \u001b[31m│\u001b[0m\n",
      "\u001b[31m│\u001b[0m \u001b[33m│\u001b[0m                           \u001b[33mDevelopment of a Validated Emotionally \u001b[0m        \u001b[33m│\u001b[0m \u001b[31m│\u001b[0m\n",
      "\u001b[31m│\u001b[0m \u001b[33m│\u001b[0m                           \u001b[33mProvoc'\u001b[0m+\u001b[94m118\u001b[0m,                                   \u001b[33m│\u001b[0m \u001b[31m│\u001b[0m\n",
      "\u001b[31m│\u001b[0m \u001b[33m│\u001b[0m                           \u001b[2m│   │   \u001b[0m\u001b[33m'Lepping RJ, Atchley RA, Martin LE, \u001b[0m   \u001b[33m│\u001b[0m \u001b[31m│\u001b[0m\n",
      "\u001b[31m│\u001b[0m \u001b[33m│\u001b[0m                           \u001b[33mPatrician TM, Stroupe N, Brooks WM, et al. \u001b[0m    \u001b[33m│\u001b[0m \u001b[31m│\u001b[0m\n",
      "\u001b[31m│\u001b[0m \u001b[33m│\u001b[0m                           \u001b[33mLi'\u001b[0m+\u001b[94m162\u001b[0m,                                       \u001b[33m│\u001b[0m \u001b[31m│\u001b[0m\n",
      "\u001b[31m│\u001b[0m \u001b[33m│\u001b[0m                           \u001b[2m│   │   \u001b[0m\u001b[33m'Lepping RJ, Atchley RA, Martin LE, \u001b[0m   \u001b[33m│\u001b[0m \u001b[31m│\u001b[0m\n",
      "\u001b[31m│\u001b[0m \u001b[33m│\u001b[0m                           \u001b[33mBrooks WM, Clair AA, Ingram RE, et al. \u001b[0m        \u001b[33m│\u001b[0m \u001b[31m│\u001b[0m\n",
      "\u001b[31m│\u001b[0m \u001b[33m│\u001b[0m                           \u001b[33mMusica'\u001b[0m+\u001b[94m158\u001b[0m,                                   \u001b[33m│\u001b[0m \u001b[31m│\u001b[0m\n",
      "\u001b[31m│\u001b[0m \u001b[33m│\u001b[0m                           \u001b[2m│   │   \u001b[0m\u001b[33m'Lepping RJ, Atchley RA, Martin LE, \u001b[0m   \u001b[33m│\u001b[0m \u001b[31m│\u001b[0m\n",
      "\u001b[31m│\u001b[0m \u001b[33m│\u001b[0m                           \u001b[33mPatrician TM, Ingram RE, Clair AA, et al. \u001b[0m     \u001b[33m│\u001b[0m \u001b[31m│\u001b[0m\n",
      "\u001b[31m│\u001b[0m \u001b[33m│\u001b[0m                           \u001b[33mThe'\u001b[0m+\u001b[94m226\u001b[0m,                                      \u001b[33m│\u001b[0m \u001b[31m│\u001b[0m\n",
      "\u001b[31m│\u001b[0m \u001b[33m│\u001b[0m                           \u001b[2m│   │   \u001b[0m\u001b[33m'Lepping RJ, Atchley RA, Patrician TM,\u001b[0m \u001b[33m│\u001b[0m \u001b[31m│\u001b[0m\n",
      "\u001b[31m│\u001b[0m \u001b[33m│\u001b[0m                           \u001b[33mStroupe NN, Martin LE, Ingram RE, et al. \u001b[0m      \u001b[33m│\u001b[0m \u001b[31m│\u001b[0m\n",
      "\u001b[31m│\u001b[0m \u001b[33m│\u001b[0m                           \u001b[33mM'\u001b[0m+\u001b[94m186\u001b[0m                                         \u001b[33m│\u001b[0m \u001b[31m│\u001b[0m\n",
      "\u001b[31m│\u001b[0m \u001b[33m│\u001b[0m                           \u001b[2m│   \u001b[0m\u001b[1m]\u001b[0m,                                         \u001b[33m│\u001b[0m \u001b[31m│\u001b[0m\n",
      "\u001b[31m│\u001b[0m \u001b[33m│\u001b[0m                           \u001b[2m│   \u001b[0m\u001b[33m'AccessionNumber'\u001b[0m: \u001b[33m'ds000171'\u001b[0m              \u001b[33m│\u001b[0m \u001b[31m│\u001b[0m\n",
      "\u001b[31m│\u001b[0m \u001b[33m│\u001b[0m                           \u001b[1m}\u001b[0m                                              \u001b[33m│\u001b[0m \u001b[31m│\u001b[0m\n",
      "\u001b[31m│\u001b[0m \u001b[33m│\u001b[0m local_json_file_content = \u001b[33m'\u001b[0m\u001b[1;33m{\u001b[0m\u001b[33m\"Name\":\"Neural Processing of Emotional \u001b[0m      \u001b[33m│\u001b[0m \u001b[31m│\u001b[0m\n",
      "\u001b[31m│\u001b[0m \u001b[33m│\u001b[0m                           \u001b[33mMusical and Nonmusical Stimuli in Depres'\u001b[0m+\u001b[94m2776\u001b[0m \u001b[33m│\u001b[0m \u001b[31m│\u001b[0m\n",
      "\u001b[31m│\u001b[0m \u001b[33m│\u001b[0m         local_json_path = \u001b[1;35mPosixPath\u001b[0m\u001b[1m(\u001b[0m\u001b[33m'/data/NSSP/ds000171/dataset_descri…\u001b[0m \u001b[33m│\u001b[0m \u001b[31m│\u001b[0m\n",
      "\u001b[31m│\u001b[0m \u001b[33m╰──────────────────────────────────────────────────────────────────────────╯\u001b[0m \u001b[31m│\u001b[0m\n",
      "\u001b[31m╰──────────────────────────────────────────────────────────────────────────────╯\u001b[0m\n",
      "\u001b[1;91mRuntimeError: \u001b[0mLocal \u001b[32m\"dataset_description.json\"\u001b[0m does not contain \u001b[32m\"DatasetDOI\"\u001b[0m \n",
      "field. Are you sure this is the correct directory?\n"
     ]
    },
    {
     "ename": "CalledProcessError",
     "evalue": "Command '['openneuro-py', 'download', '--dataset', 'ds000171', '--target-dir', '/home/jovyan/data/NSSP/ds000171', '--include', 'sub-control01/*']' returned non-zero exit status 1.",
     "output_type": "error",
     "traceback": [
      "\u001b[0;31m---------------------------------------------------------------------------\u001b[0m",
      "\u001b[0;31mCalledProcessError\u001b[0m                        Traceback (most recent call last)",
      "Cell \u001b[0;32mIn[4], line 21\u001b[0m\n\u001b[1;32m     16\u001b[0m subject_dir \u001b[38;5;241m=\u001b[39m \u001b[38;5;124m'\u001b[39m\u001b[38;5;124msub-\u001b[39m\u001b[38;5;132;01m{}\u001b[39;00m\u001b[38;5;124m'\u001b[39m\u001b[38;5;241m.\u001b[39mformat(subject)\n\u001b[1;32m     18\u001b[0m \u001b[38;5;66;03m###################\u001b[39;00m\n\u001b[1;32m     19\u001b[0m \u001b[38;5;66;03m# Create folders relevant for preprocessing.\u001b[39;00m\n\u001b[1;32m     20\u001b[0m \u001b[38;5;66;03m# In BIDs, ANYTHING we modify must go in the derivatives folder, to keep original files clean in case we make a mistake.\u001b[39;00m\n\u001b[0;32m---> 21\u001b[0m \u001b[43msubprocess\u001b[49m\u001b[38;5;241;43m.\u001b[39;49m\u001b[43mrun\u001b[49m\u001b[43m(\u001b[49m\u001b[43m[\u001b[49m\u001b[38;5;124;43m\"\u001b[39;49m\u001b[38;5;124;43mopenneuro-py\u001b[39;49m\u001b[38;5;124;43m\"\u001b[39;49m\u001b[43m,\u001b[49m\u001b[43m \u001b[49m\u001b[38;5;124;43m\"\u001b[39;49m\u001b[38;5;124;43mdownload\u001b[39;49m\u001b[38;5;124;43m\"\u001b[39;49m\u001b[43m,\u001b[49m\u001b[43m \u001b[49m\u001b[38;5;124;43m\"\u001b[39;49m\u001b[38;5;124;43m--dataset\u001b[39;49m\u001b[38;5;124;43m\"\u001b[39;49m\u001b[43m,\u001b[49m\u001b[43m \u001b[49m\u001b[43mdataset_id\u001b[49m\u001b[43m,\u001b[49m\u001b[43m \u001b[49m\u001b[38;5;66;43;03m# Openneuro has for each dataset a unique identifier\u001b[39;49;00m\n\u001b[1;32m     22\u001b[0m \u001b[43m                \u001b[49m\u001b[38;5;124;43m\"\u001b[39;49m\u001b[38;5;124;43m--target-dir\u001b[39;49m\u001b[38;5;124;43m\"\u001b[39;49m\u001b[43m,\u001b[49m\u001b[43m \u001b[49m\u001b[43mbids_root\u001b[49m\u001b[43m,\u001b[49m\u001b[43m  \u001b[49m\u001b[38;5;66;43;03m# The path where we want to save our data. You should save your data under /home/jovyan/Data/[your dataset ID] to be 100% fool-proof\u001b[39;49;00m\n\u001b[1;32m     23\u001b[0m \u001b[43m                \u001b[49m\u001b[38;5;124;43m\"\u001b[39;49m\u001b[38;5;124;43m--include\u001b[39;49m\u001b[38;5;124;43m\"\u001b[39;49m\u001b[43m,\u001b[49m\u001b[43m \u001b[49m\u001b[43mop\u001b[49m\u001b[38;5;241;43m.\u001b[39;49m\u001b[43mjoin\u001b[49m\u001b[43m(\u001b[49m\u001b[43msubject_dir\u001b[49m\u001b[43m,\u001b[49m\u001b[43m \u001b[49m\u001b[38;5;124;43m'\u001b[39;49m\u001b[38;5;124;43m*\u001b[39;49m\u001b[38;5;124;43m'\u001b[39;49m\u001b[43m)\u001b[49m\u001b[43m,\u001b[49m\u001b[38;5;66;43;03m# We are asking to get all files within the subject_dir folder by using the wildcard *\u001b[39;49;00m\n\u001b[1;32m     24\u001b[0m \u001b[43m               \u001b[49m\u001b[43m]\u001b[49m\u001b[43m,\u001b[49m\u001b[43m \u001b[49m\u001b[43mcheck\u001b[49m\u001b[38;5;241;43m=\u001b[39;49m\u001b[38;5;28;43;01mTrue\u001b[39;49;00m\u001b[43m)\u001b[49m\n\u001b[1;32m     25\u001b[0m \u001b[38;5;66;03m###################\u001b[39;00m\n\u001b[1;32m     26\u001b[0m mkdir_no_exist(op\u001b[38;5;241m.\u001b[39mjoin(bids_root, \u001b[38;5;124m'\u001b[39m\u001b[38;5;124mderivatives\u001b[39m\u001b[38;5;124m'\u001b[39m))\n",
      "File \u001b[0;32m/opt/conda/lib/python3.11/subprocess.py:571\u001b[0m, in \u001b[0;36mrun\u001b[0;34m(input, capture_output, timeout, check, *popenargs, **kwargs)\u001b[0m\n\u001b[1;32m    569\u001b[0m     retcode \u001b[38;5;241m=\u001b[39m process\u001b[38;5;241m.\u001b[39mpoll()\n\u001b[1;32m    570\u001b[0m     \u001b[38;5;28;01mif\u001b[39;00m check \u001b[38;5;129;01mand\u001b[39;00m retcode:\n\u001b[0;32m--> 571\u001b[0m         \u001b[38;5;28;01mraise\u001b[39;00m CalledProcessError(retcode, process\u001b[38;5;241m.\u001b[39margs,\n\u001b[1;32m    572\u001b[0m                                  output\u001b[38;5;241m=\u001b[39mstdout, stderr\u001b[38;5;241m=\u001b[39mstderr)\n\u001b[1;32m    573\u001b[0m \u001b[38;5;28;01mreturn\u001b[39;00m CompletedProcess(process\u001b[38;5;241m.\u001b[39margs, retcode, stdout, stderr)\n",
      "\u001b[0;31mCalledProcessError\u001b[0m: Command '['openneuro-py', 'download', '--dataset', 'ds000171', '--target-dir', '/home/jovyan/data/NSSP/ds000171', '--include', 'sub-control01/*']' returned non-zero exit status 1."
     ]
    }
   ],
   "source": [
    "#download the dataset\n",
    "\n",
    "#\"https://openneuro.org/datasets/ds000171/versions/00001\"\n",
    "dataset_id= 'ds000171'\n",
    "subject = 'control01'\n",
    "\n",
    "#path to save\n",
    "sample_path = \"/home/jovyan/data/NSSP\"\n",
    "mkdir_no_exist(sample_path)\n",
    "bids_root = op.join(sample_path, dataset_id)\n",
    "deriv_root = op.join(bids_root, 'derivatives')\n",
    "preproc_root = op.join(bids_root, 'derivatives','preprocessed_data')\n",
    "\n",
    "mkdir_no_exist(bids_root)\n",
    "\n",
    "subject_dir = 'sub-{}'.format(subject)\n",
    "\n",
    "###################\n",
    "# Create folders relevant for preprocessing.\n",
    "# In BIDs, ANYTHING we modify must go in the derivatives folder, to keep original files clean in case we make a mistake.\n",
    "subprocess.run([\"openneuro-py\", \"download\", \"--dataset\", dataset_id, # Openneuro has for each dataset a unique identifier\n",
    "                \"--target-dir\", bids_root,  # The path where we want to save our data. You should save your data under /home/jovyan/Data/[your dataset ID] to be 100% fool-proof\n",
    "                \"--include\", op.join(subject_dir, '*'),# We are asking to get all files within the subject_dir folder by using the wildcard *\n",
    "               ], check=True)\n",
    "###################\n",
    "mkdir_no_exist(op.join(bids_root, 'derivatives'))\n",
    "preproc_root = op.join(bids_root, 'derivatives','preprocessed_data')\n",
    "mkdir_no_exist(preproc_root)\n",
    "mkdir_no_exist(op.join(preproc_root, 'sub-control01'))\n",
    "mkdir_no_exist(op.join(preproc_root, 'sub-control01', 'anat'))\n",
    "mkdir_no_exist(op.join(preproc_root, 'sub-control01', 'func'))\n",
    "mkdir_no_exist(op.join(preproc_root, 'sub-control01', 'fmap'))"
   ]
  },
  {
   "cell_type": "code",
   "execution_count": 5,
   "id": "c4fc7ed8-1154-4cc7-a33f-4aac828b5816",
   "metadata": {},
   "outputs": [
    {
     "name": "stdout",
     "output_type": "stream",
     "text": [
      "|ds000171/\n",
      "|--- CHANGES\n",
      "|--- README\n",
      "|--- dataset_description.json\n",
      "|--- participants.tsv\n",
      "|--- derivatives/\n",
      "|------ preprocessed_data/\n",
      "|--------- sub-control01/\n",
      "|------------ anat/\n",
      "|------------ fmap/\n",
      "|------------ func/\n",
      "|--- sub-control01/\n",
      "|------ anat/\n",
      "|--------- sub-control01_T1w.nii.gz\n",
      "|------ func/\n",
      "|--------- sub-control01_task-music_run-1_bold.nii.gz\n",
      "|--------- sub-control01_task-music_run-1_events.tsv\n",
      "|--------- sub-control01_task-music_run-2_bold.nii.gz\n",
      "|--------- sub-control01_task-music_run-2_events.tsv\n",
      "|--------- sub-control01_task-music_run-3_bold.nii.gz\n",
      "|--------- sub-control01_task-music_run-3_events.tsv\n",
      "|--------- sub-control01_task-nonmusic_run-4_bold.nii.gz\n",
      "|--------- sub-control01_task-nonmusic_run-4_events.tsv\n",
      "|--------- sub-control01_task-nonmusic_run-5_bold.nii.gz\n",
      "|--------- sub-control01_task-nonmusic_run-5_events.tsv\n"
     ]
    }
   ],
   "source": [
    "# explore the dataset folder\n",
    "print_dir_tree(bids_root,5)"
   ]
  },
  {
   "cell_type": "markdown",
   "id": "ea719bc6-444f-43c8-a229-ed3650e04239",
   "metadata": {},
   "source": [
    "# Anatomical preprocessing"
   ]
  },
  {
   "cell_type": "code",
   "execution_count": 6,
   "id": "7ac590b2-f482-48f9-8efc-7df62c305815",
   "metadata": {},
   "outputs": [
    {
     "name": "stderr",
     "output_type": "stream",
     "text": [
      "\n",
      "(ipykernel_launcher.py:5947): Gdk-WARNING **: 16:09:47.376: gdkdrawable-x11.c:952 drawable is not a pixmap or window\n"
     ]
    }
   ],
   "source": [
    "fsleyesDisplay.resetOverlays()\n",
    "fsleyesDisplay.load(op.join(bids_root, 'sub-control01', 'anat', 'sub-control01_T1w.nii.gz'))"
   ]
  },
  {
   "cell_type": "markdown",
   "id": "22de36cd-6f2e-4d28-ba74-35d251b6c816",
   "metadata": {},
   "source": [
    "## 1.1 Skull stripping"
   ]
  },
  {
   "cell_type": "code",
   "execution_count": 7,
   "id": "e18df45e-d12d-42ae-991a-1748644409e3",
   "metadata": {},
   "outputs": [
    {
     "name": "stdout",
     "output_type": "stream",
     "text": [
      "Done with BET.\n"
     ]
    }
   ],
   "source": [
    "def get_skull_stripped_anatomical(bids_root, preproc_root, subject_id, robust=True):\n",
    "    \"\"\"\n",
    "    Parameters\n",
    "    ----------\n",
    "    bids_root: string\n",
    "        The root of the BIDS directory\n",
    "    preproc_root: string\n",
    "        The root of the preprocessed data, where the result of the brain extraction will be saved.\n",
    "    subject_id: string\n",
    "        Subject ID, the subject on which brain extraction should be conducted.\n",
    "    robust: bool\n",
    "        Whether to conduct robust center estimation with BET or not. Default is False.\n",
    "    \"\"\"\n",
    "    subject = 'sub-{}'.format(subject_id)\n",
    "    anatomical_path = op.join(bids_root, subject, 'anat', 'sub-{}_T1w.nii.gz'.format(subject_id))\n",
    "    betted_brain_path = op.join(preproc_root, subject, 'anat', 'sub-{}_T1w'.format(subject_id))\n",
    "    os.system('bet {} {} -m {}'.format(anatomical_path, betted_brain_path, '-R' if robust else ''))\n",
    "    print(\"Done with BET.\")\n",
    "\n",
    "resulting_mask_path = op.join(preproc_root, 'sub-control01', 'anat', 'sub-control01_T1w_mask')\n",
    "get_skull_stripped_anatomical(bids_root, preproc_root, \"control01\")"
   ]
  },
  {
   "cell_type": "code",
   "execution_count": 8,
   "id": "848e2c2d-21c0-4570-88b0-014c5a22d934",
   "metadata": {},
   "outputs": [],
   "source": [
    "fsleyesDisplay.resetOverlays()\n",
    "fsleyesDisplay.load(op.join(bids_root, 'sub-control01', 'anat', 'sub-control01_T1w.nii.gz'))\n",
    "fsleyesDisplay.load(resulting_mask_path)"
   ]
  },
  {
   "cell_type": "code",
   "execution_count": 9,
   "id": "d6a23a45-5e75-4ed2-9031-b047acf4a762",
   "metadata": {},
   "outputs": [],
   "source": [
    "def apply_fsl_math_approach(img_path, mask_path, masked_img_path):\n",
    "    os.system('fslmaths {} -mas {} {}'.format(img_path, mask_path, masked_img_path))\n",
    "    \n",
    "anatomical_path = op.join(bids_root, 'sub-control01', 'anat', 'sub-control01_T1w.nii.gz') # The original brain\n",
    "betted_brain_path = op.join(preproc_root, 'sub-control01', 'anat', 'sub-control01_T1w.nii.gz') # The brain without skull is in the derivatives folder\n",
    "resulting_mask_path = op.join(preproc_root, 'sub-control01', 'anat', 'sub-control01_T1w_mask.nii.gz') # The mask to use\n",
    "\n",
    "apply_fsl_math_approach(anatomical_path, resulting_mask_path, betted_brain_path)"
   ]
  },
  {
   "cell_type": "code",
   "execution_count": 10,
   "id": "425e9c90-43a0-400a-b2da-b409afb205c2",
   "metadata": {},
   "outputs": [],
   "source": [
    "fsleyesDisplay.resetOverlays()\n",
    "fsleyesDisplay.load(betted_brain_path)"
   ]
  },
  {
   "cell_type": "markdown",
   "id": "dc0f17df-998c-450e-807a-20acf89543be",
   "metadata": {},
   "source": [
    "##  1.2 Tissue Segmentation"
   ]
  },
  {
   "cell_type": "code",
   "execution_count": 11,
   "id": "e98f1c28-d8ea-4343-ae79-44bd3f186bef",
   "metadata": {},
   "outputs": [
    {
     "data": {
      "text/plain": [
       "{}"
      ]
     },
     "execution_count": 11,
     "metadata": {},
     "output_type": "execute_result"
    }
   ],
   "source": [
    "anatomical_path = op.join(bids_root, 'sub-control01', 'anat', 'sub-control01_T1w.nii.gz')\n",
    "bet_path = op.join(preproc_root, 'sub-control01', 'anat', 'sub-control01_T1w')\n",
    "\n",
    "fast_target = bet_path \n",
    "\n",
    "[os.remove(f) for f in glob.glob(op.join(preproc_root, 'sub-control01', 'anat', '*fast*'))] \n",
    "segmentation_path = op.join(preproc_root, 'sub-control01', 'anat', 'sub-control01_T1w_fast')\n",
    "fast(imgs=[fast_target], out=segmentation_path, n_classes=3)"
   ]
  },
  {
   "cell_type": "markdown",
   "id": "363e0a8b-71f3-4754-8d30-816067536243",
   "metadata": {},
   "source": [
    "## 1.3 Anatomical Normalization"
   ]
  },
  {
   "cell_type": "code",
   "execution_count": 12,
   "id": "fdf1d596-1acc-45ab-985d-cd9fa501b297",
   "metadata": {},
   "outputs": [
    {
     "name": "stdout",
     "output_type": "stream",
     "text": [
      "\n",
      "Final result: \n",
      "0.003348 0.005721 -1.116064 204.794610 \n",
      "-0.933350 0.500887 0.005750 178.784833 \n",
      "0.501418 1.048657 -0.003251 -149.700516 \n",
      "0.000000 0.000000 0.000000 1.000000 \n",
      "\n"
     ]
    }
   ],
   "source": [
    "from fsl.wrappers import flirt\n",
    "\n",
    "subject_id = 'control01'\n",
    "subject_anatomical = op.join(preproc_root, 'sub-{}'.format(subject_id), 'anat', 'sub-control01_T1w')\n",
    "mni_template = op.expandvars(op.join('$FSLDIR', 'data', 'standard', 'MNI152_T1_1mm_brain'))\n",
    "\n",
    "target = subject_anatomical\n",
    "reference = mni_template\n",
    "\n",
    "#FLIRT Linear\n",
    "result = op.join(preproc_root, 'sub-{}'.format(subject_id), 'anat', 'sub-{}_T1w_mni'.format(subject_id))\n",
    "flirt(target, reference, out=result)\n",
    "\n",
    "#FNIRT non-linear\n",
    "moving_image = ants.image_read(target + '.nii.gz')\n",
    "fixed_image = ants.image_read(reference + '.nii.gz')\n",
    "\n",
    "transformation = ants.registration(fixed=fixed_image, moving=moving_image, type_of_transform = 'SyN' )\n",
    "warpedImage = ants.apply_transforms(fixed=fixed_image, moving=moving_image, transformlist=transformation['fwdtransforms'])\n",
    "resultAnts = op.join(preproc_root, 'sub-{}'.format(subject_id), 'anat', 'sub-{}_T1w_mni_SyN.nii.gz'.format(subject_id))\n",
    "ants.image_write(warpedImage, resultAnts)"
   ]
  },
  {
   "cell_type": "code",
   "execution_count": 13,
   "id": "4b13a083-ded5-49bb-af1c-6aa8a4343732",
   "metadata": {},
   "outputs": [],
   "source": [
    "fsleyesDisplay.resetOverlays()\n",
    "fsleyesDisplay.load(reference)\n",
    "fsleyesDisplay.load(result)\n",
    "fsleyesDisplay.load(resultAnts)"
   ]
  },
  {
   "cell_type": "markdown",
   "id": "18633f0b-f27f-4ba8-a5d5-fc6f59331115",
   "metadata": {},
   "source": [
    "# FMRI preprocessing"
   ]
  },
  {
   "cell_type": "markdown",
   "id": "e65e1f56-e0af-4210-8d4e-4c170dbf0dc9",
   "metadata": {},
   "source": [
    "## 1.1 Volume removal (if necessary)"
   ]
  },
  {
   "cell_type": "code",
   "execution_count": 14,
   "id": "ab1b5103-e6b7-4142-b140-37746f1e343e",
   "metadata": {},
   "outputs": [],
   "source": [
    "fsleyesDisplay.resetOverlays()\n",
    "fsleyesDisplay.load(op.join(bids_root, 'sub-control01', 'func', 'sub-control01_task-music_run-1_bold.nii.gz'))"
   ]
  },
  {
   "cell_type": "code",
   "execution_count": 15,
   "id": "ecf3d564-f182-4d32-886c-00935e7fc91a",
   "metadata": {},
   "outputs": [
    {
     "data": {
      "text/plain": [
       "Text(0, 0.5, 'Mean voxel intensity')"
      ]
     },
     "execution_count": 15,
     "metadata": {},
     "output_type": "execute_result"
    },
    {
     "data": {
      "image/png": "[encoded data removed]",
      "text/plain": [
       "<Figure size 640x480 with 1 Axes>"
      ]
     },
     "metadata": {},
     "output_type": "display_data"
    }
   ],
   "source": [
    "import matplotlib.pyplot as plt\n",
    "import nibabel as nib\n",
    "\n",
    "plt.plot(nib.load(op.join(bids_root, 'sub-control01','func', 'sub-control01_task-music_run-1_bold.nii.gz')).get_fdata().mean(axis=(0,1,2)))\n",
    "plt.xlabel('Time (volume)')\n",
    "plt.ylabel('Mean voxel intensity')\n",
    "#we see no need of volume removal here"
   ]
  },
  {
   "cell_type": "markdown",
   "id": "269498cd-bd54-4aac-bba1-43d08ae0350d",
   "metadata": {},
   "source": [
    "## 1.2 Standardization and concatenation "
   ]
  },
  {
   "cell_type": "code",
   "execution_count": 17,
   "id": "23c5fe84-fb52-4414-9e19-8bf158950fea",
   "metadata": {},
   "outputs": [
    {
     "name": "stdout",
     "output_type": "stream",
     "text": [
      "(80, 80, 50, 105)\n",
      "(80, 80, 50, 105)\n",
      "(80, 80, 50, 105)\n",
      "3\n",
      "['/home/jovyan/data/NSSP/ds000171/sub-control01/func/sub-control01_task-music_run-1_bold.nii.gz', '/home/jovyan/data/NSSP/ds000171/sub-control01/func/sub-control01_task-music_run-2_bold.nii.gz', '/home/jovyan/data/NSSP/ds000171/sub-control01/func/sub-control01_task-music_run-3_bold.nii.gz']\n"
     ]
    }
   ],
   "source": [
    "import re\n",
    "\n",
    "func_dir = op.join(bids_root, 'sub-control01', 'func')\n",
    "pattern = re.compile(r'^sub-control01_task-music_run-\\d+_bold\\.nii\\.gz$')\n",
    "file_paths = []\n",
    "\n",
    "# Check if the directory exists\n",
    "if os.path.exists(func_dir):\n",
    "    for file_name in os.listdir(func_dir):\n",
    "        # If the file name matches the pattern, add it to the array with the full path\n",
    "        if pattern.match(file_name):\n",
    "            full_path = os.path.join(func_dir, file_name)\n",
    "            file_paths.append(full_path)\n",
    "            mri = nib.load(full_path)\n",
    "            print(mri.shape)\n",
    "\n",
    "\n",
    "file_paths.sort()\n",
    "\n",
    "# Output the array of all runs\n",
    "print(len(file_paths))\n",
    "print(file_paths)"
   ]
  },
  {
   "cell_type": "code",
   "execution_count": 25,
   "id": "d0bad0ae-8015-4562-9dc4-86bba327fbae",
   "metadata": {},
   "outputs": [
    {
     "name": "stdout",
     "output_type": "stream",
     "text": [
      "task-music_run-1_bold\n",
      "task-music_run-2_bold\n",
      "task-music_run-3_bold\n"
     ]
    },
    {
     "data": {
      "text/plain": [
       "['/home/jovyan/data/NSSP/ds000171/derivatives/preprocessed_data/sub-control01/func/sub-control01_task-music_run-1_bold_standardize.nii',\n",
       " '/home/jovyan/data/NSSP/ds000171/derivatives/preprocessed_data/sub-control01/func/sub-control01_task-music_run-2_bold_standardize.nii',\n",
       " '/home/jovyan/data/NSSP/ds000171/derivatives/preprocessed_data/sub-control01/func/sub-control01_task-music_run-3_bold_standardize.nii']"
      ]
     },
     "execution_count": 25,
     "metadata": {},
     "output_type": "execute_result"
    }
   ],
   "source": [
    "def standardization(input_file):\n",
    "    \"\"\"\n",
    "    Apply z-score standardization to fMRI data\n",
    "\n",
    "    Parameters:\n",
    "    input_file (str): Path to the input\n",
    "    output_file (str): Path to save the standardized output \n",
    "    \"\"\"\n",
    "    # Check if input file exists\n",
    "    if not os.path.exists(input_file):\n",
    "        raise FileNotFoundError(f\"Input file not found: {input_file}\")\n",
    "\n",
    "    extract_name = '_'.join(os.path.basename(input_file).split('_')[1:]).rsplit('.', 2)[0]\n",
    "    print(extract_name)\n",
    "    output_file = os.path.join(preproc_root, 'sub-control01', 'func', 'sub-{}_{}_standardize.nii'.format(subject,extract_name))\n",
    "    \n",
    "    # Load the image data\n",
    "    img = nib.load(input_file)\n",
    "    data = img.get_fdata()\n",
    "\n",
    "    # Calculate global mean and standard deviation\n",
    "    global_mean = data.mean()\n",
    "    global_std = data.std()\n",
    "\n",
    "    # Standardize the data (avoid division by zero)\n",
    "    standardized_data = (data - global_mean) / global_std if global_std > 0 else data\n",
    "\n",
    "    # Create a new Nifti image with the standardized data and save\n",
    "    standardized_img = nib.Nifti1Image(standardized_data, img.affine, img.header)\n",
    "    nib.save(standardized_img, output_file)\n",
    "\n",
    "    return output_file\n",
    "\n",
    "stand_file_paths = []\n",
    "for file in file_paths :\n",
    "    stand_file_paths.append(standardization(file))\n",
    "\n",
    "stand_file_paths"
   ]
  },
  {
   "cell_type": "code",
   "execution_count": 22,
   "id": "7a315146-87c4-4348-84a0-0d65cedaa0cb",
   "metadata": {},
   "outputs": [],
   "source": [
    "fsleyesDisplay.resetOverlays()\n",
    "for file in stand_file_paths :\n",
    "    fsleyesDisplay.load(file)"
   ]
  },
  {
   "cell_type": "code",
   "execution_count": 26,
   "id": "5aea0507-5d25-4de9-a79f-7ac7514bc49f",
   "metadata": {},
   "outputs": [],
   "source": [
    "from nilearn.image import concat_imgs, mean_img\n",
    "concat_path = os.path.join(preproc_root, 'sub-control01', 'func', 'sub-{}_all_task_bold'.format(subject))\n",
    "\n",
    "fmri_img = concat_imgs(stand_file_paths)\n",
    "nib.save(fmri_img, concat_path)"
   ]
  },
  {
   "cell_type": "markdown",
   "id": "25f0ae3b-fe05-4be3-a504-abf428eb0b87",
   "metadata": {},
   "source": [
    "## 1.3 Motion Correction "
   ]
  },
  {
   "cell_type": "code",
   "execution_count": 28,
   "id": "512fd1b2-fc1b-44fa-89ab-f859dd7cc45d",
   "metadata": {},
   "outputs": [
    {
     "name": "stderr",
     "output_type": "stream",
     "text": [
      "Processed data will be saved as /home/jovyan/data/NSSP/ds000171/derivatives/preprocessed_data/sub-control01/func/sub-control01_all_task_bold_moco\n",
      "\n",
      "McFLIRT v 2.0 - FMRI motion correction\n",
      "\n",
      "Reading time series... \n",
      "first iteration - 8mm scaling, set tolerance\n",
      "Rescaling reference volume [157] to 8 mm pixels\n",
      "Registering volumes ... [158][159][160][161][162][163][164][165][166][167][168][169][170][171][172][173][174][175][176][177][178][179][180][181][182][183][184][185][186][187][188][189][190][191][192][193][194][195][196][197][198][199][200][201][202][203][204][205][206][207][208][209][210][211][212][213][214][215][216][217][218][219][220][221][222][223][224][225][226][227][228][229][230][231][232][233][234][235][236][237][238][239][240][241][242][243][244][245][246][247][248][249][250][251][252][253][254][255][256][257][258][259][260][261][262][263][264][265][266][267][268][269][270][271][272][273][274][275][276][277][278][279][280][281][282][283][284][285][286][287][288][289][290][291][292][293][294][295][296][297][298][299][300][301][302][303][304][305][306][307][308][309][310][311][312][313][314][156][155][154][153][152][151][150][149][148][147][146][145][144][143][142][141][140][139][138][137][136][135][134][133][132][131][130][129][128][127][126][125][124][123][122][121][120][119][118][117][116][115][114][113][112][111][110][109][108][107][106][105][104][103][102][101][100][99][98][97][96][95][94][93][92][91][90][89][88][87][86][85][84][83][82][81][80][79][78][77][76][75][74][73][72][71][70][69][68][67][66][65][64][63][62][61][60][59][58][57][56][55][54][53][52][51][50][49][48][47][46][45][44][43][42][41][40][39][38][37][36][35][34][33][32][31][30][29][28][27][26][25][24][23][22][21][20][19][18][17][16][15][14][13][12][11][10][9][8][7][6][5][4][3][2][1][0]\n",
      "second iteration - drop to 4mm scaling\n",
      "Rescaling reference volume [157] to 4 mm pixels\n",
      "Registering volumes ... [158][159][160][161][162][163][164][165][166][167][168][169][170][171][172][173][174][175][176][177][178][179][180][181][182][183][184][185][186][187][188][189][190][191][192][193][194][195][196][197][198][199][200][201][202][203][204][205][206][207][208][209][210][211][212][213][214][215][216][217][218][219][220][221][222][223][224][225][226][227][228][229][230][231][232][233][234][235][236][237][238][239][240][241][242][243][244][245][246][247][248][249][250][251][252][253][254][255][256][257][258][259][260][261][262][263][264][265][266][267][268][269][270][271][272][273][274][275][276][277][278][279][280][281][282][283][284][285][286][287][288][289][290][291][292][293][294][295][296][297][298][299][300][301][302][303][304][305][306][307][308][309][310][311][312][313][314][156][155][154][153][152][151][150][149][148][147][146][145][144][143][142][141][140][139][138][137][136][135][134][133][132][131][130][129][128][127][126][125][124][123][122][121][120][119][118][117][116][115][114][113][112][111][110][109][108][107][106][105][104][103][102][101][100][99][98][97][96][95][94][93][92][91][90][89][88][87][86][85][84][83][82][81][80][79][78][77][76][75][74][73][72][71][70][69][68][67][66][65][64][63][62][61][60][59][58][57][56][55][54][53][52][51][50][49][48][47][46][45][44][43][42][41][40][39][38][37][36][35][34][33][32][31][30][29][28][27][26][25][24][23][22][21][20][19][18][17][16][15][14][13][12][11][10][9][8][7][6][5][4][3][2][1][0]\n",
      "third iteration - 4mm scaling, eighth tolerance\n"
     ]
    },
    {
     "name": "stdout",
     "output_type": "stream",
     "text": [
      "refnum = 157\n",
      "Original_refvol = -1\n"
     ]
    },
    {
     "name": "stderr",
     "output_type": "stream",
     "text": [
      "Registering volumes ... [158][159][160][161][162][163][164][165][166][167][168][169][170][171][172][173][174][175][176][177][178][179][180][181][182][183][184][185][186][187][188][189][190][191][192][193][194][195][196][197][198][199][200][201][202][203][204][205][206][207][208][209][210][211][212][213][214][215][216][217][218][219][220][221][222][223][224][225][226][227][228][229][230][231][232][233][234][235][236][237][238][239][240][241][242][243][244][245][246][247][248][249][250][251][252][253][254][255][256][257][258][259][260][261][262][263][264][265][266][267][268][269][270][271][272][273][274][275][276][277][278][279][280][281][282][283][284][285][286][287][288][289][290][291][292][293][294][295][296][297][298][299][300][301][302][303][304][305][306][307][308][309][310][311][312][313][314][156][155][154][153][152][151][150][149][148][147][146][145][144][143][142][141][140][139][138][137][136][135][134][133][132][131][130][129][128][127][126][125][124][123][122][121][120][119][118][117][116][115][114][113][112][111][110][109][108][107][106][105][104][103][102][101][100][99][98][97][96][95][94][93][92][91][90][89][88][87][86][85][84][83][82][81][80][79][78][77][76][75][74][73][72][71][70][69][68][67][66][65][64][63][62][61][60][59][58][57][56][55][54][53][52][51][50][49][48][47][46][45][44][43][42][41][40][39][38][37][36][35][34][33][32][31][30][29][28][27][26][25][24][23][22][21][20][19][18][17][16][15][14][13][12][11][10][9][8][7][6][5][4][3][2][1][0]\n",
      "Saving motion corrected time series... \n"
     ]
    },
    {
     "data": {
      "text/plain": [
       "{}"
      ]
     },
     "execution_count": 28,
     "metadata": {},
     "output_type": "execute_result"
    }
   ],
   "source": [
    "from fsl.wrappers import mcflirt\n",
    "\n",
    "path_moco_data = os.path.join(preproc_root, 'sub-control01', 'func', 'sub-{}_all_task_bold_moco'.format(subject))\n",
    "mcflirt(infile=concat_path,o=path_moco_data, plots=True, report=True, dof=6, mats=True)"
   ]
  },
  {
   "cell_type": "code",
   "execution_count": 29,
   "id": "3c566562-e4f7-4b4e-b3a7-318281a4ec6b",
   "metadata": {},
   "outputs": [],
   "source": [
    "fsleyesDisplay.resetOverlays()\n",
    "fsleyesDisplay.load(path_moco_data)"
   ]
  },
  {
   "cell_type": "code",
   "execution_count": 31,
   "id": "23261713-b35b-483f-beb3-d99cd3984f6d",
   "metadata": {},
   "outputs": [
    {
     "data": {
      "image/png": "[encoded data removed]",
      "text/plain": [
       "<Figure size 640x480 with 1 Axes>"
      ]
     },
     "metadata": {},
     "output_type": "display_data"
    }
   ],
   "source": [
    "#inspect the translation on X \n",
    "def load_mot_params_fsl_6_dof(path):\n",
    "    return pd.read_csv(path, sep='  ', header=None, \n",
    "            engine='python', names=['Rotation x', 'Rotation y', 'Rotation z','Translation x', 'Translation y', 'Translation z'])\n",
    "\n",
    "mot_params = load_mot_params_fsl_6_dof(op.join(preproc_root, 'sub-control01', 'func', 'sub-control01_all_task_bold_moco.par'))\n",
    "\n",
    "trans_x = mot_params[\"Translation x\"]\n",
    "# Now, we want a 0.2mm with respect to previous frame:\n",
    "disp_x = np.diff(trans_x)\n",
    "# Lastly, we can ask for displacements (in absolute value) above 0.2mm and plot it to be clear:\n",
    "threshold=0.2\n",
    "plt.plot(np.abs(disp_x))\n",
    "plt.hlines(threshold, 0, 350,colors='black', linestyles='dashed', label='FD threshold')\n",
    "plt.xlabel(\"Volumes\")\n",
    "plt.ylabel(\"Framewise translation displacement (mm)\")\n",
    "plt.show()\n",
    "\n",
    "# There are basically (if looking only along X translation) no frame displacement above 0.2mm!"
   ]
  },
  {
   "cell_type": "code",
   "execution_count": 32,
   "id": "97387b1e-6cd3-4d4c-afee-7285b6fd0cc6",
   "metadata": {},
   "outputs": [],
   "source": [
    "def compute_FD_power(mot_params):\n",
    "    framewise_diff = mot_params.diff().iloc[1:]\n",
    "\n",
    "    rot_params = framewise_diff[['Rotation x', 'Rotation y', 'Rotation z']]\n",
    "    # Estimating displacement on a 50mm radius sphere\n",
    "    converted_rots = rot_params*50\n",
    "    trans_params = framewise_diff[['Translation x', 'Translation y', 'Translation z']]\n",
    "    fd = converted_rots.abs().sum(axis=1) + trans_params.abs().sum(axis=1)\n",
    "    return fd\n",
    "\n",
    "fd = compute_FD_power(mot_params).to_numpy()"
   ]
  },
  {
   "cell_type": "code",
   "execution_count": 33,
   "id": "e974843d-78e7-40ab-9ea9-be45e3c37ace",
   "metadata": {},
   "outputs": [],
   "source": [
    "threshold = np.quantile(fd,0.75) + 1.5*(np.quantile(fd,0.75) - np.quantile(fd,0.25))"
   ]
  },
  {
   "cell_type": "code",
   "execution_count": 35,
   "id": "c785a1c3-c534-4e68-8322-312afc704647",
   "metadata": {},
   "outputs": [
    {
     "data": {
      "image/png": "[encoded data removed]",
      "text/plain": [
       "<Figure size 640x480 with 1 Axes>"
      ]
     },
     "metadata": {},
     "output_type": "display_data"
    },
    {
     "data": {
      "text/plain": [
       "array([105, 122, 123, 152, 153, 163, 165, 185, 186, 191, 200, 208, 210,\n",
       "       269, 275, 276])"
      ]
     },
     "execution_count": 35,
     "metadata": {},
     "output_type": "execute_result"
    }
   ],
   "source": [
    "plt.plot(list(range(1, fd.size+1)), fd)\n",
    "plt.xlabel('Volume')\n",
    "plt.ylabel('FD displacement (mm)')\n",
    "plt.hlines(threshold, 0, 350,colors='black', linestyles='dashed', label='FD threshold')\n",
    "plt.legend()\n",
    "plt.show()\n",
    "\n",
    "np.where(fd > threshold)[0] + 1 #volumes above threshold that were eliminated in the motion correction process"
   ]
  },
  {
   "cell_type": "markdown",
   "id": "bf5000b9-fca5-48c3-bd77-62dbf42ac225",
   "metadata": {},
   "source": [
    "## 1.4 Coregistration of functional to anatomical"
   ]
  },
  {
   "cell_type": "code",
   "execution_count": 76,
   "id": "7c926c99-81b2-4e58-8151-7b1e6e81f40d",
   "metadata": {},
   "outputs": [
    {
     "name": "stdout",
     "output_type": "stream",
     "text": [
      "FLIRT pre-alignment\n",
      "Running BBR\n",
      "Applying POWELL correction\n",
      "finit, fend, fextrap = 0.285178 , 0.284748 , 0.284508\n",
      "fval = 0.284445\n",
      "0.284335 0.999535 -0.019461 -0.023494 0.000000 0.019162 0.999734 -0.012871 0.000000 0.023738 0.012415 0.999641 0.000000 -4.899643 4.226287 5.416335 1.000000 \n"
     ]
    },
    {
     "data": {
      "text/plain": [
       "CompletedProcess(args=['epi_reg', '--epi=/home/jovyan/data/NSSP/ds000171/derivatives/preprocessed_data/sub-control01/func/sub-control01_all_task_bold_moco_vol_middle', '--t1=/home/jovyan/data/NSSP/ds000171/sub-control01/anat/sub-control01_T1w.nii.gz', '--t1brain=/home/jovyan/data/NSSP/ds000171/derivatives/preprocessed_data/sub-control01/anat/sub-control01_T1w.nii.gz', '--out=/home/jovyan/data/NSSP/ds000171/derivatives/preprocessed_data/sub-control01/func/sub-control01_all_task_bold_bbr', '--wmseg=/home/jovyan/data/NSSP/ds000171/derivatives/preprocessed_data/sub-control01/anat/sub-control01_T1w_fast_pve_2.nii.gz'], returncode=0)"
      ]
     },
     "execution_count": 76,
     "metadata": {},
     "output_type": "execute_result"
    }
   ],
   "source": [
    "#EPI coregistration\n",
    "whole_t1 = anatomical_path\n",
    "skull_stripped_t1 = betted_brain_path\n",
    "output_path = op.join(preproc_root, 'sub-control01', 'func', 'sub-{}_all_task_bold_bbr'.format(subject))\n",
    "\n",
    "ref_vol_name =  op.join(preproc_root, 'sub-control01', 'func', 'sub-{}_all_task_bold_moco_vol_middle'.format(subject))\n",
    "\n",
    "fslroi(path_moco_data, ref_vol_name, str(157), str(1))\n",
    "\n",
    "white_matter_segmentation = op.join(preproc_root, 'sub-control01', 'anat', 'sub-{}_T1w_fast_pve_2.nii.gz'.format(subject)) # We provide the white matter segmentation\n",
    "\n",
    "\n",
    "subprocess.run(['epi_reg','--epi={}'.format(ref_vol_name), '--t1={}'.format(whole_t1), '--t1brain={}'.format(skull_stripped_t1), \n",
    "                '--out={}'.format(output_path),\n",
    "               '--wmseg={}'.format(white_matter_segmentation)])\n"
   ]
  },
  {
   "cell_type": "code",
   "execution_count": 67,
   "id": "4848ce2c-0b0c-46fb-8ca3-62b75579e637",
   "metadata": {},
   "outputs": [],
   "source": [
    "fsleyesDisplay.resetOverlays()\n",
    "fsleyesDisplay.load(skull_stripped_t1)\n",
    "fsleyesDisplay.load(output_path)"
   ]
  },
  {
   "cell_type": "code",
   "execution_count": 68,
   "id": "aba61d5e-6610-41d8-99b8-9365fab1b0e7",
   "metadata": {},
   "outputs": [],
   "source": [
    "def cleanup_epi_reg(path_to_clean):\n",
    "    patterns = ['*_fast_*', '*_fieldmap*']\n",
    "    for p in patterns:\n",
    "        files = glob.glob(op.join(path_to_clean, p))\n",
    "        for f in files:\n",
    "            os.remove(f)\n",
    "\n",
    "cleanup_epi_reg(op.join(preproc_root, 'sub-control01', 'func'))"
   ]
  },
  {
   "cell_type": "markdown",
   "id": "ed9afb57-85e6-4d17-a6d6-6f2662684749",
   "metadata": {},
   "source": [
    "## 1.5 Smoothing"
   ]
  },
  {
   "cell_type": "code",
   "execution_count": 81,
   "id": "c1a465f8-af44-4e3e-ba69-6afeb5ad1f7d",
   "metadata": {},
   "outputs": [
    {
     "data": {
      "text/plain": [
       "CompletedProcess(args=['fslmaths', '/home/jovyan/data/NSSP/ds000171/derivatives/preprocessed_data/sub-control01/func/sub-control01_all_task_bold_moco', '-s', '2.547987090198743', '/home/jovyan/data/NSSP/ds000171/derivatives/preprocessed_data/sub-control01/func/sub-control01_all_task_bold_moco_smoothed-6mm'], returncode=0)"
      ]
     },
     "execution_count": 81,
     "metadata": {},
     "output_type": "execute_result"
    }
   ],
   "source": [
    "cmd = 'fslmaths {} -s {} {}_smoothed-6mm'.format(path_moco_data, 6/2.3548, path_moco_data)\n",
    "subprocess.run(['fslmaths',path_moco_data, '-s', str(6/2.3548), '{}_smoothed-6mm'.format(path_moco_data)])"
   ]
  },
  {
   "cell_type": "code",
   "execution_count": 82,
   "id": "71bd78cf-460a-4fb4-ad60-7dc06c4322bb",
   "metadata": {},
   "outputs": [],
   "source": [
    "fsleyesDisplay.resetOverlays()\n",
    "fsleyesDisplay.load(path_moco_data + '_smoothed-6mm')"
   ]
  },
  {
   "cell_type": "markdown",
   "id": "a4bd4bf2-ca4c-4a15-83a6-ba6e0db0754a",
   "metadata": {},
   "source": [
    "# GLM"
   ]
  },
  {
   "cell_type": "markdown",
   "id": "ce260d27-655f-4347-853e-98963ef20bbd",
   "metadata": {},
   "source": [
    "## 1.1 Design Matrix"
   ]
  },
  {
   "cell_type": "code",
   "execution_count": 71,
   "id": "67192878-2bb2-466b-becd-e1bcc9466f47",
   "metadata": {},
   "outputs": [
    {
     "data": {
      "text/html": [
       "<div>\n",
       "<style scoped>\n",
       "    .dataframe tbody tr th:only-of-type {\n",
       "        vertical-align: middle;\n",
       "    }\n",
       "\n",
       "    .dataframe tbody tr th {\n",
       "        vertical-align: top;\n",
       "    }\n",
       "\n",
       "    .dataframe thead th {\n",
       "        text-align: right;\n",
       "    }\n",
       "</style>\n",
       "<table border=\"1\" class=\"dataframe\">\n",
       "  <thead>\n",
       "    <tr style=\"text-align: right;\">\n",
       "      <th></th>\n",
       "      <th>onset</th>\n",
       "      <th>duration</th>\n",
       "      <th>trial_type</th>\n",
       "    </tr>\n",
       "  </thead>\n",
       "  <tbody>\n",
       "    <tr>\n",
       "      <th>0</th>\n",
       "      <td>0.0</td>\n",
       "      <td>33.0</td>\n",
       "      <td>tones</td>\n",
       "    </tr>\n",
       "    <tr>\n",
       "      <th>1</th>\n",
       "      <td>33.0</td>\n",
       "      <td>3.0</td>\n",
       "      <td>response</td>\n",
       "    </tr>\n",
       "    <tr>\n",
       "      <th>2</th>\n",
       "      <td>36.0</td>\n",
       "      <td>31.5</td>\n",
       "      <td>negative_music</td>\n",
       "    </tr>\n",
       "    <tr>\n",
       "      <th>3</th>\n",
       "      <td>67.5</td>\n",
       "      <td>3.0</td>\n",
       "      <td>response</td>\n",
       "    </tr>\n",
       "    <tr>\n",
       "      <th>4</th>\n",
       "      <td>70.5</td>\n",
       "      <td>31.5</td>\n",
       "      <td>tones</td>\n",
       "    </tr>\n",
       "    <tr>\n",
       "      <th>5</th>\n",
       "      <td>102.0</td>\n",
       "      <td>3.0</td>\n",
       "      <td>response</td>\n",
       "    </tr>\n",
       "    <tr>\n",
       "      <th>6</th>\n",
       "      <td>105.0</td>\n",
       "      <td>31.5</td>\n",
       "      <td>positive_music</td>\n",
       "    </tr>\n",
       "    <tr>\n",
       "      <th>7</th>\n",
       "      <td>136.5</td>\n",
       "      <td>3.0</td>\n",
       "      <td>response</td>\n",
       "    </tr>\n",
       "    <tr>\n",
       "      <th>8</th>\n",
       "      <td>139.5</td>\n",
       "      <td>31.5</td>\n",
       "      <td>tones</td>\n",
       "    </tr>\n",
       "    <tr>\n",
       "      <th>9</th>\n",
       "      <td>171.0</td>\n",
       "      <td>3.0</td>\n",
       "      <td>response</td>\n",
       "    </tr>\n",
       "    <tr>\n",
       "      <th>10</th>\n",
       "      <td>174.0</td>\n",
       "      <td>31.5</td>\n",
       "      <td>negative_music</td>\n",
       "    </tr>\n",
       "    <tr>\n",
       "      <th>11</th>\n",
       "      <td>205.5</td>\n",
       "      <td>3.0</td>\n",
       "      <td>response</td>\n",
       "    </tr>\n",
       "    <tr>\n",
       "      <th>12</th>\n",
       "      <td>208.5</td>\n",
       "      <td>31.5</td>\n",
       "      <td>tones</td>\n",
       "    </tr>\n",
       "    <tr>\n",
       "      <th>13</th>\n",
       "      <td>240.0</td>\n",
       "      <td>3.0</td>\n",
       "      <td>response</td>\n",
       "    </tr>\n",
       "    <tr>\n",
       "      <th>14</th>\n",
       "      <td>243.0</td>\n",
       "      <td>31.5</td>\n",
       "      <td>positive_music</td>\n",
       "    </tr>\n",
       "    <tr>\n",
       "      <th>15</th>\n",
       "      <td>274.5</td>\n",
       "      <td>3.0</td>\n",
       "      <td>response</td>\n",
       "    </tr>\n",
       "    <tr>\n",
       "      <th>16</th>\n",
       "      <td>277.5</td>\n",
       "      <td>31.5</td>\n",
       "      <td>tones</td>\n",
       "    </tr>\n",
       "    <tr>\n",
       "      <th>17</th>\n",
       "      <td>309.0</td>\n",
       "      <td>3.0</td>\n",
       "      <td>response</td>\n",
       "    </tr>\n",
       "    <tr>\n",
       "      <th>18</th>\n",
       "      <td>312.0</td>\n",
       "      <td>33.0</td>\n",
       "      <td>tones</td>\n",
       "    </tr>\n",
       "    <tr>\n",
       "      <th>19</th>\n",
       "      <td>345.0</td>\n",
       "      <td>3.0</td>\n",
       "      <td>response</td>\n",
       "    </tr>\n",
       "    <tr>\n",
       "      <th>20</th>\n",
       "      <td>348.0</td>\n",
       "      <td>31.5</td>\n",
       "      <td>positive_music</td>\n",
       "    </tr>\n",
       "    <tr>\n",
       "      <th>21</th>\n",
       "      <td>379.5</td>\n",
       "      <td>3.0</td>\n",
       "      <td>response</td>\n",
       "    </tr>\n",
       "    <tr>\n",
       "      <th>22</th>\n",
       "      <td>382.5</td>\n",
       "      <td>31.5</td>\n",
       "      <td>tones</td>\n",
       "    </tr>\n",
       "    <tr>\n",
       "      <th>23</th>\n",
       "      <td>414.0</td>\n",
       "      <td>3.0</td>\n",
       "      <td>response</td>\n",
       "    </tr>\n",
       "    <tr>\n",
       "      <th>24</th>\n",
       "      <td>417.0</td>\n",
       "      <td>31.5</td>\n",
       "      <td>negative_music</td>\n",
       "    </tr>\n",
       "    <tr>\n",
       "      <th>25</th>\n",
       "      <td>448.5</td>\n",
       "      <td>3.0</td>\n",
       "      <td>response</td>\n",
       "    </tr>\n",
       "    <tr>\n",
       "      <th>26</th>\n",
       "      <td>451.5</td>\n",
       "      <td>31.5</td>\n",
       "      <td>tones</td>\n",
       "    </tr>\n",
       "    <tr>\n",
       "      <th>27</th>\n",
       "      <td>483.0</td>\n",
       "      <td>3.0</td>\n",
       "      <td>response</td>\n",
       "    </tr>\n",
       "    <tr>\n",
       "      <th>28</th>\n",
       "      <td>486.0</td>\n",
       "      <td>31.5</td>\n",
       "      <td>positive_music</td>\n",
       "    </tr>\n",
       "    <tr>\n",
       "      <th>29</th>\n",
       "      <td>517.5</td>\n",
       "      <td>3.0</td>\n",
       "      <td>response</td>\n",
       "    </tr>\n",
       "    <tr>\n",
       "      <th>30</th>\n",
       "      <td>520.5</td>\n",
       "      <td>31.5</td>\n",
       "      <td>tones</td>\n",
       "    </tr>\n",
       "    <tr>\n",
       "      <th>31</th>\n",
       "      <td>552.0</td>\n",
       "      <td>3.0</td>\n",
       "      <td>response</td>\n",
       "    </tr>\n",
       "    <tr>\n",
       "      <th>32</th>\n",
       "      <td>555.0</td>\n",
       "      <td>31.5</td>\n",
       "      <td>negative_music</td>\n",
       "    </tr>\n",
       "    <tr>\n",
       "      <th>33</th>\n",
       "      <td>586.5</td>\n",
       "      <td>3.0</td>\n",
       "      <td>response</td>\n",
       "    </tr>\n",
       "    <tr>\n",
       "      <th>34</th>\n",
       "      <td>589.5</td>\n",
       "      <td>31.5</td>\n",
       "      <td>tones</td>\n",
       "    </tr>\n",
       "    <tr>\n",
       "      <th>35</th>\n",
       "      <td>621.0</td>\n",
       "      <td>3.0</td>\n",
       "      <td>response</td>\n",
       "    </tr>\n",
       "    <tr>\n",
       "      <th>36</th>\n",
       "      <td>624.0</td>\n",
       "      <td>33.0</td>\n",
       "      <td>tones</td>\n",
       "    </tr>\n",
       "    <tr>\n",
       "      <th>37</th>\n",
       "      <td>657.0</td>\n",
       "      <td>3.0</td>\n",
       "      <td>response</td>\n",
       "    </tr>\n",
       "    <tr>\n",
       "      <th>38</th>\n",
       "      <td>660.0</td>\n",
       "      <td>31.5</td>\n",
       "      <td>negative_music</td>\n",
       "    </tr>\n",
       "    <tr>\n",
       "      <th>39</th>\n",
       "      <td>691.5</td>\n",
       "      <td>3.0</td>\n",
       "      <td>response</td>\n",
       "    </tr>\n",
       "    <tr>\n",
       "      <th>40</th>\n",
       "      <td>694.5</td>\n",
       "      <td>31.5</td>\n",
       "      <td>tones</td>\n",
       "    </tr>\n",
       "    <tr>\n",
       "      <th>41</th>\n",
       "      <td>726.0</td>\n",
       "      <td>3.0</td>\n",
       "      <td>response</td>\n",
       "    </tr>\n",
       "    <tr>\n",
       "      <th>42</th>\n",
       "      <td>729.0</td>\n",
       "      <td>31.5</td>\n",
       "      <td>positive_music</td>\n",
       "    </tr>\n",
       "    <tr>\n",
       "      <th>43</th>\n",
       "      <td>760.5</td>\n",
       "      <td>3.0</td>\n",
       "      <td>response</td>\n",
       "    </tr>\n",
       "    <tr>\n",
       "      <th>44</th>\n",
       "      <td>763.5</td>\n",
       "      <td>31.5</td>\n",
       "      <td>tones</td>\n",
       "    </tr>\n",
       "    <tr>\n",
       "      <th>45</th>\n",
       "      <td>795.0</td>\n",
       "      <td>3.0</td>\n",
       "      <td>response</td>\n",
       "    </tr>\n",
       "    <tr>\n",
       "      <th>46</th>\n",
       "      <td>798.0</td>\n",
       "      <td>31.5</td>\n",
       "      <td>negative_music</td>\n",
       "    </tr>\n",
       "    <tr>\n",
       "      <th>47</th>\n",
       "      <td>829.5</td>\n",
       "      <td>3.0</td>\n",
       "      <td>response</td>\n",
       "    </tr>\n",
       "    <tr>\n",
       "      <th>48</th>\n",
       "      <td>832.5</td>\n",
       "      <td>31.5</td>\n",
       "      <td>tones</td>\n",
       "    </tr>\n",
       "    <tr>\n",
       "      <th>49</th>\n",
       "      <td>864.0</td>\n",
       "      <td>3.0</td>\n",
       "      <td>response</td>\n",
       "    </tr>\n",
       "    <tr>\n",
       "      <th>50</th>\n",
       "      <td>867.0</td>\n",
       "      <td>31.5</td>\n",
       "      <td>positive_music</td>\n",
       "    </tr>\n",
       "    <tr>\n",
       "      <th>51</th>\n",
       "      <td>898.5</td>\n",
       "      <td>3.0</td>\n",
       "      <td>response</td>\n",
       "    </tr>\n",
       "    <tr>\n",
       "      <th>52</th>\n",
       "      <td>901.5</td>\n",
       "      <td>31.5</td>\n",
       "      <td>tones</td>\n",
       "    </tr>\n",
       "    <tr>\n",
       "      <th>53</th>\n",
       "      <td>933.0</td>\n",
       "      <td>3.0</td>\n",
       "      <td>response</td>\n",
       "    </tr>\n",
       "  </tbody>\n",
       "</table>\n",
       "</div>"
      ],
      "text/plain": [
       "    onset  duration      trial_type\n",
       "0     0.0      33.0           tones\n",
       "1    33.0       3.0        response\n",
       "2    36.0      31.5  negative_music\n",
       "3    67.5       3.0        response\n",
       "4    70.5      31.5           tones\n",
       "5   102.0       3.0        response\n",
       "6   105.0      31.5  positive_music\n",
       "7   136.5       3.0        response\n",
       "8   139.5      31.5           tones\n",
       "9   171.0       3.0        response\n",
       "10  174.0      31.5  negative_music\n",
       "11  205.5       3.0        response\n",
       "12  208.5      31.5           tones\n",
       "13  240.0       3.0        response\n",
       "14  243.0      31.5  positive_music\n",
       "15  274.5       3.0        response\n",
       "16  277.5      31.5           tones\n",
       "17  309.0       3.0        response\n",
       "18  312.0      33.0           tones\n",
       "19  345.0       3.0        response\n",
       "20  348.0      31.5  positive_music\n",
       "21  379.5       3.0        response\n",
       "22  382.5      31.5           tones\n",
       "23  414.0       3.0        response\n",
       "24  417.0      31.5  negative_music\n",
       "25  448.5       3.0        response\n",
       "26  451.5      31.5           tones\n",
       "27  483.0       3.0        response\n",
       "28  486.0      31.5  positive_music\n",
       "29  517.5       3.0        response\n",
       "30  520.5      31.5           tones\n",
       "31  552.0       3.0        response\n",
       "32  555.0      31.5  negative_music\n",
       "33  586.5       3.0        response\n",
       "34  589.5      31.5           tones\n",
       "35  621.0       3.0        response\n",
       "36  624.0      33.0           tones\n",
       "37  657.0       3.0        response\n",
       "38  660.0      31.5  negative_music\n",
       "39  691.5       3.0        response\n",
       "40  694.5      31.5           tones\n",
       "41  726.0       3.0        response\n",
       "42  729.0      31.5  positive_music\n",
       "43  760.5       3.0        response\n",
       "44  763.5      31.5           tones\n",
       "45  795.0       3.0        response\n",
       "46  798.0      31.5  negative_music\n",
       "47  829.5       3.0        response\n",
       "48  832.5      31.5           tones\n",
       "49  864.0       3.0        response\n",
       "50  867.0      31.5  positive_music\n",
       "51  898.5       3.0        response\n",
       "52  901.5      31.5           tones\n",
       "53  933.0       3.0        response"
      ]
     },
     "execution_count": 71,
     "metadata": {},
     "output_type": "execute_result"
    }
   ],
   "source": [
    "# Load the event data from each run\n",
    "events1 = pd.read_csv(op.join(func_dir, 'sub-control01_task-music_run-1_events.tsv'), sep='\\t')\n",
    "events2 = pd.read_csv(op.join(func_dir, 'sub-control01_task-music_run-2_events.tsv'), sep='\\t')\n",
    "events3 = pd.read_csv(op.join(func_dir, 'sub-control01_task-music_run-3_events.tsv'), sep='\\t')\n",
    "\n",
    "#Adjust onset time for run 2 and 3\n",
    "run1_duration = events1['onset'].max() + events1['duration'].iloc[-1]\n",
    "run2_duration = events2['onset'].max() + events2['duration'].iloc[-1]\n",
    "\n",
    "events2['onset'] += run1_duration\n",
    "events3['onset'] += (run1_duration + run2_duration)\n",
    "\n",
    "# Concatenate the tables\n",
    "combined_events = pd.concat([events1, events2, events3], ignore_index=True)\n",
    "\n",
    "# Save the combined result to a new file or display it\n",
    "combined_events.to_csv(op.join(func_dir, 'combined_events.tsv'), sep='\\t', index=False)\n",
    "combined_events"
   ]
  },
  {
   "cell_type": "code",
   "execution_count": 85,
   "id": "0313e9f4-b163-42d1-ab90-3e5f508fa01a",
   "metadata": {},
   "outputs": [],
   "source": [
    "from nilearn.glm.first_level import make_first_level_design_matrix, FirstLevelModel\n",
    "\n",
    "# Specify what sort of GLM we want (nature of the noise, repetition time of the data and other parameters)\n",
    "fmri_glm = FirstLevelModel(t_r=3,   #found in task-music_bold.json file \n",
    "                           noise_model='ar1',\n",
    "                           standardize=False,\n",
    "                           hrf_model='spm', \n",
    "                           drift_model=None, \n",
    "                           high_pass=.01)\n",
    "\n",
    "# Fit the model to our design and data\n",
    "fmri_glm = fmri_glm.fit(path_moco_data + '_smoothed-6mm.nii.gz', combined_events)"
   ]
  },
  {
   "cell_type": "code",
   "execution_count": 86,
   "id": "9d929a53-77b9-4526-b690-a92ae1edba2d",
   "metadata": {},
   "outputs": [
    {
     "data": {
      "image/png": "[encoded data removed]",
      "text/plain": [
       "<Figure size 215x1000 with 1 Axes>"
      ]
     },
     "metadata": {},
     "output_type": "display_data"
    }
   ],
   "source": [
    "from nilearn.plotting import plot_design_matrix\n",
    "plot_design_matrix(fmri_glm.design_matrices_[0])\n",
    "plt.show()"
   ]
  },
  {
   "cell_type": "code",
   "execution_count": 83,
   "id": "80b3928e-6f09-4b08-a789-93316f9be6ce",
   "metadata": {},
   "outputs": [
    {
     "name": "stdout",
     "output_type": "stream",
     "text": [
      "(80, 80, 50, 315)\n"
     ]
    }
   ],
   "source": [
    "import nibabel as nib\n",
    "\n",
    "# Load the NIfTI file\n",
    "file_path = op.join(preproc_root, 'sub-control01', 'func', 'sub-control01_all_task_bold_moco_smoothed-6mm.nii.gz')\n",
    "fmri_img = nib.load(file_path)\n",
    "\n",
    "print(fmri_img.shape)"
   ]
  },
  {
   "cell_type": "code",
   "execution_count": 91,
   "id": "0dcc580d-94ea-46d7-bea7-0e67f7ea79f6",
   "metadata": {},
   "outputs": [],
   "source": [
    "conditions = {\n",
    "    'negative_music': np.array([1,0,0,0,0]), # Specify the np array, e.g. np.array([2, -1, 0]) to extract active\n",
    "    'positive_music':np.array([0,1,0,0,0]), # Specify the np array, e.g. np.array([2, -1, 0]) to extract rest\n",
    "    'response':np.array([0,0,1,0,0]),\n",
    "    'tones':np.array([0,0,0,1,0])\n",
    "}\n",
    "posi_min_nega = conditions['positive_music'] - conditions['negative_music']"
   ]
  },
  {
   "cell_type": "code",
   "execution_count": 92,
   "id": "3af7b06a-d7b7-4038-854d-8b3e0248297d",
   "metadata": {},
   "outputs": [
    {
     "data": {
      "text/plain": [
       "<Axes: label='conditions'>"
      ]
     },
     "execution_count": 92,
     "metadata": {},
     "output_type": "execute_result"
    },
    {
     "data": {
      "image/png": "[encoded data removed]",
      "text/plain": [
       "<Figure size 200x206 with 1 Axes>"
      ]
     },
     "metadata": {},
     "output_type": "display_data"
    }
   ],
   "source": [
    "from nilearn.plotting import plot_contrast_matrix\n",
    "plot_contrast_matrix(posi_min_nega, design_matrix=fmri_glm.design_matrices_[0])  ####TODO ADD COLOR SCALE"
   ]
  },
  {
   "cell_type": "code",
   "execution_count": 93,
   "id": "f49f168d-e1ea-402c-9c07-3ebe9725ada9",
   "metadata": {},
   "outputs": [],
   "source": [
    "import nibabel as nib\n",
    "z_map = fmri_glm.compute_contrast(posi_min_nega,\n",
    "                                  output_type='z_score')\n",
    "\n",
    "nib.save(z_map, 'z_map_uncorrected.nii.gz')"
   ]
  },
  {
   "cell_type": "code",
   "execution_count": 113,
   "id": "c79a58de-4b73-49fb-a36b-75a70d593f9f",
   "metadata": {},
   "outputs": [
    {
     "data": {
      "image/png": "[encoded data removed]",
      "text/plain": [
       "<Figure size 730x320 with 5 Axes>"
      ]
     },
     "metadata": {},
     "output_type": "display_data"
    }
   ],
   "source": [
    "from nilearn.plotting import plot_stat_map\n",
    "from nilearn.image import mean_img\n",
    "mean_img_ = mean_img(fmri_img),\n",
    "plot_stat_map(z_map, bg_img=mean_img_[0], threshold=1.0,\n",
    "              display_mode='z', cut_coords=[-3,10,20], black_bg=True,\n",
    "              title='Posi_min_nega (Z>3)')\n",
    "plt.show()"
   ]
  },
  {
   "cell_type": "code",
   "execution_count": null,
   "id": "f0a7bbd5-7a24-41bb-9875-d28ae90e1457",
   "metadata": {},
   "outputs": [],
   "source": []
  }
 ],
 "metadata": {
  "kernelspec": {
   "display_name": "Python 3 (ipykernel)",
   "language": "python",
   "name": "python3"
  },
  "language_info": {
   "codemirror_mode": {
    "name": "ipython",
    "version": 3
   },
   "file_extension": ".py",
   "mimetype": "text/x-python",
   "name": "python",
   "nbconvert_exporter": "python",
   "pygments_lexer": "ipython3",
   "version": "3.11.6"
  }
 },
 "nbformat": 4,
 "nbformat_minor": 5
}
